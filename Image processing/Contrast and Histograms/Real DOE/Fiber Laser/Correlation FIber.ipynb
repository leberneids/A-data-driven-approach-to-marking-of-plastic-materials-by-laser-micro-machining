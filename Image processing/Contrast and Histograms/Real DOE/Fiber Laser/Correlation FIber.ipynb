{
 "cells": [
  {
   "cell_type": "code",
   "execution_count": 21,
   "metadata": {},
   "outputs": [],
   "source": [
    "import pandas as pd\n",
    "import numpy as np\n",
    "import matplotlib.pyplot as plt\n",
    "import seaborn as sns\n",
    "from scipy.stats import gaussian_kde\n",
    "import plotly.express as px\n"
   ]
  },
  {
   "cell_type": "code",
   "execution_count": 22,
   "metadata": {},
   "outputs": [],
   "source": [
    "df=pd.read_excel('fIber laser DOE.xlsx')"
   ]
  },
  {
   "cell_type": "code",
   "execution_count": 23,
   "metadata": {},
   "outputs": [
    {
     "data": {
      "text/html": [
       "<div>\n",
       "<style scoped>\n",
       "    .dataframe tbody tr th:only-of-type {\n",
       "        vertical-align: middle;\n",
       "    }\n",
       "\n",
       "    .dataframe tbody tr th {\n",
       "        vertical-align: top;\n",
       "    }\n",
       "\n",
       "    .dataframe thead th {\n",
       "        text-align: right;\n",
       "    }\n",
       "</style>\n",
       "<table border=\"1\" class=\"dataframe\">\n",
       "  <thead>\n",
       "    <tr style=\"text-align: right;\">\n",
       "      <th></th>\n",
       "      <th>Pattern</th>\n",
       "      <th>Laser_Power</th>\n",
       "      <th>Width</th>\n",
       "      <th>Speed</th>\n",
       "      <th>Frequency</th>\n",
       "      <th>LDPE_black</th>\n",
       "      <th>Burned</th>\n",
       "      <th>LDPE_white</th>\n",
       "      <th>PP_black</th>\n",
       "      <th>PP_white</th>\n",
       "      <th>TPE_black</th>\n",
       "      <th>TPE_white</th>\n",
       "      <th>Unnamed: 12</th>\n",
       "      <th>Unnamed: 13</th>\n",
       "      <th>TPE_black.1</th>\n",
       "      <th>Unnamed: 15</th>\n",
       "      <th>Unnamed: 16</th>\n",
       "      <th>Energy_density</th>\n",
       "      <th>Overlap</th>\n",
       "    </tr>\n",
       "  </thead>\n",
       "  <tbody>\n",
       "    <tr>\n",
       "      <th>0</th>\n",
       "      <td>1111</td>\n",
       "      <td>40</td>\n",
       "      <td>0.02</td>\n",
       "      <td>500</td>\n",
       "      <td>30</td>\n",
       "      <td>45.808682</td>\n",
       "      <td>1</td>\n",
       "      <td>19.057068</td>\n",
       "      <td>30.768787</td>\n",
       "      <td>17.467826</td>\n",
       "      <td>22.662246</td>\n",
       "      <td>12.621832</td>\n",
       "      <td>NaN</td>\n",
       "      <td>NaN</td>\n",
       "      <td>22.662246</td>\n",
       "      <td>NaN</td>\n",
       "      <td>NaN</td>\n",
       "      <td>120.957757</td>\n",
       "      <td>16.666667</td>\n",
       "    </tr>\n",
       "    <tr>\n",
       "      <th>1</th>\n",
       "      <td>1112</td>\n",
       "      <td>40</td>\n",
       "      <td>0.02</td>\n",
       "      <td>500</td>\n",
       "      <td>65</td>\n",
       "      <td>42.997455</td>\n",
       "      <td>1</td>\n",
       "      <td>15.545361</td>\n",
       "      <td>24.415184</td>\n",
       "      <td>15.340046</td>\n",
       "      <td>25.600766</td>\n",
       "      <td>9.999441</td>\n",
       "      <td>NaN</td>\n",
       "      <td>NaN</td>\n",
       "      <td>NaN</td>\n",
       "      <td>NaN</td>\n",
       "      <td>NaN</td>\n",
       "      <td>55.826657</td>\n",
       "      <td>61.538462</td>\n",
       "    </tr>\n",
       "    <tr>\n",
       "      <th>2</th>\n",
       "      <td>1113</td>\n",
       "      <td>40</td>\n",
       "      <td>0.02</td>\n",
       "      <td>500</td>\n",
       "      <td>100</td>\n",
       "      <td>44.043127</td>\n",
       "      <td>1</td>\n",
       "      <td>15.618843</td>\n",
       "      <td>28.505997</td>\n",
       "      <td>14.383417</td>\n",
       "      <td>30.165914</td>\n",
       "      <td>9.014141</td>\n",
       "      <td>NaN</td>\n",
       "      <td>NaN</td>\n",
       "      <td>NaN</td>\n",
       "      <td>NaN</td>\n",
       "      <td>NaN</td>\n",
       "      <td>36.287327</td>\n",
       "      <td>75.000000</td>\n",
       "    </tr>\n",
       "    <tr>\n",
       "      <th>3</th>\n",
       "      <td>1121</td>\n",
       "      <td>40</td>\n",
       "      <td>0.02</td>\n",
       "      <td>1250</td>\n",
       "      <td>30</td>\n",
       "      <td>48.075910</td>\n",
       "      <td>1</td>\n",
       "      <td>16.179100</td>\n",
       "      <td>42.978671</td>\n",
       "      <td>29.626424</td>\n",
       "      <td>25.591823</td>\n",
       "      <td>15.367492</td>\n",
       "      <td>NaN</td>\n",
       "      <td>NaN</td>\n",
       "      <td>25.591823</td>\n",
       "      <td>NaN</td>\n",
       "      <td>NaN</td>\n",
       "      <td>120.957757</td>\n",
       "      <td>-108.333333</td>\n",
       "    </tr>\n",
       "    <tr>\n",
       "      <th>4</th>\n",
       "      <td>1122</td>\n",
       "      <td>40</td>\n",
       "      <td>0.02</td>\n",
       "      <td>1250</td>\n",
       "      <td>65</td>\n",
       "      <td>39.756724</td>\n",
       "      <td>1</td>\n",
       "      <td>13.827578</td>\n",
       "      <td>34.894245</td>\n",
       "      <td>22.897307</td>\n",
       "      <td>22.983958</td>\n",
       "      <td>9.616811</td>\n",
       "      <td>NaN</td>\n",
       "      <td>NaN</td>\n",
       "      <td>22.983958</td>\n",
       "      <td>NaN</td>\n",
       "      <td>NaN</td>\n",
       "      <td>55.826657</td>\n",
       "      <td>3.846154</td>\n",
       "    </tr>\n",
       "  </tbody>\n",
       "</table>\n",
       "</div>"
      ],
      "text/plain": [
       "   Pattern  Laser_Power   Width  Speed  Frequency  LDPE_black  Burned  \\\n",
       "0     1111            40   0.02    500         30   45.808682       1   \n",
       "1     1112            40   0.02    500         65   42.997455       1   \n",
       "2     1113            40   0.02    500        100   44.043127       1   \n",
       "3     1121            40   0.02   1250         30   48.075910       1   \n",
       "4     1122            40   0.02   1250         65   39.756724       1   \n",
       "\n",
       "   LDPE_white   PP_black   PP_white  TPE_black  TPE_white  Unnamed: 12  \\\n",
       "0   19.057068  30.768787  17.467826  22.662246  12.621832          NaN   \n",
       "1   15.545361  24.415184  15.340046  25.600766   9.999441          NaN   \n",
       "2   15.618843  28.505997  14.383417  30.165914   9.014141          NaN   \n",
       "3   16.179100  42.978671  29.626424  25.591823  15.367492          NaN   \n",
       "4   13.827578  34.894245  22.897307  22.983958   9.616811          NaN   \n",
       "\n",
       "   Unnamed: 13  TPE_black.1  Unnamed: 15  Unnamed: 16  Energy_density  \\\n",
       "0          NaN    22.662246          NaN          NaN      120.957757   \n",
       "1          NaN          NaN          NaN          NaN       55.826657   \n",
       "2          NaN          NaN          NaN          NaN       36.287327   \n",
       "3          NaN    25.591823          NaN          NaN      120.957757   \n",
       "4          NaN    22.983958          NaN          NaN       55.826657   \n",
       "\n",
       "      Overlap  \n",
       "0   16.666667  \n",
       "1   61.538462  \n",
       "2   75.000000  \n",
       "3 -108.333333  \n",
       "4    3.846154  "
      ]
     },
     "execution_count": 23,
     "metadata": {},
     "output_type": "execute_result"
    }
   ],
   "source": [
    "df.head()"
   ]
  },
  {
   "cell_type": "code",
   "execution_count": 24,
   "metadata": {},
   "outputs": [
    {
     "data": {
      "image/png": "[encoded data removed]",
      "text/plain": [
       "<Figure size 1200x700 with 1 Axes>"
      ]
     },
     "metadata": {},
     "output_type": "display_data"
    }
   ],
   "source": [
    "# Scatter plot with a density overlay and color by 'LDPE_black'\n",
    "plt.figure(figsize=(12, 7))\n",
    "sns.scatterplot(x='Energy_density', y='Overlap', data=df, hue='LDPE_black', alpha=0.5, palette='viridis')\n",
    "\n",
    "# Add title and labels\n",
    "plt.title('Scatter Plot of Overlap vs Energy Density Colored by LDPE black')\n",
    "plt.xlabel('Energy Density')\n",
    "plt.ylabel('Overlap')\n",
    "plt.legend(title='LDPE black', loc='best')  # You can change the location of the legend if needed\n",
    "\n",
    "# Show the plot\n",
    "plt.show()\n"
   ]
  },
  {
   "cell_type": "code",
   "execution_count": 25,
   "metadata": {},
   "outputs": [
    {
     "data": {
      "application/vnd.plotly.v1+json": {
       "config": {
        "plotlyServerURL": "https://plot.ly"
       },
       "data": [
        {
         "hovertemplate": "Energy_density=%{x}<br>LDPE_black=%{marker.color}<br>Overlap=%{z}<extra></extra>",
         "legendgroup": "",
         "marker": {
          "color": [
           45.8086818069038,
           42.9974548733506,
           44.0431266176412,
           48.0759103779874,
           39.7567235689803,
           36.2367116083176,
           55.5376419148446,
           49.4544345612739,
           38.7906205336009,
           46.1067367397912,
           40.9768628343407,
           39.6605408192408,
           51.4632757175985,
           45.5134847310772,
           46.16627985536,
           35.3007078966733,
           28.2721064072936,
           27.3227787432921,
           57.7213748282735,
           48.8607341692201,
           42.7517084565446,
           37.6015486408758,
           30.1175033497998,
           26.382302515443,
           27.3622681695167,
           21.1939758352708,
           19.2613703801582,
           43.8083284039681,
           38.3406272216624,
           35.850703551909,
           35.4767530504137,
           34.9984511120849,
           37.830499332613,
           41.6669913281751,
           37.6139911378123,
           37.8102872423753,
           43.0628979944779,
           36.6266063647937,
           34.3454974489998,
           59.3854221419245,
           45.5499342008792,
           42.8903898283301,
           49.1647316945128,
           51.237988189441,
           52.3417114919673,
           45.5553569913906,
           36.7339006217274,
           34.7027976765824,
           57.007516723851,
           57.1228287243314,
           52.0511064692016,
           48.2900572971375,
           42.5081866274313,
           36.8732946510305,
           36.5233265470034,
           37.3002851730186,
           34.7320362340429,
           41.4427349276091,
           39.9502497580241,
           37.868984771102,
           38.3079633557537,
           37.284447282121,
           38.3186068025334,
           39.7991479779652,
           36.7240297457764,
           35.6364601076093,
           49.0255663940363,
           46.3681560232687,
           42.0175868961943,
           53.6040084640574,
           50.9124568241561,
           50.3976386526346,
           38.3996438688379,
           33.5589889991715,
           32.9396160491674,
           49.0858785312717,
           46.585753348058,
           43.6114111808479,
           51.0558124711927,
           54.9643403735684,
           52.6812700286464
          ],
          "coloraxis": "coloraxis",
          "symbol": "circle"
         },
         "mode": "markers",
         "name": "",
         "scene": "scene",
         "showlegend": false,
         "type": "scatter3d",
         "x": [
          120.95775674984058,
          55.826656961464884,
          36.28732702495218,
          120.95775674984058,
          55.826656961464884,
          36.28732702495218,
          120.95775674984058,
          55.826656961464884,
          36.28732702495218,
          9.874102591823718,
          4.5572781193032545,
          2.9622307775471155,
          9.874102591823718,
          4.5572781193032545,
          2.9622307775471155,
          9.874102591823718,
          4.5572781193032545,
          2.9622307775471155,
          0.03359937687495572,
          0.015507404711518022,
          0.010079813062486715,
          0.03359937687495572,
          0.015507404711518022,
          0.010079813062486715,
          0.03359937687495572,
          0.015507404711518022,
          0.010079813062486715,
          211.676074312221,
          97.69664968256355,
          63.502822293666306,
          211.676074312221,
          97.69664968256355,
          63.502822293666306,
          211.676074312221,
          97.69664968256355,
          63.502822293666306,
          17.279679535691503,
          7.975236708780695,
          5.183903860707452,
          17.279679535691503,
          7.975236708780695,
          5.183903860707452,
          17.279679535691503,
          7.975236708780695,
          5.183903860707452,
          0.058798909531172505,
          0.027137958245156538,
          0.01763967285935175,
          0.058798909531172505,
          0.027137958245156538,
          0.01763967285935175,
          0.058798909531172505,
          0.027137958245156538,
          0.01763967285935175,
          302.3943918746014,
          139.5666424036622,
          90.71831756238043,
          302.3943918746014,
          139.5666424036622,
          90.71831756238043,
          302.3943918746014,
          139.5666424036622,
          90.71831756238043,
          24.685256479559293,
          11.393195298258137,
          7.405576943867788,
          24.685256479559293,
          11.393195298258137,
          7.405576943867788,
          24.685256479559293,
          11.393195298258137,
          7.405576943867788,
          0.08399844218738929,
          0.038768511778795055,
          0.025199532656216786,
          0.08399844218738929,
          0.038768511778795055,
          0.025199532656216786,
          0.08399844218738929,
          0.038768511778795055,
          0.025199532656216786
         ],
         "y": [
          45.8086818069038,
          42.9974548733506,
          44.0431266176412,
          48.0759103779874,
          39.7567235689803,
          36.2367116083176,
          55.5376419148446,
          49.4544345612739,
          38.7906205336009,
          46.1067367397912,
          40.9768628343407,
          39.6605408192408,
          51.4632757175985,
          45.5134847310772,
          46.16627985536,
          35.3007078966733,
          28.2721064072936,
          27.3227787432921,
          57.7213748282735,
          48.8607341692201,
          42.7517084565446,
          37.6015486408758,
          30.1175033497998,
          26.382302515443,
          27.3622681695167,
          21.1939758352708,
          19.2613703801582,
          43.8083284039681,
          38.3406272216624,
          35.850703551909,
          35.4767530504137,
          34.9984511120849,
          37.830499332613,
          41.6669913281751,
          37.6139911378123,
          37.8102872423753,
          43.0628979944779,
          36.6266063647937,
          34.3454974489998,
          59.3854221419245,
          45.5499342008792,
          42.8903898283301,
          49.1647316945128,
          51.237988189441,
          52.3417114919673,
          45.5553569913906,
          36.7339006217274,
          34.7027976765824,
          57.007516723851,
          57.1228287243314,
          52.0511064692016,
          48.2900572971375,
          42.5081866274313,
          36.8732946510305,
          36.5233265470034,
          37.3002851730186,
          34.7320362340429,
          41.4427349276091,
          39.9502497580241,
          37.868984771102,
          38.3079633557537,
          37.284447282121,
          38.3186068025334,
          39.7991479779652,
          36.7240297457764,
          35.6364601076093,
          49.0255663940363,
          46.3681560232687,
          42.0175868961943,
          53.6040084640574,
          50.9124568241561,
          50.3976386526346,
          38.3996438688379,
          33.5589889991715,
          32.9396160491674,
          49.0858785312717,
          46.585753348058,
          43.6114111808479,
          51.0558124711927,
          54.9643403735684,
          52.6812700286464
         ],
         "z": [
          16.666666666666668,
          61.53846153846154,
          75,
          -108.33333333333333,
          3.8461538461538427,
          37.5,
          -233.33333333333331,
          -53.846153846153854,
          0,
          76.1904761904762,
          89.01098901098902,
          92.85714285714285,
          40.47619047619049,
          72.52747252747253,
          82.14285714285715,
          4.761904761904772,
          56.043956043956044,
          71.42857142857143,
          98.61111111111111,
          99.35897435897436,
          99.58333333333334,
          96.52777777777777,
          98.3974358974359,
          98.95833333333334,
          94.44444444444444,
          97.43589743589742,
          98.33333333333333,
          16.666666666666668,
          61.53846153846154,
          75,
          -108.33333333333333,
          3.8461538461538427,
          37.5,
          -233.33333333333331,
          -53.846153846153854,
          0,
          76.1904761904762,
          89.01098901098902,
          92.85714285714285,
          40.47619047619049,
          72.52747252747253,
          82.14285714285715,
          4.761904761904772,
          56.043956043956044,
          71.42857142857143,
          98.61111111111111,
          99.35897435897436,
          99.58333333333334,
          96.52777777777777,
          98.3974358974359,
          98.95833333333334,
          94.44444444444444,
          97.43589743589742,
          98.33333333333333,
          16.666666666666668,
          61.53846153846154,
          75,
          -108.33333333333333,
          3.8461538461538427,
          37.5,
          -233.33333333333331,
          -53.846153846153854,
          0,
          76.1904761904762,
          89.01098901098902,
          92.85714285714285,
          40.47619047619049,
          72.52747252747253,
          82.14285714285715,
          4.761904761904772,
          56.043956043956044,
          71.42857142857143,
          98.61111111111111,
          99.35897435897436,
          99.58333333333334,
          96.52777777777777,
          98.3974358974359,
          98.95833333333334,
          94.44444444444444,
          97.43589743589742,
          98.33333333333333
         ]
        }
       ],
       "layout": {
        "coloraxis": {
         "colorbar": {
          "title": {
           "text": "LDPE_black"
          }
         },
         "colorscale": [
          [
           0,
           "#0d0887"
          ],
          [
           0.1111111111111111,
           "#46039f"
          ],
          [
           0.2222222222222222,
           "#7201a8"
          ],
          [
           0.3333333333333333,
           "#9c179e"
          ],
          [
           0.4444444444444444,
           "#bd3786"
          ],
          [
           0.5555555555555556,
           "#d8576b"
          ],
          [
           0.6666666666666666,
           "#ed7953"
          ],
          [
           0.7777777777777778,
           "#fb9f3a"
          ],
          [
           0.8888888888888888,
           "#fdca26"
          ],
          [
           1,
           "#f0f921"
          ]
         ]
        },
        "legend": {
         "tracegroupgap": 0
        },
        "margin": {
         "t": 60
        },
        "scene": {
         "domain": {
          "x": [
           0,
           1
          ],
          "y": [
           0,
           1
          ]
         },
         "xaxis": {
          "title": {
           "text": "Energy_density"
          }
         },
         "yaxis": {
          "title": {
           "text": "LDPE_black"
          }
         },
         "zaxis": {
          "title": {
           "text": "Overlap"
          }
         }
        },
        "template": {
         "data": {
          "bar": [
           {
            "error_x": {
             "color": "#2a3f5f"
            },
            "error_y": {
             "color": "#2a3f5f"
            },
            "marker": {
             "line": {
              "color": "#E5ECF6",
              "width": 0.5
             },
             "pattern": {
              "fillmode": "overlay",
              "size": 10,
              "solidity": 0.2
             }
            },
            "type": "bar"
           }
          ],
          "barpolar": [
           {
            "marker": {
             "line": {
              "color": "#E5ECF6",
              "width": 0.5
             },
             "pattern": {
              "fillmode": "overlay",
              "size": 10,
              "solidity": 0.2
             }
            },
            "type": "barpolar"
           }
          ],
          "carpet": [
           {
            "aaxis": {
             "endlinecolor": "#2a3f5f",
             "gridcolor": "white",
             "linecolor": "white",
             "minorgridcolor": "white",
             "startlinecolor": "#2a3f5f"
            },
            "baxis": {
             "endlinecolor": "#2a3f5f",
             "gridcolor": "white",
             "linecolor": "white",
             "minorgridcolor": "white",
             "startlinecolor": "#2a3f5f"
            },
            "type": "carpet"
           }
          ],
          "choropleth": [
           {
            "colorbar": {
             "outlinewidth": 0,
             "ticks": ""
            },
            "type": "choropleth"
           }
          ],
          "contour": [
           {
            "colorbar": {
             "outlinewidth": 0,
             "ticks": ""
            },
            "colorscale": [
             [
              0,
              "#0d0887"
             ],
             [
              0.1111111111111111,
              "#46039f"
             ],
             [
              0.2222222222222222,
              "#7201a8"
             ],
             [
              0.3333333333333333,
              "#9c179e"
             ],
             [
              0.4444444444444444,
              "#bd3786"
             ],
             [
              0.5555555555555556,
              "#d8576b"
             ],
             [
              0.6666666666666666,
              "#ed7953"
             ],
             [
              0.7777777777777778,
              "#fb9f3a"
             ],
             [
              0.8888888888888888,
              "#fdca26"
             ],
             [
              1,
              "#f0f921"
             ]
            ],
            "type": "contour"
           }
          ],
          "contourcarpet": [
           {
            "colorbar": {
             "outlinewidth": 0,
             "ticks": ""
            },
            "type": "contourcarpet"
           }
          ],
          "heatmap": [
           {
            "colorbar": {
             "outlinewidth": 0,
             "ticks": ""
            },
            "colorscale": [
             [
              0,
              "#0d0887"
             ],
             [
              0.1111111111111111,
              "#46039f"
             ],
             [
              0.2222222222222222,
              "#7201a8"
             ],
             [
              0.3333333333333333,
              "#9c179e"
             ],
             [
              0.4444444444444444,
              "#bd3786"
             ],
             [
              0.5555555555555556,
              "#d8576b"
             ],
             [
              0.6666666666666666,
              "#ed7953"
             ],
             [
              0.7777777777777778,
              "#fb9f3a"
             ],
             [
              0.8888888888888888,
              "#fdca26"
             ],
             [
              1,
              "#f0f921"
             ]
            ],
            "type": "heatmap"
           }
          ],
          "heatmapgl": [
           {
            "colorbar": {
             "outlinewidth": 0,
             "ticks": ""
            },
            "colorscale": [
             [
              0,
              "#0d0887"
             ],
             [
              0.1111111111111111,
              "#46039f"
             ],
             [
              0.2222222222222222,
              "#7201a8"
             ],
             [
              0.3333333333333333,
              "#9c179e"
             ],
             [
              0.4444444444444444,
              "#bd3786"
             ],
             [
              0.5555555555555556,
              "#d8576b"
             ],
             [
              0.6666666666666666,
              "#ed7953"
             ],
             [
              0.7777777777777778,
              "#fb9f3a"
             ],
             [
              0.8888888888888888,
              "#fdca26"
             ],
             [
              1,
              "#f0f921"
             ]
            ],
            "type": "heatmapgl"
           }
          ],
          "histogram": [
           {
            "marker": {
             "pattern": {
              "fillmode": "overlay",
              "size": 10,
              "solidity": 0.2
             }
            },
            "type": "histogram"
           }
          ],
          "histogram2d": [
           {
            "colorbar": {
             "outlinewidth": 0,
             "ticks": ""
            },
            "colorscale": [
             [
              0,
              "#0d0887"
             ],
             [
              0.1111111111111111,
              "#46039f"
             ],
             [
              0.2222222222222222,
              "#7201a8"
             ],
             [
              0.3333333333333333,
              "#9c179e"
             ],
             [
              0.4444444444444444,
              "#bd3786"
             ],
             [
              0.5555555555555556,
              "#d8576b"
             ],
             [
              0.6666666666666666,
              "#ed7953"
             ],
             [
              0.7777777777777778,
              "#fb9f3a"
             ],
             [
              0.8888888888888888,
              "#fdca26"
             ],
             [
              1,
              "#f0f921"
             ]
            ],
            "type": "histogram2d"
           }
          ],
          "histogram2dcontour": [
           {
            "colorbar": {
             "outlinewidth": 0,
             "ticks": ""
            },
            "colorscale": [
             [
              0,
              "#0d0887"
             ],
             [
              0.1111111111111111,
              "#46039f"
             ],
             [
              0.2222222222222222,
              "#7201a8"
             ],
             [
              0.3333333333333333,
              "#9c179e"
             ],
             [
              0.4444444444444444,
              "#bd3786"
             ],
             [
              0.5555555555555556,
              "#d8576b"
             ],
             [
              0.6666666666666666,
              "#ed7953"
             ],
             [
              0.7777777777777778,
              "#fb9f3a"
             ],
             [
              0.8888888888888888,
              "#fdca26"
             ],
             [
              1,
              "#f0f921"
             ]
            ],
            "type": "histogram2dcontour"
           }
          ],
          "mesh3d": [
           {
            "colorbar": {
             "outlinewidth": 0,
             "ticks": ""
            },
            "type": "mesh3d"
           }
          ],
          "parcoords": [
           {
            "line": {
             "colorbar": {
              "outlinewidth": 0,
              "ticks": ""
             }
            },
            "type": "parcoords"
           }
          ],
          "pie": [
           {
            "automargin": true,
            "type": "pie"
           }
          ],
          "scatter": [
           {
            "fillpattern": {
             "fillmode": "overlay",
             "size": 10,
             "solidity": 0.2
            },
            "type": "scatter"
           }
          ],
          "scatter3d": [
           {
            "line": {
             "colorbar": {
              "outlinewidth": 0,
              "ticks": ""
             }
            },
            "marker": {
             "colorbar": {
              "outlinewidth": 0,
              "ticks": ""
             }
            },
            "type": "scatter3d"
           }
          ],
          "scattercarpet": [
           {
            "marker": {
             "colorbar": {
              "outlinewidth": 0,
              "ticks": ""
             }
            },
            "type": "scattercarpet"
           }
          ],
          "scattergeo": [
           {
            "marker": {
             "colorbar": {
              "outlinewidth": 0,
              "ticks": ""
             }
            },
            "type": "scattergeo"
           }
          ],
          "scattergl": [
           {
            "marker": {
             "colorbar": {
              "outlinewidth": 0,
              "ticks": ""
             }
            },
            "type": "scattergl"
           }
          ],
          "scattermapbox": [
           {
            "marker": {
             "colorbar": {
              "outlinewidth": 0,
              "ticks": ""
             }
            },
            "type": "scattermapbox"
           }
          ],
          "scatterpolar": [
           {
            "marker": {
             "colorbar": {
              "outlinewidth": 0,
              "ticks": ""
             }
            },
            "type": "scatterpolar"
           }
          ],
          "scatterpolargl": [
           {
            "marker": {
             "colorbar": {
              "outlinewidth": 0,
              "ticks": ""
             }
            },
            "type": "scatterpolargl"
           }
          ],
          "scatterternary": [
           {
            "marker": {
             "colorbar": {
              "outlinewidth": 0,
              "ticks": ""
             }
            },
            "type": "scatterternary"
           }
          ],
          "surface": [
           {
            "colorbar": {
             "outlinewidth": 0,
             "ticks": ""
            },
            "colorscale": [
             [
              0,
              "#0d0887"
             ],
             [
              0.1111111111111111,
              "#46039f"
             ],
             [
              0.2222222222222222,
              "#7201a8"
             ],
             [
              0.3333333333333333,
              "#9c179e"
             ],
             [
              0.4444444444444444,
              "#bd3786"
             ],
             [
              0.5555555555555556,
              "#d8576b"
             ],
             [
              0.6666666666666666,
              "#ed7953"
             ],
             [
              0.7777777777777778,
              "#fb9f3a"
             ],
             [
              0.8888888888888888,
              "#fdca26"
             ],
             [
              1,
              "#f0f921"
             ]
            ],
            "type": "surface"
           }
          ],
          "table": [
           {
            "cells": {
             "fill": {
              "color": "#EBF0F8"
             },
             "line": {
              "color": "white"
             }
            },
            "header": {
             "fill": {
              "color": "#C8D4E3"
             },
             "line": {
              "color": "white"
             }
            },
            "type": "table"
           }
          ]
         },
         "layout": {
          "annotationdefaults": {
           "arrowcolor": "#2a3f5f",
           "arrowhead": 0,
           "arrowwidth": 1
          },
          "autotypenumbers": "strict",
          "coloraxis": {
           "colorbar": {
            "outlinewidth": 0,
            "ticks": ""
           }
          },
          "colorscale": {
           "diverging": [
            [
             0,
             "#8e0152"
            ],
            [
             0.1,
             "#c51b7d"
            ],
            [
             0.2,
             "#de77ae"
            ],
            [
             0.3,
             "#f1b6da"
            ],
            [
             0.4,
             "#fde0ef"
            ],
            [
             0.5,
             "#f7f7f7"
            ],
            [
             0.6,
             "#e6f5d0"
            ],
            [
             0.7,
             "#b8e186"
            ],
            [
             0.8,
             "#7fbc41"
            ],
            [
             0.9,
             "#4d9221"
            ],
            [
             1,
             "#276419"
            ]
           ],
           "sequential": [
            [
             0,
             "#0d0887"
            ],
            [
             0.1111111111111111,
             "#46039f"
            ],
            [
             0.2222222222222222,
             "#7201a8"
            ],
            [
             0.3333333333333333,
             "#9c179e"
            ],
            [
             0.4444444444444444,
             "#bd3786"
            ],
            [
             0.5555555555555556,
             "#d8576b"
            ],
            [
             0.6666666666666666,
             "#ed7953"
            ],
            [
             0.7777777777777778,
             "#fb9f3a"
            ],
            [
             0.8888888888888888,
             "#fdca26"
            ],
            [
             1,
             "#f0f921"
            ]
           ],
           "sequentialminus": [
            [
             0,
             "#0d0887"
            ],
            [
             0.1111111111111111,
             "#46039f"
            ],
            [
             0.2222222222222222,
             "#7201a8"
            ],
            [
             0.3333333333333333,
             "#9c179e"
            ],
            [
             0.4444444444444444,
             "#bd3786"
            ],
            [
             0.5555555555555556,
             "#d8576b"
            ],
            [
             0.6666666666666666,
             "#ed7953"
            ],
            [
             0.7777777777777778,
             "#fb9f3a"
            ],
            [
             0.8888888888888888,
             "#fdca26"
            ],
            [
             1,
             "#f0f921"
            ]
           ]
          },
          "colorway": [
           "#636efa",
           "#EF553B",
           "#00cc96",
           "#ab63fa",
           "#FFA15A",
           "#19d3f3",
           "#FF6692",
           "#B6E880",
           "#FF97FF",
           "#FECB52"
          ],
          "font": {
           "color": "#2a3f5f"
          },
          "geo": {
           "bgcolor": "white",
           "lakecolor": "white",
           "landcolor": "#E5ECF6",
           "showlakes": true,
           "showland": true,
           "subunitcolor": "white"
          },
          "hoverlabel": {
           "align": "left"
          },
          "hovermode": "closest",
          "mapbox": {
           "style": "light"
          },
          "paper_bgcolor": "white",
          "plot_bgcolor": "#E5ECF6",
          "polar": {
           "angularaxis": {
            "gridcolor": "white",
            "linecolor": "white",
            "ticks": ""
           },
           "bgcolor": "#E5ECF6",
           "radialaxis": {
            "gridcolor": "white",
            "linecolor": "white",
            "ticks": ""
           }
          },
          "scene": {
           "xaxis": {
            "backgroundcolor": "#E5ECF6",
            "gridcolor": "white",
            "gridwidth": 2,
            "linecolor": "white",
            "showbackground": true,
            "ticks": "",
            "zerolinecolor": "white"
           },
           "yaxis": {
            "backgroundcolor": "#E5ECF6",
            "gridcolor": "white",
            "gridwidth": 2,
            "linecolor": "white",
            "showbackground": true,
            "ticks": "",
            "zerolinecolor": "white"
           },
           "zaxis": {
            "backgroundcolor": "#E5ECF6",
            "gridcolor": "white",
            "gridwidth": 2,
            "linecolor": "white",
            "showbackground": true,
            "ticks": "",
            "zerolinecolor": "white"
           }
          },
          "shapedefaults": {
           "line": {
            "color": "#2a3f5f"
           }
          },
          "ternary": {
           "aaxis": {
            "gridcolor": "white",
            "linecolor": "white",
            "ticks": ""
           },
           "baxis": {
            "gridcolor": "white",
            "linecolor": "white",
            "ticks": ""
           },
           "bgcolor": "#E5ECF6",
           "caxis": {
            "gridcolor": "white",
            "linecolor": "white",
            "ticks": ""
           }
          },
          "title": {
           "x": 0.05
          },
          "xaxis": {
           "automargin": true,
           "gridcolor": "white",
           "linecolor": "white",
           "ticks": "",
           "title": {
            "standoff": 15
           },
           "zerolinecolor": "white",
           "zerolinewidth": 2
          },
          "yaxis": {
           "automargin": true,
           "gridcolor": "white",
           "linecolor": "white",
           "ticks": "",
           "title": {
            "standoff": 15
           },
           "zerolinecolor": "white",
           "zerolinewidth": 2
          }
         }
        }
       }
      }
     },
     "metadata": {},
     "output_type": "display_data"
    }
   ],
   "source": [
    "fig = px.scatter_3d(df, x='Energy_density', y='LDPE_black', z='Overlap',\n",
    "              color='LDPE_black')\n",
    "fig.show()"
   ]
  },
  {
   "cell_type": "code",
   "execution_count": 26,
   "metadata": {},
   "outputs": [
    {
     "data": {
      "application/vnd.plotly.v1+json": {
       "config": {
        "plotlyServerURL": "https://plot.ly"
       },
       "data": [
        {
         "hovertemplate": "Energy_density=%{x}<br>LDPE_white=%{marker.color}<br>Overlap=%{z}<extra></extra>",
         "legendgroup": "",
         "marker": {
          "color": [
           19.0570684182761,
           15.5453614197985,
           15.6188428725432,
           16.1791002521535,
           13.8275782109807,
           13.4379434485902,
           22.986843937019,
           14.467873097406,
           11.9393981209794,
           24.4848212815193,
           16.6667542989591,
           11.127549346755,
           19.3766538173647,
           13.4804115856902,
           10.3116416485636,
           15.6930512062583,
           9.74408898045175,
           9.5789014228035,
           18.5682746049305,
           10.3697072503837,
           9.15784434245769,
           15.6674919872584,
           10.559194718085,
           8.63207359636,
           11.7655644037838,
           8.88109176563533,
           7.91584646820615,
           23.9032478150877,
           19.4597937876545,
           18.8431756242396,
           18.7231154776398,
           17.1864068767819,
           12.6010265390226,
           17.6790970382824,
           16.3924082677769,
           14.9915466299215,
           21.473105276071,
           19.2473511926414,
           17.0229162842259,
           21.6090896658586,
           15.2899184550026,
           12.4131174751681,
           19.2666155245732,
           16.3753922385393,
           13.5731603377159,
           21.9016183935103,
           17.687946632691,
           12.5409284469477,
           22.1031807003864,
           15.7576481413272,
           11.6958155900691,
           20.9719124616441,
           14.9478112508673,
           12.9211095564591,
           26.4223362574301,
           24.6227423866851,
           25.8327039087333,
           22.589808823153,
           18.1206031415066,
           16.6124644871014,
           21.8572126243543,
           16.9829060001842,
           14.4267524738434,
           23.4860589337304,
           17.3885148486939,
           17.2330257016137,
           35.9808616995166,
           23.8841341479153,
           17.5001058394583,
           28.5021091583782,
           22.5061517994068,
           14.138931228008,
           27.4423624646873,
           22.3212088856302,
           20.5654016929703,
           26.7176674238796,
           20.296821902224,
           13.6443102937619,
           25.732578249431,
           17.6547864553446,
           12.7650756166209
          ],
          "coloraxis": "coloraxis",
          "symbol": "circle"
         },
         "mode": "markers",
         "name": "",
         "scene": "scene",
         "showlegend": false,
         "type": "scatter3d",
         "x": [
          120.95775674984058,
          55.826656961464884,
          36.28732702495218,
          120.95775674984058,
          55.826656961464884,
          36.28732702495218,
          120.95775674984058,
          55.826656961464884,
          36.28732702495218,
          9.874102591823718,
          4.5572781193032545,
          2.9622307775471155,
          9.874102591823718,
          4.5572781193032545,
          2.9622307775471155,
          9.874102591823718,
          4.5572781193032545,
          2.9622307775471155,
          0.03359937687495572,
          0.015507404711518022,
          0.010079813062486715,
          0.03359937687495572,
          0.015507404711518022,
          0.010079813062486715,
          0.03359937687495572,
          0.015507404711518022,
          0.010079813062486715,
          211.676074312221,
          97.69664968256355,
          63.502822293666306,
          211.676074312221,
          97.69664968256355,
          63.502822293666306,
          211.676074312221,
          97.69664968256355,
          63.502822293666306,
          17.279679535691503,
          7.975236708780695,
          5.183903860707452,
          17.279679535691503,
          7.975236708780695,
          5.183903860707452,
          17.279679535691503,
          7.975236708780695,
          5.183903860707452,
          0.058798909531172505,
          0.027137958245156538,
          0.01763967285935175,
          0.058798909531172505,
          0.027137958245156538,
          0.01763967285935175,
          0.058798909531172505,
          0.027137958245156538,
          0.01763967285935175,
          302.3943918746014,
          139.5666424036622,
          90.71831756238043,
          302.3943918746014,
          139.5666424036622,
          90.71831756238043,
          302.3943918746014,
          139.5666424036622,
          90.71831756238043,
          24.685256479559293,
          11.393195298258137,
          7.405576943867788,
          24.685256479559293,
          11.393195298258137,
          7.405576943867788,
          24.685256479559293,
          11.393195298258137,
          7.405576943867788,
          0.08399844218738929,
          0.038768511778795055,
          0.025199532656216786,
          0.08399844218738929,
          0.038768511778795055,
          0.025199532656216786,
          0.08399844218738929,
          0.038768511778795055,
          0.025199532656216786
         ],
         "y": [
          19.0570684182761,
          15.5453614197985,
          15.6188428725432,
          16.1791002521535,
          13.8275782109807,
          13.4379434485902,
          22.986843937019,
          14.467873097406,
          11.9393981209794,
          24.4848212815193,
          16.6667542989591,
          11.127549346755,
          19.3766538173647,
          13.4804115856902,
          10.3116416485636,
          15.6930512062583,
          9.74408898045175,
          9.5789014228035,
          18.5682746049305,
          10.3697072503837,
          9.15784434245769,
          15.6674919872584,
          10.559194718085,
          8.63207359636,
          11.7655644037838,
          8.88109176563533,
          7.91584646820615,
          23.9032478150877,
          19.4597937876545,
          18.8431756242396,
          18.7231154776398,
          17.1864068767819,
          12.6010265390226,
          17.6790970382824,
          16.3924082677769,
          14.9915466299215,
          21.473105276071,
          19.2473511926414,
          17.0229162842259,
          21.6090896658586,
          15.2899184550026,
          12.4131174751681,
          19.2666155245732,
          16.3753922385393,
          13.5731603377159,
          21.9016183935103,
          17.687946632691,
          12.5409284469477,
          22.1031807003864,
          15.7576481413272,
          11.6958155900691,
          20.9719124616441,
          14.9478112508673,
          12.9211095564591,
          26.4223362574301,
          24.6227423866851,
          25.8327039087333,
          22.589808823153,
          18.1206031415066,
          16.6124644871014,
          21.8572126243543,
          16.9829060001842,
          14.4267524738434,
          23.4860589337304,
          17.3885148486939,
          17.2330257016137,
          35.9808616995166,
          23.8841341479153,
          17.5001058394583,
          28.5021091583782,
          22.5061517994068,
          14.138931228008,
          27.4423624646873,
          22.3212088856302,
          20.5654016929703,
          26.7176674238796,
          20.296821902224,
          13.6443102937619,
          25.732578249431,
          17.6547864553446,
          12.7650756166209
         ],
         "z": [
          16.666666666666668,
          61.53846153846154,
          75,
          -108.33333333333333,
          3.8461538461538427,
          37.5,
          -233.33333333333331,
          -53.846153846153854,
          0,
          76.1904761904762,
          89.01098901098902,
          92.85714285714285,
          40.47619047619049,
          72.52747252747253,
          82.14285714285715,
          4.761904761904772,
          56.043956043956044,
          71.42857142857143,
          98.61111111111111,
          99.35897435897436,
          99.58333333333334,
          96.52777777777777,
          98.3974358974359,
          98.95833333333334,
          94.44444444444444,
          97.43589743589742,
          98.33333333333333,
          16.666666666666668,
          61.53846153846154,
          75,
          -108.33333333333333,
          3.8461538461538427,
          37.5,
          -233.33333333333331,
          -53.846153846153854,
          0,
          76.1904761904762,
          89.01098901098902,
          92.85714285714285,
          40.47619047619049,
          72.52747252747253,
          82.14285714285715,
          4.761904761904772,
          56.043956043956044,
          71.42857142857143,
          98.61111111111111,
          99.35897435897436,
          99.58333333333334,
          96.52777777777777,
          98.3974358974359,
          98.95833333333334,
          94.44444444444444,
          97.43589743589742,
          98.33333333333333,
          16.666666666666668,
          61.53846153846154,
          75,
          -108.33333333333333,
          3.8461538461538427,
          37.5,
          -233.33333333333331,
          -53.846153846153854,
          0,
          76.1904761904762,
          89.01098901098902,
          92.85714285714285,
          40.47619047619049,
          72.52747252747253,
          82.14285714285715,
          4.761904761904772,
          56.043956043956044,
          71.42857142857143,
          98.61111111111111,
          99.35897435897436,
          99.58333333333334,
          96.52777777777777,
          98.3974358974359,
          98.95833333333334,
          94.44444444444444,
          97.43589743589742,
          98.33333333333333
         ]
        }
       ],
       "layout": {
        "coloraxis": {
         "colorbar": {
          "title": {
           "text": "LDPE_white"
          }
         },
         "colorscale": [
          [
           0,
           "#0d0887"
          ],
          [
           0.1111111111111111,
           "#46039f"
          ],
          [
           0.2222222222222222,
           "#7201a8"
          ],
          [
           0.3333333333333333,
           "#9c179e"
          ],
          [
           0.4444444444444444,
           "#bd3786"
          ],
          [
           0.5555555555555556,
           "#d8576b"
          ],
          [
           0.6666666666666666,
           "#ed7953"
          ],
          [
           0.7777777777777778,
           "#fb9f3a"
          ],
          [
           0.8888888888888888,
           "#fdca26"
          ],
          [
           1,
           "#f0f921"
          ]
         ]
        },
        "legend": {
         "tracegroupgap": 0
        },
        "margin": {
         "t": 60
        },
        "scene": {
         "domain": {
          "x": [
           0,
           1
          ],
          "y": [
           0,
           1
          ]
         },
         "xaxis": {
          "title": {
           "text": "Energy_density"
          }
         },
         "yaxis": {
          "title": {
           "text": "LDPE_white"
          }
         },
         "zaxis": {
          "title": {
           "text": "Overlap"
          }
         }
        },
        "template": {
         "data": {
          "bar": [
           {
            "error_x": {
             "color": "#2a3f5f"
            },
            "error_y": {
             "color": "#2a3f5f"
            },
            "marker": {
             "line": {
              "color": "#E5ECF6",
              "width": 0.5
             },
             "pattern": {
              "fillmode": "overlay",
              "size": 10,
              "solidity": 0.2
             }
            },
            "type": "bar"
           }
          ],
          "barpolar": [
           {
            "marker": {
             "line": {
              "color": "#E5ECF6",
              "width": 0.5
             },
             "pattern": {
              "fillmode": "overlay",
              "size": 10,
              "solidity": 0.2
             }
            },
            "type": "barpolar"
           }
          ],
          "carpet": [
           {
            "aaxis": {
             "endlinecolor": "#2a3f5f",
             "gridcolor": "white",
             "linecolor": "white",
             "minorgridcolor": "white",
             "startlinecolor": "#2a3f5f"
            },
            "baxis": {
             "endlinecolor": "#2a3f5f",
             "gridcolor": "white",
             "linecolor": "white",
             "minorgridcolor": "white",
             "startlinecolor": "#2a3f5f"
            },
            "type": "carpet"
           }
          ],
          "choropleth": [
           {
            "colorbar": {
             "outlinewidth": 0,
             "ticks": ""
            },
            "type": "choropleth"
           }
          ],
          "contour": [
           {
            "colorbar": {
             "outlinewidth": 0,
             "ticks": ""
            },
            "colorscale": [
             [
              0,
              "#0d0887"
             ],
             [
              0.1111111111111111,
              "#46039f"
             ],
             [
              0.2222222222222222,
              "#7201a8"
             ],
             [
              0.3333333333333333,
              "#9c179e"
             ],
             [
              0.4444444444444444,
              "#bd3786"
             ],
             [
              0.5555555555555556,
              "#d8576b"
             ],
             [
              0.6666666666666666,
              "#ed7953"
             ],
             [
              0.7777777777777778,
              "#fb9f3a"
             ],
             [
              0.8888888888888888,
              "#fdca26"
             ],
             [
              1,
              "#f0f921"
             ]
            ],
            "type": "contour"
           }
          ],
          "contourcarpet": [
           {
            "colorbar": {
             "outlinewidth": 0,
             "ticks": ""
            },
            "type": "contourcarpet"
           }
          ],
          "heatmap": [
           {
            "colorbar": {
             "outlinewidth": 0,
             "ticks": ""
            },
            "colorscale": [
             [
              0,
              "#0d0887"
             ],
             [
              0.1111111111111111,
              "#46039f"
             ],
             [
              0.2222222222222222,
              "#7201a8"
             ],
             [
              0.3333333333333333,
              "#9c179e"
             ],
             [
              0.4444444444444444,
              "#bd3786"
             ],
             [
              0.5555555555555556,
              "#d8576b"
             ],
             [
              0.6666666666666666,
              "#ed7953"
             ],
             [
              0.7777777777777778,
              "#fb9f3a"
             ],
             [
              0.8888888888888888,
              "#fdca26"
             ],
             [
              1,
              "#f0f921"
             ]
            ],
            "type": "heatmap"
           }
          ],
          "heatmapgl": [
           {
            "colorbar": {
             "outlinewidth": 0,
             "ticks": ""
            },
            "colorscale": [
             [
              0,
              "#0d0887"
             ],
             [
              0.1111111111111111,
              "#46039f"
             ],
             [
              0.2222222222222222,
              "#7201a8"
             ],
             [
              0.3333333333333333,
              "#9c179e"
             ],
             [
              0.4444444444444444,
              "#bd3786"
             ],
             [
              0.5555555555555556,
              "#d8576b"
             ],
             [
              0.6666666666666666,
              "#ed7953"
             ],
             [
              0.7777777777777778,
              "#fb9f3a"
             ],
             [
              0.8888888888888888,
              "#fdca26"
             ],
             [
              1,
              "#f0f921"
             ]
            ],
            "type": "heatmapgl"
           }
          ],
          "histogram": [
           {
            "marker": {
             "pattern": {
              "fillmode": "overlay",
              "size": 10,
              "solidity": 0.2
             }
            },
            "type": "histogram"
           }
          ],
          "histogram2d": [
           {
            "colorbar": {
             "outlinewidth": 0,
             "ticks": ""
            },
            "colorscale": [
             [
              0,
              "#0d0887"
             ],
             [
              0.1111111111111111,
              "#46039f"
             ],
             [
              0.2222222222222222,
              "#7201a8"
             ],
             [
              0.3333333333333333,
              "#9c179e"
             ],
             [
              0.4444444444444444,
              "#bd3786"
             ],
             [
              0.5555555555555556,
              "#d8576b"
             ],
             [
              0.6666666666666666,
              "#ed7953"
             ],
             [
              0.7777777777777778,
              "#fb9f3a"
             ],
             [
              0.8888888888888888,
              "#fdca26"
             ],
             [
              1,
              "#f0f921"
             ]
            ],
            "type": "histogram2d"
           }
          ],
          "histogram2dcontour": [
           {
            "colorbar": {
             "outlinewidth": 0,
             "ticks": ""
            },
            "colorscale": [
             [
              0,
              "#0d0887"
             ],
             [
              0.1111111111111111,
              "#46039f"
             ],
             [
              0.2222222222222222,
              "#7201a8"
             ],
             [
              0.3333333333333333,
              "#9c179e"
             ],
             [
              0.4444444444444444,
              "#bd3786"
             ],
             [
              0.5555555555555556,
              "#d8576b"
             ],
             [
              0.6666666666666666,
              "#ed7953"
             ],
             [
              0.7777777777777778,
              "#fb9f3a"
             ],
             [
              0.8888888888888888,
              "#fdca26"
             ],
             [
              1,
              "#f0f921"
             ]
            ],
            "type": "histogram2dcontour"
           }
          ],
          "mesh3d": [
           {
            "colorbar": {
             "outlinewidth": 0,
             "ticks": ""
            },
            "type": "mesh3d"
           }
          ],
          "parcoords": [
           {
            "line": {
             "colorbar": {
              "outlinewidth": 0,
              "ticks": ""
             }
            },
            "type": "parcoords"
           }
          ],
          "pie": [
           {
            "automargin": true,
            "type": "pie"
           }
          ],
          "scatter": [
           {
            "fillpattern": {
             "fillmode": "overlay",
             "size": 10,
             "solidity": 0.2
            },
            "type": "scatter"
           }
          ],
          "scatter3d": [
           {
            "line": {
             "colorbar": {
              "outlinewidth": 0,
              "ticks": ""
             }
            },
            "marker": {
             "colorbar": {
              "outlinewidth": 0,
              "ticks": ""
             }
            },
            "type": "scatter3d"
           }
          ],
          "scattercarpet": [
           {
            "marker": {
             "colorbar": {
              "outlinewidth": 0,
              "ticks": ""
             }
            },
            "type": "scattercarpet"
           }
          ],
          "scattergeo": [
           {
            "marker": {
             "colorbar": {
              "outlinewidth": 0,
              "ticks": ""
             }
            },
            "type": "scattergeo"
           }
          ],
          "scattergl": [
           {
            "marker": {
             "colorbar": {
              "outlinewidth": 0,
              "ticks": ""
             }
            },
            "type": "scattergl"
           }
          ],
          "scattermapbox": [
           {
            "marker": {
             "colorbar": {
              "outlinewidth": 0,
              "ticks": ""
             }
            },
            "type": "scattermapbox"
           }
          ],
          "scatterpolar": [
           {
            "marker": {
             "colorbar": {
              "outlinewidth": 0,
              "ticks": ""
             }
            },
            "type": "scatterpolar"
           }
          ],
          "scatterpolargl": [
           {
            "marker": {
             "colorbar": {
              "outlinewidth": 0,
              "ticks": ""
             }
            },
            "type": "scatterpolargl"
           }
          ],
          "scatterternary": [
           {
            "marker": {
             "colorbar": {
              "outlinewidth": 0,
              "ticks": ""
             }
            },
            "type": "scatterternary"
           }
          ],
          "surface": [
           {
            "colorbar": {
             "outlinewidth": 0,
             "ticks": ""
            },
            "colorscale": [
             [
              0,
              "#0d0887"
             ],
             [
              0.1111111111111111,
              "#46039f"
             ],
             [
              0.2222222222222222,
              "#7201a8"
             ],
             [
              0.3333333333333333,
              "#9c179e"
             ],
             [
              0.4444444444444444,
              "#bd3786"
             ],
             [
              0.5555555555555556,
              "#d8576b"
             ],
             [
              0.6666666666666666,
              "#ed7953"
             ],
             [
              0.7777777777777778,
              "#fb9f3a"
             ],
             [
              0.8888888888888888,
              "#fdca26"
             ],
             [
              1,
              "#f0f921"
             ]
            ],
            "type": "surface"
           }
          ],
          "table": [
           {
            "cells": {
             "fill": {
              "color": "#EBF0F8"
             },
             "line": {
              "color": "white"
             }
            },
            "header": {
             "fill": {
              "color": "#C8D4E3"
             },
             "line": {
              "color": "white"
             }
            },
            "type": "table"
           }
          ]
         },
         "layout": {
          "annotationdefaults": {
           "arrowcolor": "#2a3f5f",
           "arrowhead": 0,
           "arrowwidth": 1
          },
          "autotypenumbers": "strict",
          "coloraxis": {
           "colorbar": {
            "outlinewidth": 0,
            "ticks": ""
           }
          },
          "colorscale": {
           "diverging": [
            [
             0,
             "#8e0152"
            ],
            [
             0.1,
             "#c51b7d"
            ],
            [
             0.2,
             "#de77ae"
            ],
            [
             0.3,
             "#f1b6da"
            ],
            [
             0.4,
             "#fde0ef"
            ],
            [
             0.5,
             "#f7f7f7"
            ],
            [
             0.6,
             "#e6f5d0"
            ],
            [
             0.7,
             "#b8e186"
            ],
            [
             0.8,
             "#7fbc41"
            ],
            [
             0.9,
             "#4d9221"
            ],
            [
             1,
             "#276419"
            ]
           ],
           "sequential": [
            [
             0,
             "#0d0887"
            ],
            [
             0.1111111111111111,
             "#46039f"
            ],
            [
             0.2222222222222222,
             "#7201a8"
            ],
            [
             0.3333333333333333,
             "#9c179e"
            ],
            [
             0.4444444444444444,
             "#bd3786"
            ],
            [
             0.5555555555555556,
             "#d8576b"
            ],
            [
             0.6666666666666666,
             "#ed7953"
            ],
            [
             0.7777777777777778,
             "#fb9f3a"
            ],
            [
             0.8888888888888888,
             "#fdca26"
            ],
            [
             1,
             "#f0f921"
            ]
           ],
           "sequentialminus": [
            [
             0,
             "#0d0887"
            ],
            [
             0.1111111111111111,
             "#46039f"
            ],
            [
             0.2222222222222222,
             "#7201a8"
            ],
            [
             0.3333333333333333,
             "#9c179e"
            ],
            [
             0.4444444444444444,
             "#bd3786"
            ],
            [
             0.5555555555555556,
             "#d8576b"
            ],
            [
             0.6666666666666666,
             "#ed7953"
            ],
            [
             0.7777777777777778,
             "#fb9f3a"
            ],
            [
             0.8888888888888888,
             "#fdca26"
            ],
            [
             1,
             "#f0f921"
            ]
           ]
          },
          "colorway": [
           "#636efa",
           "#EF553B",
           "#00cc96",
           "#ab63fa",
           "#FFA15A",
           "#19d3f3",
           "#FF6692",
           "#B6E880",
           "#FF97FF",
           "#FECB52"
          ],
          "font": {
           "color": "#2a3f5f"
          },
          "geo": {
           "bgcolor": "white",
           "lakecolor": "white",
           "landcolor": "#E5ECF6",
           "showlakes": true,
           "showland": true,
           "subunitcolor": "white"
          },
          "hoverlabel": {
           "align": "left"
          },
          "hovermode": "closest",
          "mapbox": {
           "style": "light"
          },
          "paper_bgcolor": "white",
          "plot_bgcolor": "#E5ECF6",
          "polar": {
           "angularaxis": {
            "gridcolor": "white",
            "linecolor": "white",
            "ticks": ""
           },
           "bgcolor": "#E5ECF6",
           "radialaxis": {
            "gridcolor": "white",
            "linecolor": "white",
            "ticks": ""
           }
          },
          "scene": {
           "xaxis": {
            "backgroundcolor": "#E5ECF6",
            "gridcolor": "white",
            "gridwidth": 2,
            "linecolor": "white",
            "showbackground": true,
            "ticks": "",
            "zerolinecolor": "white"
           },
           "yaxis": {
            "backgroundcolor": "#E5ECF6",
            "gridcolor": "white",
            "gridwidth": 2,
            "linecolor": "white",
            "showbackground": true,
            "ticks": "",
            "zerolinecolor": "white"
           },
           "zaxis": {
            "backgroundcolor": "#E5ECF6",
            "gridcolor": "white",
            "gridwidth": 2,
            "linecolor": "white",
            "showbackground": true,
            "ticks": "",
            "zerolinecolor": "white"
           }
          },
          "shapedefaults": {
           "line": {
            "color": "#2a3f5f"
           }
          },
          "ternary": {
           "aaxis": {
            "gridcolor": "white",
            "linecolor": "white",
            "ticks": ""
           },
           "baxis": {
            "gridcolor": "white",
            "linecolor": "white",
            "ticks": ""
           },
           "bgcolor": "#E5ECF6",
           "caxis": {
            "gridcolor": "white",
            "linecolor": "white",
            "ticks": ""
           }
          },
          "title": {
           "x": 0.05
          },
          "xaxis": {
           "automargin": true,
           "gridcolor": "white",
           "linecolor": "white",
           "ticks": "",
           "title": {
            "standoff": 15
           },
           "zerolinecolor": "white",
           "zerolinewidth": 2
          },
          "yaxis": {
           "automargin": true,
           "gridcolor": "white",
           "linecolor": "white",
           "ticks": "",
           "title": {
            "standoff": 15
           },
           "zerolinecolor": "white",
           "zerolinewidth": 2
          }
         }
        }
       }
      }
     },
     "metadata": {},
     "output_type": "display_data"
    }
   ],
   "source": [
    "fig = px.scatter_3d(df, x='Energy_density', y='LDPE_white', z='Overlap',\n",
    "              color='LDPE_white')\n",
    "fig.show()"
   ]
  },
  {
   "cell_type": "code",
   "execution_count": 27,
   "metadata": {},
   "outputs": [
    {
     "data": {
      "application/vnd.plotly.v1+json": {
       "config": {
        "plotlyServerURL": "https://plot.ly"
       },
       "data": [
        {
         "hovertemplate": "Energy_density=%{x}<br>PP_black=%{marker.color}<br>Overlap=%{z}<extra></extra>",
         "legendgroup": "",
         "marker": {
          "color": [
           30.7687869224232,
           24.415183737494,
           28.5059972738543,
           42.9786708703342,
           34.8942452632814,
           32.2225681498577,
           44.9934128676147,
           41.6008381764424,
           32.7699394504351,
           43.2691458634823,
           38.6111954710309,
           36.691913210836,
           41.3988928580058,
           48.0468526405884,
           47.8636208758829,
           48.3354573242483,
           55.2853845780924,
           47.5081547192465,
           54.9833622866314,
           47.6634820248487,
           44.9854433096308,
           44.2577384444543,
           39.9806421506372,
           42.6905471762427,
           48.2054021839439,
           47.786991459896,
           42.5768496858822,
           38.378562187595,
           34.0959403502693,
           26.585231795106,
           24.2772629088356,
           23.0875696871055,
           31.9691893443118,
           41.9243659648217,
           39.011822491811,
           37.1380557635153,
           42.4556853991143,
           36.4850603383813,
           36.1571331067799,
           40.6372459925556,
           38.5067776675664,
           39.0876139279546,
           37.8430820225275,
           46.5995306290407,
           44.8020946920697,
           46.7847361219045,
           40.0593714749366,
           37.1160762797916,
           36.743865989593,
           40.4110614893867,
           41.740252566523,
           42.0430122452016,
           44.3432858210401,
           40.3253146818826,
           17.419036265118,
           18.1574120219273,
           23.2211030796657,
           25.5572136429901,
           29.1169317671762,
           30.6366820114023,
           30.2718546322264,
           24.4791351273157,
           27.9075719871661,
           31.4449719166025,
           36.2284305985193,
           35.1708722794749,
           43.7353406645416,
           48.1432423192879,
           44.8551747720702,
           37.5757453340702,
           41.175092060525,
           46.1009137975795,
           43.9620750837605,
           36.7590563918739,
           36.0239856759713,
           38.057886415074,
           44.6936172670456,
           45.0232380719002,
           38.0899356430432,
           43.1063159376061,
           45.138668708732
          ],
          "coloraxis": "coloraxis",
          "symbol": "circle"
         },
         "mode": "markers",
         "name": "",
         "scene": "scene",
         "showlegend": false,
         "type": "scatter3d",
         "x": [
          120.95775674984058,
          55.826656961464884,
          36.28732702495218,
          120.95775674984058,
          55.826656961464884,
          36.28732702495218,
          120.95775674984058,
          55.826656961464884,
          36.28732702495218,
          9.874102591823718,
          4.5572781193032545,
          2.9622307775471155,
          9.874102591823718,
          4.5572781193032545,
          2.9622307775471155,
          9.874102591823718,
          4.5572781193032545,
          2.9622307775471155,
          0.03359937687495572,
          0.015507404711518022,
          0.010079813062486715,
          0.03359937687495572,
          0.015507404711518022,
          0.010079813062486715,
          0.03359937687495572,
          0.015507404711518022,
          0.010079813062486715,
          211.676074312221,
          97.69664968256355,
          63.502822293666306,
          211.676074312221,
          97.69664968256355,
          63.502822293666306,
          211.676074312221,
          97.69664968256355,
          63.502822293666306,
          17.279679535691503,
          7.975236708780695,
          5.183903860707452,
          17.279679535691503,
          7.975236708780695,
          5.183903860707452,
          17.279679535691503,
          7.975236708780695,
          5.183903860707452,
          0.058798909531172505,
          0.027137958245156538,
          0.01763967285935175,
          0.058798909531172505,
          0.027137958245156538,
          0.01763967285935175,
          0.058798909531172505,
          0.027137958245156538,
          0.01763967285935175,
          302.3943918746014,
          139.5666424036622,
          90.71831756238043,
          302.3943918746014,
          139.5666424036622,
          90.71831756238043,
          302.3943918746014,
          139.5666424036622,
          90.71831756238043,
          24.685256479559293,
          11.393195298258137,
          7.405576943867788,
          24.685256479559293,
          11.393195298258137,
          7.405576943867788,
          24.685256479559293,
          11.393195298258137,
          7.405576943867788,
          0.08399844218738929,
          0.038768511778795055,
          0.025199532656216786,
          0.08399844218738929,
          0.038768511778795055,
          0.025199532656216786,
          0.08399844218738929,
          0.038768511778795055,
          0.025199532656216786
         ],
         "y": [
          30.7687869224232,
          24.415183737494,
          28.5059972738543,
          42.9786708703342,
          34.8942452632814,
          32.2225681498577,
          44.9934128676147,
          41.6008381764424,
          32.7699394504351,
          43.2691458634823,
          38.6111954710309,
          36.691913210836,
          41.3988928580058,
          48.0468526405884,
          47.8636208758829,
          48.3354573242483,
          55.2853845780924,
          47.5081547192465,
          54.9833622866314,
          47.6634820248487,
          44.9854433096308,
          44.2577384444543,
          39.9806421506372,
          42.6905471762427,
          48.2054021839439,
          47.786991459896,
          42.5768496858822,
          38.378562187595,
          34.0959403502693,
          26.585231795106,
          24.2772629088356,
          23.0875696871055,
          31.9691893443118,
          41.9243659648217,
          39.011822491811,
          37.1380557635153,
          42.4556853991143,
          36.4850603383813,
          36.1571331067799,
          40.6372459925556,
          38.5067776675664,
          39.0876139279546,
          37.8430820225275,
          46.5995306290407,
          44.8020946920697,
          46.7847361219045,
          40.0593714749366,
          37.1160762797916,
          36.743865989593,
          40.4110614893867,
          41.740252566523,
          42.0430122452016,
          44.3432858210401,
          40.3253146818826,
          17.419036265118,
          18.1574120219273,
          23.2211030796657,
          25.5572136429901,
          29.1169317671762,
          30.6366820114023,
          30.2718546322264,
          24.4791351273157,
          27.9075719871661,
          31.4449719166025,
          36.2284305985193,
          35.1708722794749,
          43.7353406645416,
          48.1432423192879,
          44.8551747720702,
          37.5757453340702,
          41.175092060525,
          46.1009137975795,
          43.9620750837605,
          36.7590563918739,
          36.0239856759713,
          38.057886415074,
          44.6936172670456,
          45.0232380719002,
          38.0899356430432,
          43.1063159376061,
          45.138668708732
         ],
         "z": [
          16.666666666666668,
          61.53846153846154,
          75,
          -108.33333333333333,
          3.8461538461538427,
          37.5,
          -233.33333333333331,
          -53.846153846153854,
          0,
          76.1904761904762,
          89.01098901098902,
          92.85714285714285,
          40.47619047619049,
          72.52747252747253,
          82.14285714285715,
          4.761904761904772,
          56.043956043956044,
          71.42857142857143,
          98.61111111111111,
          99.35897435897436,
          99.58333333333334,
          96.52777777777777,
          98.3974358974359,
          98.95833333333334,
          94.44444444444444,
          97.43589743589742,
          98.33333333333333,
          16.666666666666668,
          61.53846153846154,
          75,
          -108.33333333333333,
          3.8461538461538427,
          37.5,
          -233.33333333333331,
          -53.846153846153854,
          0,
          76.1904761904762,
          89.01098901098902,
          92.85714285714285,
          40.47619047619049,
          72.52747252747253,
          82.14285714285715,
          4.761904761904772,
          56.043956043956044,
          71.42857142857143,
          98.61111111111111,
          99.35897435897436,
          99.58333333333334,
          96.52777777777777,
          98.3974358974359,
          98.95833333333334,
          94.44444444444444,
          97.43589743589742,
          98.33333333333333,
          16.666666666666668,
          61.53846153846154,
          75,
          -108.33333333333333,
          3.8461538461538427,
          37.5,
          -233.33333333333331,
          -53.846153846153854,
          0,
          76.1904761904762,
          89.01098901098902,
          92.85714285714285,
          40.47619047619049,
          72.52747252747253,
          82.14285714285715,
          4.761904761904772,
          56.043956043956044,
          71.42857142857143,
          98.61111111111111,
          99.35897435897436,
          99.58333333333334,
          96.52777777777777,
          98.3974358974359,
          98.95833333333334,
          94.44444444444444,
          97.43589743589742,
          98.33333333333333
         ]
        }
       ],
       "layout": {
        "coloraxis": {
         "colorbar": {
          "title": {
           "text": "PP_black"
          }
         },
         "colorscale": [
          [
           0,
           "#0d0887"
          ],
          [
           0.1111111111111111,
           "#46039f"
          ],
          [
           0.2222222222222222,
           "#7201a8"
          ],
          [
           0.3333333333333333,
           "#9c179e"
          ],
          [
           0.4444444444444444,
           "#bd3786"
          ],
          [
           0.5555555555555556,
           "#d8576b"
          ],
          [
           0.6666666666666666,
           "#ed7953"
          ],
          [
           0.7777777777777778,
           "#fb9f3a"
          ],
          [
           0.8888888888888888,
           "#fdca26"
          ],
          [
           1,
           "#f0f921"
          ]
         ]
        },
        "legend": {
         "tracegroupgap": 0
        },
        "margin": {
         "t": 60
        },
        "scene": {
         "domain": {
          "x": [
           0,
           1
          ],
          "y": [
           0,
           1
          ]
         },
         "xaxis": {
          "title": {
           "text": "Energy_density"
          }
         },
         "yaxis": {
          "title": {
           "text": "PP_black"
          }
         },
         "zaxis": {
          "title": {
           "text": "Overlap"
          }
         }
        },
        "template": {
         "data": {
          "bar": [
           {
            "error_x": {
             "color": "#2a3f5f"
            },
            "error_y": {
             "color": "#2a3f5f"
            },
            "marker": {
             "line": {
              "color": "#E5ECF6",
              "width": 0.5
             },
             "pattern": {
              "fillmode": "overlay",
              "size": 10,
              "solidity": 0.2
             }
            },
            "type": "bar"
           }
          ],
          "barpolar": [
           {
            "marker": {
             "line": {
              "color": "#E5ECF6",
              "width": 0.5
             },
             "pattern": {
              "fillmode": "overlay",
              "size": 10,
              "solidity": 0.2
             }
            },
            "type": "barpolar"
           }
          ],
          "carpet": [
           {
            "aaxis": {
             "endlinecolor": "#2a3f5f",
             "gridcolor": "white",
             "linecolor": "white",
             "minorgridcolor": "white",
             "startlinecolor": "#2a3f5f"
            },
            "baxis": {
             "endlinecolor": "#2a3f5f",
             "gridcolor": "white",
             "linecolor": "white",
             "minorgridcolor": "white",
             "startlinecolor": "#2a3f5f"
            },
            "type": "carpet"
           }
          ],
          "choropleth": [
           {
            "colorbar": {
             "outlinewidth": 0,
             "ticks": ""
            },
            "type": "choropleth"
           }
          ],
          "contour": [
           {
            "colorbar": {
             "outlinewidth": 0,
             "ticks": ""
            },
            "colorscale": [
             [
              0,
              "#0d0887"
             ],
             [
              0.1111111111111111,
              "#46039f"
             ],
             [
              0.2222222222222222,
              "#7201a8"
             ],
             [
              0.3333333333333333,
              "#9c179e"
             ],
             [
              0.4444444444444444,
              "#bd3786"
             ],
             [
              0.5555555555555556,
              "#d8576b"
             ],
             [
              0.6666666666666666,
              "#ed7953"
             ],
             [
              0.7777777777777778,
              "#fb9f3a"
             ],
             [
              0.8888888888888888,
              "#fdca26"
             ],
             [
              1,
              "#f0f921"
             ]
            ],
            "type": "contour"
           }
          ],
          "contourcarpet": [
           {
            "colorbar": {
             "outlinewidth": 0,
             "ticks": ""
            },
            "type": "contourcarpet"
           }
          ],
          "heatmap": [
           {
            "colorbar": {
             "outlinewidth": 0,
             "ticks": ""
            },
            "colorscale": [
             [
              0,
              "#0d0887"
             ],
             [
              0.1111111111111111,
              "#46039f"
             ],
             [
              0.2222222222222222,
              "#7201a8"
             ],
             [
              0.3333333333333333,
              "#9c179e"
             ],
             [
              0.4444444444444444,
              "#bd3786"
             ],
             [
              0.5555555555555556,
              "#d8576b"
             ],
             [
              0.6666666666666666,
              "#ed7953"
             ],
             [
              0.7777777777777778,
              "#fb9f3a"
             ],
             [
              0.8888888888888888,
              "#fdca26"
             ],
             [
              1,
              "#f0f921"
             ]
            ],
            "type": "heatmap"
           }
          ],
          "heatmapgl": [
           {
            "colorbar": {
             "outlinewidth": 0,
             "ticks": ""
            },
            "colorscale": [
             [
              0,
              "#0d0887"
             ],
             [
              0.1111111111111111,
              "#46039f"
             ],
             [
              0.2222222222222222,
              "#7201a8"
             ],
             [
              0.3333333333333333,
              "#9c179e"
             ],
             [
              0.4444444444444444,
              "#bd3786"
             ],
             [
              0.5555555555555556,
              "#d8576b"
             ],
             [
              0.6666666666666666,
              "#ed7953"
             ],
             [
              0.7777777777777778,
              "#fb9f3a"
             ],
             [
              0.8888888888888888,
              "#fdca26"
             ],
             [
              1,
              "#f0f921"
             ]
            ],
            "type": "heatmapgl"
           }
          ],
          "histogram": [
           {
            "marker": {
             "pattern": {
              "fillmode": "overlay",
              "size": 10,
              "solidity": 0.2
             }
            },
            "type": "histogram"
           }
          ],
          "histogram2d": [
           {
            "colorbar": {
             "outlinewidth": 0,
             "ticks": ""
            },
            "colorscale": [
             [
              0,
              "#0d0887"
             ],
             [
              0.1111111111111111,
              "#46039f"
             ],
             [
              0.2222222222222222,
              "#7201a8"
             ],
             [
              0.3333333333333333,
              "#9c179e"
             ],
             [
              0.4444444444444444,
              "#bd3786"
             ],
             [
              0.5555555555555556,
              "#d8576b"
             ],
             [
              0.6666666666666666,
              "#ed7953"
             ],
             [
              0.7777777777777778,
              "#fb9f3a"
             ],
             [
              0.8888888888888888,
              "#fdca26"
             ],
             [
              1,
              "#f0f921"
             ]
            ],
            "type": "histogram2d"
           }
          ],
          "histogram2dcontour": [
           {
            "colorbar": {
             "outlinewidth": 0,
             "ticks": ""
            },
            "colorscale": [
             [
              0,
              "#0d0887"
             ],
             [
              0.1111111111111111,
              "#46039f"
             ],
             [
              0.2222222222222222,
              "#7201a8"
             ],
             [
              0.3333333333333333,
              "#9c179e"
             ],
             [
              0.4444444444444444,
              "#bd3786"
             ],
             [
              0.5555555555555556,
              "#d8576b"
             ],
             [
              0.6666666666666666,
              "#ed7953"
             ],
             [
              0.7777777777777778,
              "#fb9f3a"
             ],
             [
              0.8888888888888888,
              "#fdca26"
             ],
             [
              1,
              "#f0f921"
             ]
            ],
            "type": "histogram2dcontour"
           }
          ],
          "mesh3d": [
           {
            "colorbar": {
             "outlinewidth": 0,
             "ticks": ""
            },
            "type": "mesh3d"
           }
          ],
          "parcoords": [
           {
            "line": {
             "colorbar": {
              "outlinewidth": 0,
              "ticks": ""
             }
            },
            "type": "parcoords"
           }
          ],
          "pie": [
           {
            "automargin": true,
            "type": "pie"
           }
          ],
          "scatter": [
           {
            "fillpattern": {
             "fillmode": "overlay",
             "size": 10,
             "solidity": 0.2
            },
            "type": "scatter"
           }
          ],
          "scatter3d": [
           {
            "line": {
             "colorbar": {
              "outlinewidth": 0,
              "ticks": ""
             }
            },
            "marker": {
             "colorbar": {
              "outlinewidth": 0,
              "ticks": ""
             }
            },
            "type": "scatter3d"
           }
          ],
          "scattercarpet": [
           {
            "marker": {
             "colorbar": {
              "outlinewidth": 0,
              "ticks": ""
             }
            },
            "type": "scattercarpet"
           }
          ],
          "scattergeo": [
           {
            "marker": {
             "colorbar": {
              "outlinewidth": 0,
              "ticks": ""
             }
            },
            "type": "scattergeo"
           }
          ],
          "scattergl": [
           {
            "marker": {
             "colorbar": {
              "outlinewidth": 0,
              "ticks": ""
             }
            },
            "type": "scattergl"
           }
          ],
          "scattermapbox": [
           {
            "marker": {
             "colorbar": {
              "outlinewidth": 0,
              "ticks": ""
             }
            },
            "type": "scattermapbox"
           }
          ],
          "scatterpolar": [
           {
            "marker": {
             "colorbar": {
              "outlinewidth": 0,
              "ticks": ""
             }
            },
            "type": "scatterpolar"
           }
          ],
          "scatterpolargl": [
           {
            "marker": {
             "colorbar": {
              "outlinewidth": 0,
              "ticks": ""
             }
            },
            "type": "scatterpolargl"
           }
          ],
          "scatterternary": [
           {
            "marker": {
             "colorbar": {
              "outlinewidth": 0,
              "ticks": ""
             }
            },
            "type": "scatterternary"
           }
          ],
          "surface": [
           {
            "colorbar": {
             "outlinewidth": 0,
             "ticks": ""
            },
            "colorscale": [
             [
              0,
              "#0d0887"
             ],
             [
              0.1111111111111111,
              "#46039f"
             ],
             [
              0.2222222222222222,
              "#7201a8"
             ],
             [
              0.3333333333333333,
              "#9c179e"
             ],
             [
              0.4444444444444444,
              "#bd3786"
             ],
             [
              0.5555555555555556,
              "#d8576b"
             ],
             [
              0.6666666666666666,
              "#ed7953"
             ],
             [
              0.7777777777777778,
              "#fb9f3a"
             ],
             [
              0.8888888888888888,
              "#fdca26"
             ],
             [
              1,
              "#f0f921"
             ]
            ],
            "type": "surface"
           }
          ],
          "table": [
           {
            "cells": {
             "fill": {
              "color": "#EBF0F8"
             },
             "line": {
              "color": "white"
             }
            },
            "header": {
             "fill": {
              "color": "#C8D4E3"
             },
             "line": {
              "color": "white"
             }
            },
            "type": "table"
           }
          ]
         },
         "layout": {
          "annotationdefaults": {
           "arrowcolor": "#2a3f5f",
           "arrowhead": 0,
           "arrowwidth": 1
          },
          "autotypenumbers": "strict",
          "coloraxis": {
           "colorbar": {
            "outlinewidth": 0,
            "ticks": ""
           }
          },
          "colorscale": {
           "diverging": [
            [
             0,
             "#8e0152"
            ],
            [
             0.1,
             "#c51b7d"
            ],
            [
             0.2,
             "#de77ae"
            ],
            [
             0.3,
             "#f1b6da"
            ],
            [
             0.4,
             "#fde0ef"
            ],
            [
             0.5,
             "#f7f7f7"
            ],
            [
             0.6,
             "#e6f5d0"
            ],
            [
             0.7,
             "#b8e186"
            ],
            [
             0.8,
             "#7fbc41"
            ],
            [
             0.9,
             "#4d9221"
            ],
            [
             1,
             "#276419"
            ]
           ],
           "sequential": [
            [
             0,
             "#0d0887"
            ],
            [
             0.1111111111111111,
             "#46039f"
            ],
            [
             0.2222222222222222,
             "#7201a8"
            ],
            [
             0.3333333333333333,
             "#9c179e"
            ],
            [
             0.4444444444444444,
             "#bd3786"
            ],
            [
             0.5555555555555556,
             "#d8576b"
            ],
            [
             0.6666666666666666,
             "#ed7953"
            ],
            [
             0.7777777777777778,
             "#fb9f3a"
            ],
            [
             0.8888888888888888,
             "#fdca26"
            ],
            [
             1,
             "#f0f921"
            ]
           ],
           "sequentialminus": [
            [
             0,
             "#0d0887"
            ],
            [
             0.1111111111111111,
             "#46039f"
            ],
            [
             0.2222222222222222,
             "#7201a8"
            ],
            [
             0.3333333333333333,
             "#9c179e"
            ],
            [
             0.4444444444444444,
             "#bd3786"
            ],
            [
             0.5555555555555556,
             "#d8576b"
            ],
            [
             0.6666666666666666,
             "#ed7953"
            ],
            [
             0.7777777777777778,
             "#fb9f3a"
            ],
            [
             0.8888888888888888,
             "#fdca26"
            ],
            [
             1,
             "#f0f921"
            ]
           ]
          },
          "colorway": [
           "#636efa",
           "#EF553B",
           "#00cc96",
           "#ab63fa",
           "#FFA15A",
           "#19d3f3",
           "#FF6692",
           "#B6E880",
           "#FF97FF",
           "#FECB52"
          ],
          "font": {
           "color": "#2a3f5f"
          },
          "geo": {
           "bgcolor": "white",
           "lakecolor": "white",
           "landcolor": "#E5ECF6",
           "showlakes": true,
           "showland": true,
           "subunitcolor": "white"
          },
          "hoverlabel": {
           "align": "left"
          },
          "hovermode": "closest",
          "mapbox": {
           "style": "light"
          },
          "paper_bgcolor": "white",
          "plot_bgcolor": "#E5ECF6",
          "polar": {
           "angularaxis": {
            "gridcolor": "white",
            "linecolor": "white",
            "ticks": ""
           },
           "bgcolor": "#E5ECF6",
           "radialaxis": {
            "gridcolor": "white",
            "linecolor": "white",
            "ticks": ""
           }
          },
          "scene": {
           "xaxis": {
            "backgroundcolor": "#E5ECF6",
            "gridcolor": "white",
            "gridwidth": 2,
            "linecolor": "white",
            "showbackground": true,
            "ticks": "",
            "zerolinecolor": "white"
           },
           "yaxis": {
            "backgroundcolor": "#E5ECF6",
            "gridcolor": "white",
            "gridwidth": 2,
            "linecolor": "white",
            "showbackground": true,
            "ticks": "",
            "zerolinecolor": "white"
           },
           "zaxis": {
            "backgroundcolor": "#E5ECF6",
            "gridcolor": "white",
            "gridwidth": 2,
            "linecolor": "white",
            "showbackground": true,
            "ticks": "",
            "zerolinecolor": "white"
           }
          },
          "shapedefaults": {
           "line": {
            "color": "#2a3f5f"
           }
          },
          "ternary": {
           "aaxis": {
            "gridcolor": "white",
            "linecolor": "white",
            "ticks": ""
           },
           "baxis": {
            "gridcolor": "white",
            "linecolor": "white",
            "ticks": ""
           },
           "bgcolor": "#E5ECF6",
           "caxis": {
            "gridcolor": "white",
            "linecolor": "white",
            "ticks": ""
           }
          },
          "title": {
           "x": 0.05
          },
          "xaxis": {
           "automargin": true,
           "gridcolor": "white",
           "linecolor": "white",
           "ticks": "",
           "title": {
            "standoff": 15
           },
           "zerolinecolor": "white",
           "zerolinewidth": 2
          },
          "yaxis": {
           "automargin": true,
           "gridcolor": "white",
           "linecolor": "white",
           "ticks": "",
           "title": {
            "standoff": 15
           },
           "zerolinecolor": "white",
           "zerolinewidth": 2
          }
         }
        }
       }
      }
     },
     "metadata": {},
     "output_type": "display_data"
    }
   ],
   "source": [
    "fig = px.scatter_3d(df, x='Energy_density', y='PP_black', z='Overlap',\n",
    "              color='PP_black')\n",
    "fig.show()"
   ]
  },
  {
   "cell_type": "code",
   "execution_count": 28,
   "metadata": {},
   "outputs": [
    {
     "data": {
      "application/vnd.plotly.v1+json": {
       "config": {
        "plotlyServerURL": "https://plot.ly"
       },
       "data": [
        {
         "hovertemplate": "Energy_density=%{x}<br>PP_white=%{marker.color}<br>Overlap=%{z}<extra></extra>",
         "legendgroup": "",
         "marker": {
          "color": [
           17.4678262831395,
           15.3400463962514,
           14.3834173294517,
           29.626424333576,
           22.89730739372,
           19.146507725326,
           31.5228073841363,
           24.6958934147831,
           20.2473577806229,
           32.2589523746325,
           28.3080417348358,
           23.9450507794654,
           26.5173416659405,
           18.5936263577164,
           11.8607422135392,
           21.4862386717346,
           11.2424750027872,
           9.73838352003252,
           26.2030138966739,
           24.8099811802375,
           21.3916151291766,
           19.8023109321733,
           13.2932005485456,
           9.76140588189108,
           13.4465404761101,
           9.68239105234828,
           8.09795677969167,
           20.2174634714407,
           19.1056764985867,
           20.3380937400229,
           21.3969644164495,
           19.6641513580947,
           18.5372573264891,
           31.3972609388269,
           27.0624115278886,
           29.381405192677,
           32.9546024133417,
           31.8604311795501,
           33.1934574836424,
           36.9538421099107,
           27.4112797843149,
           24.6374311834085,
           23.3116704701304,
           22.501692839551,
           21.8641702152645,
           32.0418643405406,
           30.8631134452238,
           31.9631073721708,
           29.617607653857,
           24.1064229384146,
           20.4677874056397,
           25.8831797218909,
           20.9292520335445,
           16.4906588443984,
           23.0113594093748,
           20.6235380614456,
           20.2112637136249,
           21.4500923715934,
           18.3267481661679,
           17.8477230256306,
           25.692154266876,
           19.9730904855572,
           17.5959324784443,
           23.7097622555217,
           21.4031058315229,
           23.6930805032363,
           40.505709176146,
           35.1245330930801,
           37.8276240089023,
           37.4351554294135,
           30.5774641932325,
           27.2466005128309,
           29.4356036811301,
           28.898253345908,
           28.8796880291831,
           34.643489583668,
           33.0085016122047,
           29.1608635842907,
           29.027715558346,
           25.5901998375354,
           22.3109121381588
          ],
          "coloraxis": "coloraxis",
          "symbol": "circle"
         },
         "mode": "markers",
         "name": "",
         "scene": "scene",
         "showlegend": false,
         "type": "scatter3d",
         "x": [
          120.95775674984058,
          55.826656961464884,
          36.28732702495218,
          120.95775674984058,
          55.826656961464884,
          36.28732702495218,
          120.95775674984058,
          55.826656961464884,
          36.28732702495218,
          9.874102591823718,
          4.5572781193032545,
          2.9622307775471155,
          9.874102591823718,
          4.5572781193032545,
          2.9622307775471155,
          9.874102591823718,
          4.5572781193032545,
          2.9622307775471155,
          0.03359937687495572,
          0.015507404711518022,
          0.010079813062486715,
          0.03359937687495572,
          0.015507404711518022,
          0.010079813062486715,
          0.03359937687495572,
          0.015507404711518022,
          0.010079813062486715,
          211.676074312221,
          97.69664968256355,
          63.502822293666306,
          211.676074312221,
          97.69664968256355,
          63.502822293666306,
          211.676074312221,
          97.69664968256355,
          63.502822293666306,
          17.279679535691503,
          7.975236708780695,
          5.183903860707452,
          17.279679535691503,
          7.975236708780695,
          5.183903860707452,
          17.279679535691503,
          7.975236708780695,
          5.183903860707452,
          0.058798909531172505,
          0.027137958245156538,
          0.01763967285935175,
          0.058798909531172505,
          0.027137958245156538,
          0.01763967285935175,
          0.058798909531172505,
          0.027137958245156538,
          0.01763967285935175,
          302.3943918746014,
          139.5666424036622,
          90.71831756238043,
          302.3943918746014,
          139.5666424036622,
          90.71831756238043,
          302.3943918746014,
          139.5666424036622,
          90.71831756238043,
          24.685256479559293,
          11.393195298258137,
          7.405576943867788,
          24.685256479559293,
          11.393195298258137,
          7.405576943867788,
          24.685256479559293,
          11.393195298258137,
          7.405576943867788,
          0.08399844218738929,
          0.038768511778795055,
          0.025199532656216786,
          0.08399844218738929,
          0.038768511778795055,
          0.025199532656216786,
          0.08399844218738929,
          0.038768511778795055,
          0.025199532656216786
         ],
         "y": [
          17.4678262831395,
          15.3400463962514,
          14.3834173294517,
          29.626424333576,
          22.89730739372,
          19.146507725326,
          31.5228073841363,
          24.6958934147831,
          20.2473577806229,
          32.2589523746325,
          28.3080417348358,
          23.9450507794654,
          26.5173416659405,
          18.5936263577164,
          11.8607422135392,
          21.4862386717346,
          11.2424750027872,
          9.73838352003252,
          26.2030138966739,
          24.8099811802375,
          21.3916151291766,
          19.8023109321733,
          13.2932005485456,
          9.76140588189108,
          13.4465404761101,
          9.68239105234828,
          8.09795677969167,
          20.2174634714407,
          19.1056764985867,
          20.3380937400229,
          21.3969644164495,
          19.6641513580947,
          18.5372573264891,
          31.3972609388269,
          27.0624115278886,
          29.381405192677,
          32.9546024133417,
          31.8604311795501,
          33.1934574836424,
          36.9538421099107,
          27.4112797843149,
          24.6374311834085,
          23.3116704701304,
          22.501692839551,
          21.8641702152645,
          32.0418643405406,
          30.8631134452238,
          31.9631073721708,
          29.617607653857,
          24.1064229384146,
          20.4677874056397,
          25.8831797218909,
          20.9292520335445,
          16.4906588443984,
          23.0113594093748,
          20.6235380614456,
          20.2112637136249,
          21.4500923715934,
          18.3267481661679,
          17.8477230256306,
          25.692154266876,
          19.9730904855572,
          17.5959324784443,
          23.7097622555217,
          21.4031058315229,
          23.6930805032363,
          40.505709176146,
          35.1245330930801,
          37.8276240089023,
          37.4351554294135,
          30.5774641932325,
          27.2466005128309,
          29.4356036811301,
          28.898253345908,
          28.8796880291831,
          34.643489583668,
          33.0085016122047,
          29.1608635842907,
          29.027715558346,
          25.5901998375354,
          22.3109121381588
         ],
         "z": [
          16.666666666666668,
          61.53846153846154,
          75,
          -108.33333333333333,
          3.8461538461538427,
          37.5,
          -233.33333333333331,
          -53.846153846153854,
          0,
          76.1904761904762,
          89.01098901098902,
          92.85714285714285,
          40.47619047619049,
          72.52747252747253,
          82.14285714285715,
          4.761904761904772,
          56.043956043956044,
          71.42857142857143,
          98.61111111111111,
          99.35897435897436,
          99.58333333333334,
          96.52777777777777,
          98.3974358974359,
          98.95833333333334,
          94.44444444444444,
          97.43589743589742,
          98.33333333333333,
          16.666666666666668,
          61.53846153846154,
          75,
          -108.33333333333333,
          3.8461538461538427,
          37.5,
          -233.33333333333331,
          -53.846153846153854,
          0,
          76.1904761904762,
          89.01098901098902,
          92.85714285714285,
          40.47619047619049,
          72.52747252747253,
          82.14285714285715,
          4.761904761904772,
          56.043956043956044,
          71.42857142857143,
          98.61111111111111,
          99.35897435897436,
          99.58333333333334,
          96.52777777777777,
          98.3974358974359,
          98.95833333333334,
          94.44444444444444,
          97.43589743589742,
          98.33333333333333,
          16.666666666666668,
          61.53846153846154,
          75,
          -108.33333333333333,
          3.8461538461538427,
          37.5,
          -233.33333333333331,
          -53.846153846153854,
          0,
          76.1904761904762,
          89.01098901098902,
          92.85714285714285,
          40.47619047619049,
          72.52747252747253,
          82.14285714285715,
          4.761904761904772,
          56.043956043956044,
          71.42857142857143,
          98.61111111111111,
          99.35897435897436,
          99.58333333333334,
          96.52777777777777,
          98.3974358974359,
          98.95833333333334,
          94.44444444444444,
          97.43589743589742,
          98.33333333333333
         ]
        }
       ],
       "layout": {
        "coloraxis": {
         "colorbar": {
          "title": {
           "text": "PP_white"
          }
         },
         "colorscale": [
          [
           0,
           "#0d0887"
          ],
          [
           0.1111111111111111,
           "#46039f"
          ],
          [
           0.2222222222222222,
           "#7201a8"
          ],
          [
           0.3333333333333333,
           "#9c179e"
          ],
          [
           0.4444444444444444,
           "#bd3786"
          ],
          [
           0.5555555555555556,
           "#d8576b"
          ],
          [
           0.6666666666666666,
           "#ed7953"
          ],
          [
           0.7777777777777778,
           "#fb9f3a"
          ],
          [
           0.8888888888888888,
           "#fdca26"
          ],
          [
           1,
           "#f0f921"
          ]
         ]
        },
        "legend": {
         "tracegroupgap": 0
        },
        "margin": {
         "t": 60
        },
        "scene": {
         "domain": {
          "x": [
           0,
           1
          ],
          "y": [
           0,
           1
          ]
         },
         "xaxis": {
          "title": {
           "text": "Energy_density"
          }
         },
         "yaxis": {
          "title": {
           "text": "PP_white"
          }
         },
         "zaxis": {
          "title": {
           "text": "Overlap"
          }
         }
        },
        "template": {
         "data": {
          "bar": [
           {
            "error_x": {
             "color": "#2a3f5f"
            },
            "error_y": {
             "color": "#2a3f5f"
            },
            "marker": {
             "line": {
              "color": "#E5ECF6",
              "width": 0.5
             },
             "pattern": {
              "fillmode": "overlay",
              "size": 10,
              "solidity": 0.2
             }
            },
            "type": "bar"
           }
          ],
          "barpolar": [
           {
            "marker": {
             "line": {
              "color": "#E5ECF6",
              "width": 0.5
             },
             "pattern": {
              "fillmode": "overlay",
              "size": 10,
              "solidity": 0.2
             }
            },
            "type": "barpolar"
           }
          ],
          "carpet": [
           {
            "aaxis": {
             "endlinecolor": "#2a3f5f",
             "gridcolor": "white",
             "linecolor": "white",
             "minorgridcolor": "white",
             "startlinecolor": "#2a3f5f"
            },
            "baxis": {
             "endlinecolor": "#2a3f5f",
             "gridcolor": "white",
             "linecolor": "white",
             "minorgridcolor": "white",
             "startlinecolor": "#2a3f5f"
            },
            "type": "carpet"
           }
          ],
          "choropleth": [
           {
            "colorbar": {
             "outlinewidth": 0,
             "ticks": ""
            },
            "type": "choropleth"
           }
          ],
          "contour": [
           {
            "colorbar": {
             "outlinewidth": 0,
             "ticks": ""
            },
            "colorscale": [
             [
              0,
              "#0d0887"
             ],
             [
              0.1111111111111111,
              "#46039f"
             ],
             [
              0.2222222222222222,
              "#7201a8"
             ],
             [
              0.3333333333333333,
              "#9c179e"
             ],
             [
              0.4444444444444444,
              "#bd3786"
             ],
             [
              0.5555555555555556,
              "#d8576b"
             ],
             [
              0.6666666666666666,
              "#ed7953"
             ],
             [
              0.7777777777777778,
              "#fb9f3a"
             ],
             [
              0.8888888888888888,
              "#fdca26"
             ],
             [
              1,
              "#f0f921"
             ]
            ],
            "type": "contour"
           }
          ],
          "contourcarpet": [
           {
            "colorbar": {
             "outlinewidth": 0,
             "ticks": ""
            },
            "type": "contourcarpet"
           }
          ],
          "heatmap": [
           {
            "colorbar": {
             "outlinewidth": 0,
             "ticks": ""
            },
            "colorscale": [
             [
              0,
              "#0d0887"
             ],
             [
              0.1111111111111111,
              "#46039f"
             ],
             [
              0.2222222222222222,
              "#7201a8"
             ],
             [
              0.3333333333333333,
              "#9c179e"
             ],
             [
              0.4444444444444444,
              "#bd3786"
             ],
             [
              0.5555555555555556,
              "#d8576b"
             ],
             [
              0.6666666666666666,
              "#ed7953"
             ],
             [
              0.7777777777777778,
              "#fb9f3a"
             ],
             [
              0.8888888888888888,
              "#fdca26"
             ],
             [
              1,
              "#f0f921"
             ]
            ],
            "type": "heatmap"
           }
          ],
          "heatmapgl": [
           {
            "colorbar": {
             "outlinewidth": 0,
             "ticks": ""
            },
            "colorscale": [
             [
              0,
              "#0d0887"
             ],
             [
              0.1111111111111111,
              "#46039f"
             ],
             [
              0.2222222222222222,
              "#7201a8"
             ],
             [
              0.3333333333333333,
              "#9c179e"
             ],
             [
              0.4444444444444444,
              "#bd3786"
             ],
             [
              0.5555555555555556,
              "#d8576b"
             ],
             [
              0.6666666666666666,
              "#ed7953"
             ],
             [
              0.7777777777777778,
              "#fb9f3a"
             ],
             [
              0.8888888888888888,
              "#fdca26"
             ],
             [
              1,
              "#f0f921"
             ]
            ],
            "type": "heatmapgl"
           }
          ],
          "histogram": [
           {
            "marker": {
             "pattern": {
              "fillmode": "overlay",
              "size": 10,
              "solidity": 0.2
             }
            },
            "type": "histogram"
           }
          ],
          "histogram2d": [
           {
            "colorbar": {
             "outlinewidth": 0,
             "ticks": ""
            },
            "colorscale": [
             [
              0,
              "#0d0887"
             ],
             [
              0.1111111111111111,
              "#46039f"
             ],
             [
              0.2222222222222222,
              "#7201a8"
             ],
             [
              0.3333333333333333,
              "#9c179e"
             ],
             [
              0.4444444444444444,
              "#bd3786"
             ],
             [
              0.5555555555555556,
              "#d8576b"
             ],
             [
              0.6666666666666666,
              "#ed7953"
             ],
             [
              0.7777777777777778,
              "#fb9f3a"
             ],
             [
              0.8888888888888888,
              "#fdca26"
             ],
             [
              1,
              "#f0f921"
             ]
            ],
            "type": "histogram2d"
           }
          ],
          "histogram2dcontour": [
           {
            "colorbar": {
             "outlinewidth": 0,
             "ticks": ""
            },
            "colorscale": [
             [
              0,
              "#0d0887"
             ],
             [
              0.1111111111111111,
              "#46039f"
             ],
             [
              0.2222222222222222,
              "#7201a8"
             ],
             [
              0.3333333333333333,
              "#9c179e"
             ],
             [
              0.4444444444444444,
              "#bd3786"
             ],
             [
              0.5555555555555556,
              "#d8576b"
             ],
             [
              0.6666666666666666,
              "#ed7953"
             ],
             [
              0.7777777777777778,
              "#fb9f3a"
             ],
             [
              0.8888888888888888,
              "#fdca26"
             ],
             [
              1,
              "#f0f921"
             ]
            ],
            "type": "histogram2dcontour"
           }
          ],
          "mesh3d": [
           {
            "colorbar": {
             "outlinewidth": 0,
             "ticks": ""
            },
            "type": "mesh3d"
           }
          ],
          "parcoords": [
           {
            "line": {
             "colorbar": {
              "outlinewidth": 0,
              "ticks": ""
             }
            },
            "type": "parcoords"
           }
          ],
          "pie": [
           {
            "automargin": true,
            "type": "pie"
           }
          ],
          "scatter": [
           {
            "fillpattern": {
             "fillmode": "overlay",
             "size": 10,
             "solidity": 0.2
            },
            "type": "scatter"
           }
          ],
          "scatter3d": [
           {
            "line": {
             "colorbar": {
              "outlinewidth": 0,
              "ticks": ""
             }
            },
            "marker": {
             "colorbar": {
              "outlinewidth": 0,
              "ticks": ""
             }
            },
            "type": "scatter3d"
           }
          ],
          "scattercarpet": [
           {
            "marker": {
             "colorbar": {
              "outlinewidth": 0,
              "ticks": ""
             }
            },
            "type": "scattercarpet"
           }
          ],
          "scattergeo": [
           {
            "marker": {
             "colorbar": {
              "outlinewidth": 0,
              "ticks": ""
             }
            },
            "type": "scattergeo"
           }
          ],
          "scattergl": [
           {
            "marker": {
             "colorbar": {
              "outlinewidth": 0,
              "ticks": ""
             }
            },
            "type": "scattergl"
           }
          ],
          "scattermapbox": [
           {
            "marker": {
             "colorbar": {
              "outlinewidth": 0,
              "ticks": ""
             }
            },
            "type": "scattermapbox"
           }
          ],
          "scatterpolar": [
           {
            "marker": {
             "colorbar": {
              "outlinewidth": 0,
              "ticks": ""
             }
            },
            "type": "scatterpolar"
           }
          ],
          "scatterpolargl": [
           {
            "marker": {
             "colorbar": {
              "outlinewidth": 0,
              "ticks": ""
             }
            },
            "type": "scatterpolargl"
           }
          ],
          "scatterternary": [
           {
            "marker": {
             "colorbar": {
              "outlinewidth": 0,
              "ticks": ""
             }
            },
            "type": "scatterternary"
           }
          ],
          "surface": [
           {
            "colorbar": {
             "outlinewidth": 0,
             "ticks": ""
            },
            "colorscale": [
             [
              0,
              "#0d0887"
             ],
             [
              0.1111111111111111,
              "#46039f"
             ],
             [
              0.2222222222222222,
              "#7201a8"
             ],
             [
              0.3333333333333333,
              "#9c179e"
             ],
             [
              0.4444444444444444,
              "#bd3786"
             ],
             [
              0.5555555555555556,
              "#d8576b"
             ],
             [
              0.6666666666666666,
              "#ed7953"
             ],
             [
              0.7777777777777778,
              "#fb9f3a"
             ],
             [
              0.8888888888888888,
              "#fdca26"
             ],
             [
              1,
              "#f0f921"
             ]
            ],
            "type": "surface"
           }
          ],
          "table": [
           {
            "cells": {
             "fill": {
              "color": "#EBF0F8"
             },
             "line": {
              "color": "white"
             }
            },
            "header": {
             "fill": {
              "color": "#C8D4E3"
             },
             "line": {
              "color": "white"
             }
            },
            "type": "table"
           }
          ]
         },
         "layout": {
          "annotationdefaults": {
           "arrowcolor": "#2a3f5f",
           "arrowhead": 0,
           "arrowwidth": 1
          },
          "autotypenumbers": "strict",
          "coloraxis": {
           "colorbar": {
            "outlinewidth": 0,
            "ticks": ""
           }
          },
          "colorscale": {
           "diverging": [
            [
             0,
             "#8e0152"
            ],
            [
             0.1,
             "#c51b7d"
            ],
            [
             0.2,
             "#de77ae"
            ],
            [
             0.3,
             "#f1b6da"
            ],
            [
             0.4,
             "#fde0ef"
            ],
            [
             0.5,
             "#f7f7f7"
            ],
            [
             0.6,
             "#e6f5d0"
            ],
            [
             0.7,
             "#b8e186"
            ],
            [
             0.8,
             "#7fbc41"
            ],
            [
             0.9,
             "#4d9221"
            ],
            [
             1,
             "#276419"
            ]
           ],
           "sequential": [
            [
             0,
             "#0d0887"
            ],
            [
             0.1111111111111111,
             "#46039f"
            ],
            [
             0.2222222222222222,
             "#7201a8"
            ],
            [
             0.3333333333333333,
             "#9c179e"
            ],
            [
             0.4444444444444444,
             "#bd3786"
            ],
            [
             0.5555555555555556,
             "#d8576b"
            ],
            [
             0.6666666666666666,
             "#ed7953"
            ],
            [
             0.7777777777777778,
             "#fb9f3a"
            ],
            [
             0.8888888888888888,
             "#fdca26"
            ],
            [
             1,
             "#f0f921"
            ]
           ],
           "sequentialminus": [
            [
             0,
             "#0d0887"
            ],
            [
             0.1111111111111111,
             "#46039f"
            ],
            [
             0.2222222222222222,
             "#7201a8"
            ],
            [
             0.3333333333333333,
             "#9c179e"
            ],
            [
             0.4444444444444444,
             "#bd3786"
            ],
            [
             0.5555555555555556,
             "#d8576b"
            ],
            [
             0.6666666666666666,
             "#ed7953"
            ],
            [
             0.7777777777777778,
             "#fb9f3a"
            ],
            [
             0.8888888888888888,
             "#fdca26"
            ],
            [
             1,
             "#f0f921"
            ]
           ]
          },
          "colorway": [
           "#636efa",
           "#EF553B",
           "#00cc96",
           "#ab63fa",
           "#FFA15A",
           "#19d3f3",
           "#FF6692",
           "#B6E880",
           "#FF97FF",
           "#FECB52"
          ],
          "font": {
           "color": "#2a3f5f"
          },
          "geo": {
           "bgcolor": "white",
           "lakecolor": "white",
           "landcolor": "#E5ECF6",
           "showlakes": true,
           "showland": true,
           "subunitcolor": "white"
          },
          "hoverlabel": {
           "align": "left"
          },
          "hovermode": "closest",
          "mapbox": {
           "style": "light"
          },
          "paper_bgcolor": "white",
          "plot_bgcolor": "#E5ECF6",
          "polar": {
           "angularaxis": {
            "gridcolor": "white",
            "linecolor": "white",
            "ticks": ""
           },
           "bgcolor": "#E5ECF6",
           "radialaxis": {
            "gridcolor": "white",
            "linecolor": "white",
            "ticks": ""
           }
          },
          "scene": {
           "xaxis": {
            "backgroundcolor": "#E5ECF6",
            "gridcolor": "white",
            "gridwidth": 2,
            "linecolor": "white",
            "showbackground": true,
            "ticks": "",
            "zerolinecolor": "white"
           },
           "yaxis": {
            "backgroundcolor": "#E5ECF6",
            "gridcolor": "white",
            "gridwidth": 2,
            "linecolor": "white",
            "showbackground": true,
            "ticks": "",
            "zerolinecolor": "white"
           },
           "zaxis": {
            "backgroundcolor": "#E5ECF6",
            "gridcolor": "white",
            "gridwidth": 2,
            "linecolor": "white",
            "showbackground": true,
            "ticks": "",
            "zerolinecolor": "white"
           }
          },
          "shapedefaults": {
           "line": {
            "color": "#2a3f5f"
           }
          },
          "ternary": {
           "aaxis": {
            "gridcolor": "white",
            "linecolor": "white",
            "ticks": ""
           },
           "baxis": {
            "gridcolor": "white",
            "linecolor": "white",
            "ticks": ""
           },
           "bgcolor": "#E5ECF6",
           "caxis": {
            "gridcolor": "white",
            "linecolor": "white",
            "ticks": ""
           }
          },
          "title": {
           "x": 0.05
          },
          "xaxis": {
           "automargin": true,
           "gridcolor": "white",
           "linecolor": "white",
           "ticks": "",
           "title": {
            "standoff": 15
           },
           "zerolinecolor": "white",
           "zerolinewidth": 2
          },
          "yaxis": {
           "automargin": true,
           "gridcolor": "white",
           "linecolor": "white",
           "ticks": "",
           "title": {
            "standoff": 15
           },
           "zerolinecolor": "white",
           "zerolinewidth": 2
          }
         }
        }
       }
      }
     },
     "metadata": {},
     "output_type": "display_data"
    }
   ],
   "source": [
    "fig = px.scatter_3d(df, x='Energy_density', y='PP_white', z='Overlap',\n",
    "              color='PP_white')\n",
    "fig.show()"
   ]
  },
  {
   "cell_type": "code",
   "execution_count": 29,
   "metadata": {},
   "outputs": [
    {
     "data": {
      "application/vnd.plotly.v1+json": {
       "config": {
        "plotlyServerURL": "https://plot.ly"
       },
       "data": [
        {
         "hovertemplate": "Energy_density=%{x}<br>TPE_black=%{marker.color}<br>Overlap=%{z}<extra></extra>",
         "legendgroup": "",
         "marker": {
          "color": [
           22.6622459121426,
           25.6007655741863,
           30.165914335497,
           25.5918230339031,
           22.9839575812154,
           18.9366979162676,
           28.199901766424,
           26.5913604256658,
           20.1955332021811,
           20.3780075263364,
           15.2983350882668,
           13.757964063995,
           42.7500600575776,
           44.0720954225588,
           41.4919878049211,
           36.3049403669203,
           46.0329822353879,
           37.7370839285258,
           28.5578602042342,
           24.6587999180353,
           20.639609389082,
           44.6159467576292,
           40.1842775684503,
           36.013009665145,
           28.6169318961174,
           25.6266541727677,
           22.5434655203806,
           37.1901859520543,
           44.3082671285115,
           44.5651225487432,
           21.2831449471485,
           17.8009398286772,
           22.3045415568305,
           25.7903204991269,
           24.6574172212798,
           25.6288864576967,
           19.3557588439562,
           15.9063292024685,
           16.0685928578388,
           26.5816144437977,
           19.3478244208794,
           18.9811578504515,
           28.6584254708714,
           30.9539554430379,
           32.6878710189789,
           16.466493389662,
           15.5928794548424,
           14.7012742759438,
           31.4773772696938,
           32.2609917772868,
           27.7237159923249,
           40.69828571417,
           36.931573633271,
           38.852317523554,
           45.1140701185516,
           46.3540286840812,
           54.0187242465219,
           21.6790258607813,
           26.8212046061212,
           28.70113710947,
           24.0992867248714,
           20.7345599802313,
           20.3652463651359,
           18.5780537528966,
           16.7496259038887,
           17.5095129240574,
           22.7032466564464,
           21.0089539864608,
           21.0979704953201,
           26.9937016953065,
           27.6457627349974,
           24.7022704595346,
           20.7875827113144,
           18.6119891880286,
           17.8452517605047,
           24.2510440114737,
           21.3468063384013,
           20.964240453935,
           31.2006474185679,
           36.4173103549923,
           35.4958231215464
          ],
          "coloraxis": "coloraxis",
          "symbol": "circle"
         },
         "mode": "markers",
         "name": "",
         "scene": "scene",
         "showlegend": false,
         "type": "scatter3d",
         "x": [
          120.95775674984058,
          55.826656961464884,
          36.28732702495218,
          120.95775674984058,
          55.826656961464884,
          36.28732702495218,
          120.95775674984058,
          55.826656961464884,
          36.28732702495218,
          9.874102591823718,
          4.5572781193032545,
          2.9622307775471155,
          9.874102591823718,
          4.5572781193032545,
          2.9622307775471155,
          9.874102591823718,
          4.5572781193032545,
          2.9622307775471155,
          0.03359937687495572,
          0.015507404711518022,
          0.010079813062486715,
          0.03359937687495572,
          0.015507404711518022,
          0.010079813062486715,
          0.03359937687495572,
          0.015507404711518022,
          0.010079813062486715,
          211.676074312221,
          97.69664968256355,
          63.502822293666306,
          211.676074312221,
          97.69664968256355,
          63.502822293666306,
          211.676074312221,
          97.69664968256355,
          63.502822293666306,
          17.279679535691503,
          7.975236708780695,
          5.183903860707452,
          17.279679535691503,
          7.975236708780695,
          5.183903860707452,
          17.279679535691503,
          7.975236708780695,
          5.183903860707452,
          0.058798909531172505,
          0.027137958245156538,
          0.01763967285935175,
          0.058798909531172505,
          0.027137958245156538,
          0.01763967285935175,
          0.058798909531172505,
          0.027137958245156538,
          0.01763967285935175,
          302.3943918746014,
          139.5666424036622,
          90.71831756238043,
          302.3943918746014,
          139.5666424036622,
          90.71831756238043,
          302.3943918746014,
          139.5666424036622,
          90.71831756238043,
          24.685256479559293,
          11.393195298258137,
          7.405576943867788,
          24.685256479559293,
          11.393195298258137,
          7.405576943867788,
          24.685256479559293,
          11.393195298258137,
          7.405576943867788,
          0.08399844218738929,
          0.038768511778795055,
          0.025199532656216786,
          0.08399844218738929,
          0.038768511778795055,
          0.025199532656216786,
          0.08399844218738929,
          0.038768511778795055,
          0.025199532656216786
         ],
         "y": [
          22.6622459121426,
          25.6007655741863,
          30.165914335497,
          25.5918230339031,
          22.9839575812154,
          18.9366979162676,
          28.199901766424,
          26.5913604256658,
          20.1955332021811,
          20.3780075263364,
          15.2983350882668,
          13.757964063995,
          42.7500600575776,
          44.0720954225588,
          41.4919878049211,
          36.3049403669203,
          46.0329822353879,
          37.7370839285258,
          28.5578602042342,
          24.6587999180353,
          20.639609389082,
          44.6159467576292,
          40.1842775684503,
          36.013009665145,
          28.6169318961174,
          25.6266541727677,
          22.5434655203806,
          37.1901859520543,
          44.3082671285115,
          44.5651225487432,
          21.2831449471485,
          17.8009398286772,
          22.3045415568305,
          25.7903204991269,
          24.6574172212798,
          25.6288864576967,
          19.3557588439562,
          15.9063292024685,
          16.0685928578388,
          26.5816144437977,
          19.3478244208794,
          18.9811578504515,
          28.6584254708714,
          30.9539554430379,
          32.6878710189789,
          16.466493389662,
          15.5928794548424,
          14.7012742759438,
          31.4773772696938,
          32.2609917772868,
          27.7237159923249,
          40.69828571417,
          36.931573633271,
          38.852317523554,
          45.1140701185516,
          46.3540286840812,
          54.0187242465219,
          21.6790258607813,
          26.8212046061212,
          28.70113710947,
          24.0992867248714,
          20.7345599802313,
          20.3652463651359,
          18.5780537528966,
          16.7496259038887,
          17.5095129240574,
          22.7032466564464,
          21.0089539864608,
          21.0979704953201,
          26.9937016953065,
          27.6457627349974,
          24.7022704595346,
          20.7875827113144,
          18.6119891880286,
          17.8452517605047,
          24.2510440114737,
          21.3468063384013,
          20.964240453935,
          31.2006474185679,
          36.4173103549923,
          35.4958231215464
         ],
         "z": [
          16.666666666666668,
          61.53846153846154,
          75,
          -108.33333333333333,
          3.8461538461538427,
          37.5,
          -233.33333333333331,
          -53.846153846153854,
          0,
          76.1904761904762,
          89.01098901098902,
          92.85714285714285,
          40.47619047619049,
          72.52747252747253,
          82.14285714285715,
          4.761904761904772,
          56.043956043956044,
          71.42857142857143,
          98.61111111111111,
          99.35897435897436,
          99.58333333333334,
          96.52777777777777,
          98.3974358974359,
          98.95833333333334,
          94.44444444444444,
          97.43589743589742,
          98.33333333333333,
          16.666666666666668,
          61.53846153846154,
          75,
          -108.33333333333333,
          3.8461538461538427,
          37.5,
          -233.33333333333331,
          -53.846153846153854,
          0,
          76.1904761904762,
          89.01098901098902,
          92.85714285714285,
          40.47619047619049,
          72.52747252747253,
          82.14285714285715,
          4.761904761904772,
          56.043956043956044,
          71.42857142857143,
          98.61111111111111,
          99.35897435897436,
          99.58333333333334,
          96.52777777777777,
          98.3974358974359,
          98.95833333333334,
          94.44444444444444,
          97.43589743589742,
          98.33333333333333,
          16.666666666666668,
          61.53846153846154,
          75,
          -108.33333333333333,
          3.8461538461538427,
          37.5,
          -233.33333333333331,
          -53.846153846153854,
          0,
          76.1904761904762,
          89.01098901098902,
          92.85714285714285,
          40.47619047619049,
          72.52747252747253,
          82.14285714285715,
          4.761904761904772,
          56.043956043956044,
          71.42857142857143,
          98.61111111111111,
          99.35897435897436,
          99.58333333333334,
          96.52777777777777,
          98.3974358974359,
          98.95833333333334,
          94.44444444444444,
          97.43589743589742,
          98.33333333333333
         ]
        }
       ],
       "layout": {
        "coloraxis": {
         "colorbar": {
          "title": {
           "text": "TPE_black"
          }
         },
         "colorscale": [
          [
           0,
           "#0d0887"
          ],
          [
           0.1111111111111111,
           "#46039f"
          ],
          [
           0.2222222222222222,
           "#7201a8"
          ],
          [
           0.3333333333333333,
           "#9c179e"
          ],
          [
           0.4444444444444444,
           "#bd3786"
          ],
          [
           0.5555555555555556,
           "#d8576b"
          ],
          [
           0.6666666666666666,
           "#ed7953"
          ],
          [
           0.7777777777777778,
           "#fb9f3a"
          ],
          [
           0.8888888888888888,
           "#fdca26"
          ],
          [
           1,
           "#f0f921"
          ]
         ]
        },
        "legend": {
         "tracegroupgap": 0
        },
        "margin": {
         "t": 60
        },
        "scene": {
         "domain": {
          "x": [
           0,
           1
          ],
          "y": [
           0,
           1
          ]
         },
         "xaxis": {
          "title": {
           "text": "Energy_density"
          }
         },
         "yaxis": {
          "title": {
           "text": "TPE_black"
          }
         },
         "zaxis": {
          "title": {
           "text": "Overlap"
          }
         }
        },
        "template": {
         "data": {
          "bar": [
           {
            "error_x": {
             "color": "#2a3f5f"
            },
            "error_y": {
             "color": "#2a3f5f"
            },
            "marker": {
             "line": {
              "color": "#E5ECF6",
              "width": 0.5
             },
             "pattern": {
              "fillmode": "overlay",
              "size": 10,
              "solidity": 0.2
             }
            },
            "type": "bar"
           }
          ],
          "barpolar": [
           {
            "marker": {
             "line": {
              "color": "#E5ECF6",
              "width": 0.5
             },
             "pattern": {
              "fillmode": "overlay",
              "size": 10,
              "solidity": 0.2
             }
            },
            "type": "barpolar"
           }
          ],
          "carpet": [
           {
            "aaxis": {
             "endlinecolor": "#2a3f5f",
             "gridcolor": "white",
             "linecolor": "white",
             "minorgridcolor": "white",
             "startlinecolor": "#2a3f5f"
            },
            "baxis": {
             "endlinecolor": "#2a3f5f",
             "gridcolor": "white",
             "linecolor": "white",
             "minorgridcolor": "white",
             "startlinecolor": "#2a3f5f"
            },
            "type": "carpet"
           }
          ],
          "choropleth": [
           {
            "colorbar": {
             "outlinewidth": 0,
             "ticks": ""
            },
            "type": "choropleth"
           }
          ],
          "contour": [
           {
            "colorbar": {
             "outlinewidth": 0,
             "ticks": ""
            },
            "colorscale": [
             [
              0,
              "#0d0887"
             ],
             [
              0.1111111111111111,
              "#46039f"
             ],
             [
              0.2222222222222222,
              "#7201a8"
             ],
             [
              0.3333333333333333,
              "#9c179e"
             ],
             [
              0.4444444444444444,
              "#bd3786"
             ],
             [
              0.5555555555555556,
              "#d8576b"
             ],
             [
              0.6666666666666666,
              "#ed7953"
             ],
             [
              0.7777777777777778,
              "#fb9f3a"
             ],
             [
              0.8888888888888888,
              "#fdca26"
             ],
             [
              1,
              "#f0f921"
             ]
            ],
            "type": "contour"
           }
          ],
          "contourcarpet": [
           {
            "colorbar": {
             "outlinewidth": 0,
             "ticks": ""
            },
            "type": "contourcarpet"
           }
          ],
          "heatmap": [
           {
            "colorbar": {
             "outlinewidth": 0,
             "ticks": ""
            },
            "colorscale": [
             [
              0,
              "#0d0887"
             ],
             [
              0.1111111111111111,
              "#46039f"
             ],
             [
              0.2222222222222222,
              "#7201a8"
             ],
             [
              0.3333333333333333,
              "#9c179e"
             ],
             [
              0.4444444444444444,
              "#bd3786"
             ],
             [
              0.5555555555555556,
              "#d8576b"
             ],
             [
              0.6666666666666666,
              "#ed7953"
             ],
             [
              0.7777777777777778,
              "#fb9f3a"
             ],
             [
              0.8888888888888888,
              "#fdca26"
             ],
             [
              1,
              "#f0f921"
             ]
            ],
            "type": "heatmap"
           }
          ],
          "heatmapgl": [
           {
            "colorbar": {
             "outlinewidth": 0,
             "ticks": ""
            },
            "colorscale": [
             [
              0,
              "#0d0887"
             ],
             [
              0.1111111111111111,
              "#46039f"
             ],
             [
              0.2222222222222222,
              "#7201a8"
             ],
             [
              0.3333333333333333,
              "#9c179e"
             ],
             [
              0.4444444444444444,
              "#bd3786"
             ],
             [
              0.5555555555555556,
              "#d8576b"
             ],
             [
              0.6666666666666666,
              "#ed7953"
             ],
             [
              0.7777777777777778,
              "#fb9f3a"
             ],
             [
              0.8888888888888888,
              "#fdca26"
             ],
             [
              1,
              "#f0f921"
             ]
            ],
            "type": "heatmapgl"
           }
          ],
          "histogram": [
           {
            "marker": {
             "pattern": {
              "fillmode": "overlay",
              "size": 10,
              "solidity": 0.2
             }
            },
            "type": "histogram"
           }
          ],
          "histogram2d": [
           {
            "colorbar": {
             "outlinewidth": 0,
             "ticks": ""
            },
            "colorscale": [
             [
              0,
              "#0d0887"
             ],
             [
              0.1111111111111111,
              "#46039f"
             ],
             [
              0.2222222222222222,
              "#7201a8"
             ],
             [
              0.3333333333333333,
              "#9c179e"
             ],
             [
              0.4444444444444444,
              "#bd3786"
             ],
             [
              0.5555555555555556,
              "#d8576b"
             ],
             [
              0.6666666666666666,
              "#ed7953"
             ],
             [
              0.7777777777777778,
              "#fb9f3a"
             ],
             [
              0.8888888888888888,
              "#fdca26"
             ],
             [
              1,
              "#f0f921"
             ]
            ],
            "type": "histogram2d"
           }
          ],
          "histogram2dcontour": [
           {
            "colorbar": {
             "outlinewidth": 0,
             "ticks": ""
            },
            "colorscale": [
             [
              0,
              "#0d0887"
             ],
             [
              0.1111111111111111,
              "#46039f"
             ],
             [
              0.2222222222222222,
              "#7201a8"
             ],
             [
              0.3333333333333333,
              "#9c179e"
             ],
             [
              0.4444444444444444,
              "#bd3786"
             ],
             [
              0.5555555555555556,
              "#d8576b"
             ],
             [
              0.6666666666666666,
              "#ed7953"
             ],
             [
              0.7777777777777778,
              "#fb9f3a"
             ],
             [
              0.8888888888888888,
              "#fdca26"
             ],
             [
              1,
              "#f0f921"
             ]
            ],
            "type": "histogram2dcontour"
           }
          ],
          "mesh3d": [
           {
            "colorbar": {
             "outlinewidth": 0,
             "ticks": ""
            },
            "type": "mesh3d"
           }
          ],
          "parcoords": [
           {
            "line": {
             "colorbar": {
              "outlinewidth": 0,
              "ticks": ""
             }
            },
            "type": "parcoords"
           }
          ],
          "pie": [
           {
            "automargin": true,
            "type": "pie"
           }
          ],
          "scatter": [
           {
            "fillpattern": {
             "fillmode": "overlay",
             "size": 10,
             "solidity": 0.2
            },
            "type": "scatter"
           }
          ],
          "scatter3d": [
           {
            "line": {
             "colorbar": {
              "outlinewidth": 0,
              "ticks": ""
             }
            },
            "marker": {
             "colorbar": {
              "outlinewidth": 0,
              "ticks": ""
             }
            },
            "type": "scatter3d"
           }
          ],
          "scattercarpet": [
           {
            "marker": {
             "colorbar": {
              "outlinewidth": 0,
              "ticks": ""
             }
            },
            "type": "scattercarpet"
           }
          ],
          "scattergeo": [
           {
            "marker": {
             "colorbar": {
              "outlinewidth": 0,
              "ticks": ""
             }
            },
            "type": "scattergeo"
           }
          ],
          "scattergl": [
           {
            "marker": {
             "colorbar": {
              "outlinewidth": 0,
              "ticks": ""
             }
            },
            "type": "scattergl"
           }
          ],
          "scattermapbox": [
           {
            "marker": {
             "colorbar": {
              "outlinewidth": 0,
              "ticks": ""
             }
            },
            "type": "scattermapbox"
           }
          ],
          "scatterpolar": [
           {
            "marker": {
             "colorbar": {
              "outlinewidth": 0,
              "ticks": ""
             }
            },
            "type": "scatterpolar"
           }
          ],
          "scatterpolargl": [
           {
            "marker": {
             "colorbar": {
              "outlinewidth": 0,
              "ticks": ""
             }
            },
            "type": "scatterpolargl"
           }
          ],
          "scatterternary": [
           {
            "marker": {
             "colorbar": {
              "outlinewidth": 0,
              "ticks": ""
             }
            },
            "type": "scatterternary"
           }
          ],
          "surface": [
           {
            "colorbar": {
             "outlinewidth": 0,
             "ticks": ""
            },
            "colorscale": [
             [
              0,
              "#0d0887"
             ],
             [
              0.1111111111111111,
              "#46039f"
             ],
             [
              0.2222222222222222,
              "#7201a8"
             ],
             [
              0.3333333333333333,
              "#9c179e"
             ],
             [
              0.4444444444444444,
              "#bd3786"
             ],
             [
              0.5555555555555556,
              "#d8576b"
             ],
             [
              0.6666666666666666,
              "#ed7953"
             ],
             [
              0.7777777777777778,
              "#fb9f3a"
             ],
             [
              0.8888888888888888,
              "#fdca26"
             ],
             [
              1,
              "#f0f921"
             ]
            ],
            "type": "surface"
           }
          ],
          "table": [
           {
            "cells": {
             "fill": {
              "color": "#EBF0F8"
             },
             "line": {
              "color": "white"
             }
            },
            "header": {
             "fill": {
              "color": "#C8D4E3"
             },
             "line": {
              "color": "white"
             }
            },
            "type": "table"
           }
          ]
         },
         "layout": {
          "annotationdefaults": {
           "arrowcolor": "#2a3f5f",
           "arrowhead": 0,
           "arrowwidth": 1
          },
          "autotypenumbers": "strict",
          "coloraxis": {
           "colorbar": {
            "outlinewidth": 0,
            "ticks": ""
           }
          },
          "colorscale": {
           "diverging": [
            [
             0,
             "#8e0152"
            ],
            [
             0.1,
             "#c51b7d"
            ],
            [
             0.2,
             "#de77ae"
            ],
            [
             0.3,
             "#f1b6da"
            ],
            [
             0.4,
             "#fde0ef"
            ],
            [
             0.5,
             "#f7f7f7"
            ],
            [
             0.6,
             "#e6f5d0"
            ],
            [
             0.7,
             "#b8e186"
            ],
            [
             0.8,
             "#7fbc41"
            ],
            [
             0.9,
             "#4d9221"
            ],
            [
             1,
             "#276419"
            ]
           ],
           "sequential": [
            [
             0,
             "#0d0887"
            ],
            [
             0.1111111111111111,
             "#46039f"
            ],
            [
             0.2222222222222222,
             "#7201a8"
            ],
            [
             0.3333333333333333,
             "#9c179e"
            ],
            [
             0.4444444444444444,
             "#bd3786"
            ],
            [
             0.5555555555555556,
             "#d8576b"
            ],
            [
             0.6666666666666666,
             "#ed7953"
            ],
            [
             0.7777777777777778,
             "#fb9f3a"
            ],
            [
             0.8888888888888888,
             "#fdca26"
            ],
            [
             1,
             "#f0f921"
            ]
           ],
           "sequentialminus": [
            [
             0,
             "#0d0887"
            ],
            [
             0.1111111111111111,
             "#46039f"
            ],
            [
             0.2222222222222222,
             "#7201a8"
            ],
            [
             0.3333333333333333,
             "#9c179e"
            ],
            [
             0.4444444444444444,
             "#bd3786"
            ],
            [
             0.5555555555555556,
             "#d8576b"
            ],
            [
             0.6666666666666666,
             "#ed7953"
            ],
            [
             0.7777777777777778,
             "#fb9f3a"
            ],
            [
             0.8888888888888888,
             "#fdca26"
            ],
            [
             1,
             "#f0f921"
            ]
           ]
          },
          "colorway": [
           "#636efa",
           "#EF553B",
           "#00cc96",
           "#ab63fa",
           "#FFA15A",
           "#19d3f3",
           "#FF6692",
           "#B6E880",
           "#FF97FF",
           "#FECB52"
          ],
          "font": {
           "color": "#2a3f5f"
          },
          "geo": {
           "bgcolor": "white",
           "lakecolor": "white",
           "landcolor": "#E5ECF6",
           "showlakes": true,
           "showland": true,
           "subunitcolor": "white"
          },
          "hoverlabel": {
           "align": "left"
          },
          "hovermode": "closest",
          "mapbox": {
           "style": "light"
          },
          "paper_bgcolor": "white",
          "plot_bgcolor": "#E5ECF6",
          "polar": {
           "angularaxis": {
            "gridcolor": "white",
            "linecolor": "white",
            "ticks": ""
           },
           "bgcolor": "#E5ECF6",
           "radialaxis": {
            "gridcolor": "white",
            "linecolor": "white",
            "ticks": ""
           }
          },
          "scene": {
           "xaxis": {
            "backgroundcolor": "#E5ECF6",
            "gridcolor": "white",
            "gridwidth": 2,
            "linecolor": "white",
            "showbackground": true,
            "ticks": "",
            "zerolinecolor": "white"
           },
           "yaxis": {
            "backgroundcolor": "#E5ECF6",
            "gridcolor": "white",
            "gridwidth": 2,
            "linecolor": "white",
            "showbackground": true,
            "ticks": "",
            "zerolinecolor": "white"
           },
           "zaxis": {
            "backgroundcolor": "#E5ECF6",
            "gridcolor": "white",
            "gridwidth": 2,
            "linecolor": "white",
            "showbackground": true,
            "ticks": "",
            "zerolinecolor": "white"
           }
          },
          "shapedefaults": {
           "line": {
            "color": "#2a3f5f"
           }
          },
          "ternary": {
           "aaxis": {
            "gridcolor": "white",
            "linecolor": "white",
            "ticks": ""
           },
           "baxis": {
            "gridcolor": "white",
            "linecolor": "white",
            "ticks": ""
           },
           "bgcolor": "#E5ECF6",
           "caxis": {
            "gridcolor": "white",
            "linecolor": "white",
            "ticks": ""
           }
          },
          "title": {
           "x": 0.05
          },
          "xaxis": {
           "automargin": true,
           "gridcolor": "white",
           "linecolor": "white",
           "ticks": "",
           "title": {
            "standoff": 15
           },
           "zerolinecolor": "white",
           "zerolinewidth": 2
          },
          "yaxis": {
           "automargin": true,
           "gridcolor": "white",
           "linecolor": "white",
           "ticks": "",
           "title": {
            "standoff": 15
           },
           "zerolinecolor": "white",
           "zerolinewidth": 2
          }
         }
        }
       }
      }
     },
     "metadata": {},
     "output_type": "display_data"
    }
   ],
   "source": [
    "fig = px.scatter_3d(df, x='Energy_density', y='TPE_black', z='Overlap',\n",
    "              color='TPE_black')\n",
    "fig.show()"
   ]
  },
  {
   "cell_type": "code",
   "execution_count": 30,
   "metadata": {},
   "outputs": [
    {
     "data": {
      "application/vnd.plotly.v1+json": {
       "config": {
        "plotlyServerURL": "https://plot.ly"
       },
       "data": [
        {
         "hovertemplate": "Energy_density=%{x}<br>TPE_white=%{marker.color}<br>Overlap=%{z}<extra></extra>",
         "legendgroup": "",
         "marker": {
          "color": [
           12.6218322404363,
           9.99944084177402,
           9.01414086656949,
           15.3674917330453,
           9.61681134744194,
           10.0733566530508,
           13.8640476256809,
           11.0175247113588,
           9.07715536245542,
           14.4279179405713,
           9.73575707903527,
           8.02362995436191,
           14.3436098735682,
           10.0222332321191,
           8.01329378904391,
           10.8750661753272,
           7.9677392435858,
           8.00157042003254,
           12.6864120251626,
           8.13273544038182,
           7.85540915845937,
           9.70817548133302,
           8.06227266151193,
           7.74831622131068,
           8.49974668475384,
           7.94475976689897,
           8.3690526056831,
           17.5577646304213,
           11.8853484433947,
           10.7867713554988,
           20.3359531150386,
           14.2065576960929,
           10.0615209931402,
           23.9304445156801,
           14.9832974094227,
           10.3256736170468,
           24.3406865750311,
           17.0338495086045,
           12.2088314891298,
           16.4846504804469,
           13.53808468612,
           10.6514071445366,
           17.7715978800685,
           13.0680715540428,
           10.427968515298,
           21.4334988124403,
           14.0388756460218,
           10.2236352773856,
           15.6231550900582,
           10.8124894102943,
           8.89519036623224,
           13.7299403061594,
           8.96119888623848,
           8.18833862317189,
           18.0565651640153,
           12.6130396411853,
           12.3708333504032,
           20.0809173743608,
           16.7652642576867,
           14.7260395210162,
           24.5902489673505,
           19.1450584795667,
           16.5859429320574,
           25.3684156456264,
           18.1035474306181,
           13.8332151536509,
           28.2271148024029,
           17.6716709798248,
           12.603591051183,
           20.2123738787682,
           15.3886458426899,
           12.6669550872241,
           26.8164740576577,
           19.7789404659819,
           16.4013121650659,
           23.1689006594859,
           15.7445880301357,
           12.1344286020929,
           20.1093144231524,
           13.1792837235646,
           10.7326033748702
          ],
          "coloraxis": "coloraxis",
          "symbol": "circle"
         },
         "mode": "markers",
         "name": "",
         "scene": "scene",
         "showlegend": false,
         "type": "scatter3d",
         "x": [
          120.95775674984058,
          55.826656961464884,
          36.28732702495218,
          120.95775674984058,
          55.826656961464884,
          36.28732702495218,
          120.95775674984058,
          55.826656961464884,
          36.28732702495218,
          9.874102591823718,
          4.5572781193032545,
          2.9622307775471155,
          9.874102591823718,
          4.5572781193032545,
          2.9622307775471155,
          9.874102591823718,
          4.5572781193032545,
          2.9622307775471155,
          0.03359937687495572,
          0.015507404711518022,
          0.010079813062486715,
          0.03359937687495572,
          0.015507404711518022,
          0.010079813062486715,
          0.03359937687495572,
          0.015507404711518022,
          0.010079813062486715,
          211.676074312221,
          97.69664968256355,
          63.502822293666306,
          211.676074312221,
          97.69664968256355,
          63.502822293666306,
          211.676074312221,
          97.69664968256355,
          63.502822293666306,
          17.279679535691503,
          7.975236708780695,
          5.183903860707452,
          17.279679535691503,
          7.975236708780695,
          5.183903860707452,
          17.279679535691503,
          7.975236708780695,
          5.183903860707452,
          0.058798909531172505,
          0.027137958245156538,
          0.01763967285935175,
          0.058798909531172505,
          0.027137958245156538,
          0.01763967285935175,
          0.058798909531172505,
          0.027137958245156538,
          0.01763967285935175,
          302.3943918746014,
          139.5666424036622,
          90.71831756238043,
          302.3943918746014,
          139.5666424036622,
          90.71831756238043,
          302.3943918746014,
          139.5666424036622,
          90.71831756238043,
          24.685256479559293,
          11.393195298258137,
          7.405576943867788,
          24.685256479559293,
          11.393195298258137,
          7.405576943867788,
          24.685256479559293,
          11.393195298258137,
          7.405576943867788,
          0.08399844218738929,
          0.038768511778795055,
          0.025199532656216786,
          0.08399844218738929,
          0.038768511778795055,
          0.025199532656216786,
          0.08399844218738929,
          0.038768511778795055,
          0.025199532656216786
         ],
         "y": [
          12.6218322404363,
          9.99944084177402,
          9.01414086656949,
          15.3674917330453,
          9.61681134744194,
          10.0733566530508,
          13.8640476256809,
          11.0175247113588,
          9.07715536245542,
          14.4279179405713,
          9.73575707903527,
          8.02362995436191,
          14.3436098735682,
          10.0222332321191,
          8.01329378904391,
          10.8750661753272,
          7.9677392435858,
          8.00157042003254,
          12.6864120251626,
          8.13273544038182,
          7.85540915845937,
          9.70817548133302,
          8.06227266151193,
          7.74831622131068,
          8.49974668475384,
          7.94475976689897,
          8.3690526056831,
          17.5577646304213,
          11.8853484433947,
          10.7867713554988,
          20.3359531150386,
          14.2065576960929,
          10.0615209931402,
          23.9304445156801,
          14.9832974094227,
          10.3256736170468,
          24.3406865750311,
          17.0338495086045,
          12.2088314891298,
          16.4846504804469,
          13.53808468612,
          10.6514071445366,
          17.7715978800685,
          13.0680715540428,
          10.427968515298,
          21.4334988124403,
          14.0388756460218,
          10.2236352773856,
          15.6231550900582,
          10.8124894102943,
          8.89519036623224,
          13.7299403061594,
          8.96119888623848,
          8.18833862317189,
          18.0565651640153,
          12.6130396411853,
          12.3708333504032,
          20.0809173743608,
          16.7652642576867,
          14.7260395210162,
          24.5902489673505,
          19.1450584795667,
          16.5859429320574,
          25.3684156456264,
          18.1035474306181,
          13.8332151536509,
          28.2271148024029,
          17.6716709798248,
          12.603591051183,
          20.2123738787682,
          15.3886458426899,
          12.6669550872241,
          26.8164740576577,
          19.7789404659819,
          16.4013121650659,
          23.1689006594859,
          15.7445880301357,
          12.1344286020929,
          20.1093144231524,
          13.1792837235646,
          10.7326033748702
         ],
         "z": [
          16.666666666666668,
          61.53846153846154,
          75,
          -108.33333333333333,
          3.8461538461538427,
          37.5,
          -233.33333333333331,
          -53.846153846153854,
          0,
          76.1904761904762,
          89.01098901098902,
          92.85714285714285,
          40.47619047619049,
          72.52747252747253,
          82.14285714285715,
          4.761904761904772,
          56.043956043956044,
          71.42857142857143,
          98.61111111111111,
          99.35897435897436,
          99.58333333333334,
          96.52777777777777,
          98.3974358974359,
          98.95833333333334,
          94.44444444444444,
          97.43589743589742,
          98.33333333333333,
          16.666666666666668,
          61.53846153846154,
          75,
          -108.33333333333333,
          3.8461538461538427,
          37.5,
          -233.33333333333331,
          -53.846153846153854,
          0,
          76.1904761904762,
          89.01098901098902,
          92.85714285714285,
          40.47619047619049,
          72.52747252747253,
          82.14285714285715,
          4.761904761904772,
          56.043956043956044,
          71.42857142857143,
          98.61111111111111,
          99.35897435897436,
          99.58333333333334,
          96.52777777777777,
          98.3974358974359,
          98.95833333333334,
          94.44444444444444,
          97.43589743589742,
          98.33333333333333,
          16.666666666666668,
          61.53846153846154,
          75,
          -108.33333333333333,
          3.8461538461538427,
          37.5,
          -233.33333333333331,
          -53.846153846153854,
          0,
          76.1904761904762,
          89.01098901098902,
          92.85714285714285,
          40.47619047619049,
          72.52747252747253,
          82.14285714285715,
          4.761904761904772,
          56.043956043956044,
          71.42857142857143,
          98.61111111111111,
          99.35897435897436,
          99.58333333333334,
          96.52777777777777,
          98.3974358974359,
          98.95833333333334,
          94.44444444444444,
          97.43589743589742,
          98.33333333333333
         ]
        }
       ],
       "layout": {
        "coloraxis": {
         "colorbar": {
          "title": {
           "text": "TPE_white"
          }
         },
         "colorscale": [
          [
           0,
           "#0d0887"
          ],
          [
           0.1111111111111111,
           "#46039f"
          ],
          [
           0.2222222222222222,
           "#7201a8"
          ],
          [
           0.3333333333333333,
           "#9c179e"
          ],
          [
           0.4444444444444444,
           "#bd3786"
          ],
          [
           0.5555555555555556,
           "#d8576b"
          ],
          [
           0.6666666666666666,
           "#ed7953"
          ],
          [
           0.7777777777777778,
           "#fb9f3a"
          ],
          [
           0.8888888888888888,
           "#fdca26"
          ],
          [
           1,
           "#f0f921"
          ]
         ]
        },
        "legend": {
         "tracegroupgap": 0
        },
        "margin": {
         "t": 60
        },
        "scene": {
         "domain": {
          "x": [
           0,
           1
          ],
          "y": [
           0,
           1
          ]
         },
         "xaxis": {
          "title": {
           "text": "Energy_density"
          }
         },
         "yaxis": {
          "title": {
           "text": "TPE_white"
          }
         },
         "zaxis": {
          "title": {
           "text": "Overlap"
          }
         }
        },
        "template": {
         "data": {
          "bar": [
           {
            "error_x": {
             "color": "#2a3f5f"
            },
            "error_y": {
             "color": "#2a3f5f"
            },
            "marker": {
             "line": {
              "color": "#E5ECF6",
              "width": 0.5
             },
             "pattern": {
              "fillmode": "overlay",
              "size": 10,
              "solidity": 0.2
             }
            },
            "type": "bar"
           }
          ],
          "barpolar": [
           {
            "marker": {
             "line": {
              "color": "#E5ECF6",
              "width": 0.5
             },
             "pattern": {
              "fillmode": "overlay",
              "size": 10,
              "solidity": 0.2
             }
            },
            "type": "barpolar"
           }
          ],
          "carpet": [
           {
            "aaxis": {
             "endlinecolor": "#2a3f5f",
             "gridcolor": "white",
             "linecolor": "white",
             "minorgridcolor": "white",
             "startlinecolor": "#2a3f5f"
            },
            "baxis": {
             "endlinecolor": "#2a3f5f",
             "gridcolor": "white",
             "linecolor": "white",
             "minorgridcolor": "white",
             "startlinecolor": "#2a3f5f"
            },
            "type": "carpet"
           }
          ],
          "choropleth": [
           {
            "colorbar": {
             "outlinewidth": 0,
             "ticks": ""
            },
            "type": "choropleth"
           }
          ],
          "contour": [
           {
            "colorbar": {
             "outlinewidth": 0,
             "ticks": ""
            },
            "colorscale": [
             [
              0,
              "#0d0887"
             ],
             [
              0.1111111111111111,
              "#46039f"
             ],
             [
              0.2222222222222222,
              "#7201a8"
             ],
             [
              0.3333333333333333,
              "#9c179e"
             ],
             [
              0.4444444444444444,
              "#bd3786"
             ],
             [
              0.5555555555555556,
              "#d8576b"
             ],
             [
              0.6666666666666666,
              "#ed7953"
             ],
             [
              0.7777777777777778,
              "#fb9f3a"
             ],
             [
              0.8888888888888888,
              "#fdca26"
             ],
             [
              1,
              "#f0f921"
             ]
            ],
            "type": "contour"
           }
          ],
          "contourcarpet": [
           {
            "colorbar": {
             "outlinewidth": 0,
             "ticks": ""
            },
            "type": "contourcarpet"
           }
          ],
          "heatmap": [
           {
            "colorbar": {
             "outlinewidth": 0,
             "ticks": ""
            },
            "colorscale": [
             [
              0,
              "#0d0887"
             ],
             [
              0.1111111111111111,
              "#46039f"
             ],
             [
              0.2222222222222222,
              "#7201a8"
             ],
             [
              0.3333333333333333,
              "#9c179e"
             ],
             [
              0.4444444444444444,
              "#bd3786"
             ],
             [
              0.5555555555555556,
              "#d8576b"
             ],
             [
              0.6666666666666666,
              "#ed7953"
             ],
             [
              0.7777777777777778,
              "#fb9f3a"
             ],
             [
              0.8888888888888888,
              "#fdca26"
             ],
             [
              1,
              "#f0f921"
             ]
            ],
            "type": "heatmap"
           }
          ],
          "heatmapgl": [
           {
            "colorbar": {
             "outlinewidth": 0,
             "ticks": ""
            },
            "colorscale": [
             [
              0,
              "#0d0887"
             ],
             [
              0.1111111111111111,
              "#46039f"
             ],
             [
              0.2222222222222222,
              "#7201a8"
             ],
             [
              0.3333333333333333,
              "#9c179e"
             ],
             [
              0.4444444444444444,
              "#bd3786"
             ],
             [
              0.5555555555555556,
              "#d8576b"
             ],
             [
              0.6666666666666666,
              "#ed7953"
             ],
             [
              0.7777777777777778,
              "#fb9f3a"
             ],
             [
              0.8888888888888888,
              "#fdca26"
             ],
             [
              1,
              "#f0f921"
             ]
            ],
            "type": "heatmapgl"
           }
          ],
          "histogram": [
           {
            "marker": {
             "pattern": {
              "fillmode": "overlay",
              "size": 10,
              "solidity": 0.2
             }
            },
            "type": "histogram"
           }
          ],
          "histogram2d": [
           {
            "colorbar": {
             "outlinewidth": 0,
             "ticks": ""
            },
            "colorscale": [
             [
              0,
              "#0d0887"
             ],
             [
              0.1111111111111111,
              "#46039f"
             ],
             [
              0.2222222222222222,
              "#7201a8"
             ],
             [
              0.3333333333333333,
              "#9c179e"
             ],
             [
              0.4444444444444444,
              "#bd3786"
             ],
             [
              0.5555555555555556,
              "#d8576b"
             ],
             [
              0.6666666666666666,
              "#ed7953"
             ],
             [
              0.7777777777777778,
              "#fb9f3a"
             ],
             [
              0.8888888888888888,
              "#fdca26"
             ],
             [
              1,
              "#f0f921"
             ]
            ],
            "type": "histogram2d"
           }
          ],
          "histogram2dcontour": [
           {
            "colorbar": {
             "outlinewidth": 0,
             "ticks": ""
            },
            "colorscale": [
             [
              0,
              "#0d0887"
             ],
             [
              0.1111111111111111,
              "#46039f"
             ],
             [
              0.2222222222222222,
              "#7201a8"
             ],
             [
              0.3333333333333333,
              "#9c179e"
             ],
             [
              0.4444444444444444,
              "#bd3786"
             ],
             [
              0.5555555555555556,
              "#d8576b"
             ],
             [
              0.6666666666666666,
              "#ed7953"
             ],
             [
              0.7777777777777778,
              "#fb9f3a"
             ],
             [
              0.8888888888888888,
              "#fdca26"
             ],
             [
              1,
              "#f0f921"
             ]
            ],
            "type": "histogram2dcontour"
           }
          ],
          "mesh3d": [
           {
            "colorbar": {
             "outlinewidth": 0,
             "ticks": ""
            },
            "type": "mesh3d"
           }
          ],
          "parcoords": [
           {
            "line": {
             "colorbar": {
              "outlinewidth": 0,
              "ticks": ""
             }
            },
            "type": "parcoords"
           }
          ],
          "pie": [
           {
            "automargin": true,
            "type": "pie"
           }
          ],
          "scatter": [
           {
            "fillpattern": {
             "fillmode": "overlay",
             "size": 10,
             "solidity": 0.2
            },
            "type": "scatter"
           }
          ],
          "scatter3d": [
           {
            "line": {
             "colorbar": {
              "outlinewidth": 0,
              "ticks": ""
             }
            },
            "marker": {
             "colorbar": {
              "outlinewidth": 0,
              "ticks": ""
             }
            },
            "type": "scatter3d"
           }
          ],
          "scattercarpet": [
           {
            "marker": {
             "colorbar": {
              "outlinewidth": 0,
              "ticks": ""
             }
            },
            "type": "scattercarpet"
           }
          ],
          "scattergeo": [
           {
            "marker": {
             "colorbar": {
              "outlinewidth": 0,
              "ticks": ""
             }
            },
            "type": "scattergeo"
           }
          ],
          "scattergl": [
           {
            "marker": {
             "colorbar": {
              "outlinewidth": 0,
              "ticks": ""
             }
            },
            "type": "scattergl"
           }
          ],
          "scattermapbox": [
           {
            "marker": {
             "colorbar": {
              "outlinewidth": 0,
              "ticks": ""
             }
            },
            "type": "scattermapbox"
           }
          ],
          "scatterpolar": [
           {
            "marker": {
             "colorbar": {
              "outlinewidth": 0,
              "ticks": ""
             }
            },
            "type": "scatterpolar"
           }
          ],
          "scatterpolargl": [
           {
            "marker": {
             "colorbar": {
              "outlinewidth": 0,
              "ticks": ""
             }
            },
            "type": "scatterpolargl"
           }
          ],
          "scatterternary": [
           {
            "marker": {
             "colorbar": {
              "outlinewidth": 0,
              "ticks": ""
             }
            },
            "type": "scatterternary"
           }
          ],
          "surface": [
           {
            "colorbar": {
             "outlinewidth": 0,
             "ticks": ""
            },
            "colorscale": [
             [
              0,
              "#0d0887"
             ],
             [
              0.1111111111111111,
              "#46039f"
             ],
             [
              0.2222222222222222,
              "#7201a8"
             ],
             [
              0.3333333333333333,
              "#9c179e"
             ],
             [
              0.4444444444444444,
              "#bd3786"
             ],
             [
              0.5555555555555556,
              "#d8576b"
             ],
             [
              0.6666666666666666,
              "#ed7953"
             ],
             [
              0.7777777777777778,
              "#fb9f3a"
             ],
             [
              0.8888888888888888,
              "#fdca26"
             ],
             [
              1,
              "#f0f921"
             ]
            ],
            "type": "surface"
           }
          ],
          "table": [
           {
            "cells": {
             "fill": {
              "color": "#EBF0F8"
             },
             "line": {
              "color": "white"
             }
            },
            "header": {
             "fill": {
              "color": "#C8D4E3"
             },
             "line": {
              "color": "white"
             }
            },
            "type": "table"
           }
          ]
         },
         "layout": {
          "annotationdefaults": {
           "arrowcolor": "#2a3f5f",
           "arrowhead": 0,
           "arrowwidth": 1
          },
          "autotypenumbers": "strict",
          "coloraxis": {
           "colorbar": {
            "outlinewidth": 0,
            "ticks": ""
           }
          },
          "colorscale": {
           "diverging": [
            [
             0,
             "#8e0152"
            ],
            [
             0.1,
             "#c51b7d"
            ],
            [
             0.2,
             "#de77ae"
            ],
            [
             0.3,
             "#f1b6da"
            ],
            [
             0.4,
             "#fde0ef"
            ],
            [
             0.5,
             "#f7f7f7"
            ],
            [
             0.6,
             "#e6f5d0"
            ],
            [
             0.7,
             "#b8e186"
            ],
            [
             0.8,
             "#7fbc41"
            ],
            [
             0.9,
             "#4d9221"
            ],
            [
             1,
             "#276419"
            ]
           ],
           "sequential": [
            [
             0,
             "#0d0887"
            ],
            [
             0.1111111111111111,
             "#46039f"
            ],
            [
             0.2222222222222222,
             "#7201a8"
            ],
            [
             0.3333333333333333,
             "#9c179e"
            ],
            [
             0.4444444444444444,
             "#bd3786"
            ],
            [
             0.5555555555555556,
             "#d8576b"
            ],
            [
             0.6666666666666666,
             "#ed7953"
            ],
            [
             0.7777777777777778,
             "#fb9f3a"
            ],
            [
             0.8888888888888888,
             "#fdca26"
            ],
            [
             1,
             "#f0f921"
            ]
           ],
           "sequentialminus": [
            [
             0,
             "#0d0887"
            ],
            [
             0.1111111111111111,
             "#46039f"
            ],
            [
             0.2222222222222222,
             "#7201a8"
            ],
            [
             0.3333333333333333,
             "#9c179e"
            ],
            [
             0.4444444444444444,
             "#bd3786"
            ],
            [
             0.5555555555555556,
             "#d8576b"
            ],
            [
             0.6666666666666666,
             "#ed7953"
            ],
            [
             0.7777777777777778,
             "#fb9f3a"
            ],
            [
             0.8888888888888888,
             "#fdca26"
            ],
            [
             1,
             "#f0f921"
            ]
           ]
          },
          "colorway": [
           "#636efa",
           "#EF553B",
           "#00cc96",
           "#ab63fa",
           "#FFA15A",
           "#19d3f3",
           "#FF6692",
           "#B6E880",
           "#FF97FF",
           "#FECB52"
          ],
          "font": {
           "color": "#2a3f5f"
          },
          "geo": {
           "bgcolor": "white",
           "lakecolor": "white",
           "landcolor": "#E5ECF6",
           "showlakes": true,
           "showland": true,
           "subunitcolor": "white"
          },
          "hoverlabel": {
           "align": "left"
          },
          "hovermode": "closest",
          "mapbox": {
           "style": "light"
          },
          "paper_bgcolor": "white",
          "plot_bgcolor": "#E5ECF6",
          "polar": {
           "angularaxis": {
            "gridcolor": "white",
            "linecolor": "white",
            "ticks": ""
           },
           "bgcolor": "#E5ECF6",
           "radialaxis": {
            "gridcolor": "white",
            "linecolor": "white",
            "ticks": ""
           }
          },
          "scene": {
           "xaxis": {
            "backgroundcolor": "#E5ECF6",
            "gridcolor": "white",
            "gridwidth": 2,
            "linecolor": "white",
            "showbackground": true,
            "ticks": "",
            "zerolinecolor": "white"
           },
           "yaxis": {
            "backgroundcolor": "#E5ECF6",
            "gridcolor": "white",
            "gridwidth": 2,
            "linecolor": "white",
            "showbackground": true,
            "ticks": "",
            "zerolinecolor": "white"
           },
           "zaxis": {
            "backgroundcolor": "#E5ECF6",
            "gridcolor": "white",
            "gridwidth": 2,
            "linecolor": "white",
            "showbackground": true,
            "ticks": "",
            "zerolinecolor": "white"
           }
          },
          "shapedefaults": {
           "line": {
            "color": "#2a3f5f"
           }
          },
          "ternary": {
           "aaxis": {
            "gridcolor": "white",
            "linecolor": "white",
            "ticks": ""
           },
           "baxis": {
            "gridcolor": "white",
            "linecolor": "white",
            "ticks": ""
           },
           "bgcolor": "#E5ECF6",
           "caxis": {
            "gridcolor": "white",
            "linecolor": "white",
            "ticks": ""
           }
          },
          "title": {
           "x": 0.05
          },
          "xaxis": {
           "automargin": true,
           "gridcolor": "white",
           "linecolor": "white",
           "ticks": "",
           "title": {
            "standoff": 15
           },
           "zerolinecolor": "white",
           "zerolinewidth": 2
          },
          "yaxis": {
           "automargin": true,
           "gridcolor": "white",
           "linecolor": "white",
           "ticks": "",
           "title": {
            "standoff": 15
           },
           "zerolinecolor": "white",
           "zerolinewidth": 2
          }
         }
        }
       }
      }
     },
     "metadata": {},
     "output_type": "display_data"
    }
   ],
   "source": [
    "fig = px.scatter_3d(df, x='Energy_density', y='TPE_white', z='Overlap',\n",
    "              color='TPE_white')\n",
    "fig.show()"
   ]
  }
 ],
 "metadata": {
  "kernelspec": {
   "display_name": "tf2.5",
   "language": "python",
   "name": "python3"
  },
  "language_info": {
   "codemirror_mode": {
    "name": "ipython",
    "version": 3
   },
   "file_extension": ".py",
   "mimetype": "text/x-python",
   "name": "python",
   "nbconvert_exporter": "python",
   "pygments_lexer": "ipython3",
   "version": "3.8.0"
  }
 },
 "nbformat": 4,
 "nbformat_minor": 2
}
