{
 "cells": [
  {
   "cell_type": "code",
   "execution_count": 29,
   "metadata": {},
   "outputs": [],
   "source": [
    "import cv2\n",
    "import numpy as np\n",
    "from matplotlib import pyplot as plt\n",
    "import glob\n",
    "from os.path import join, basename\n",
    "from skimage.util import img_as_ubyte\n",
    "import skimage as ski\n",
    "from skimage import filters\n",
    "from skimage import exposure"
   ]
  },
  {
   "cell_type": "code",
   "execution_count": 30,
   "metadata": {},
   "outputs": [],
   "source": [
    "# Your file paths\n",
    "DATAROOT = r\"E:\\Documentos\\01_DTU\\DTU-TFM\\Fotos\\DOE\\1\\2\"\n",
    "OUTPUT_PATH = r\"E:\\Documentos\\01_DTU\\DTU-TFM\\Fotos\\DOE\\1\\program to crop 2\"\n",
    "image_files = sorted(glob.glob(join(DATAROOT, '*.jpg')))  # List of file paths for all images\n",
    "# Read the image"
   ]
  },
  {
   "cell_type": "code",
   "execution_count": 31,
   "metadata": {},
   "outputs": [],
   "source": [
    "# Function to crop image around marking and save the crop\n",
    "t = 120\n",
    "target_width = 2500\n",
    "target_height = 1400\n",
    "\n",
    "# Create a CLAHE object\n",
    "clahe = cv2.createCLAHE(clipLimit=2.0, tileGridSize=(8, 8))\n",
    "\n",
    "def crop_and_save(image_path, output_path):\n",
    "    # Apply CLAHE to the image\n",
    "    read_img = cv2.imread(image_path, cv2.IMREAD_GRAYSCALE)\n",
    "    img = clahe.apply(read_img)\n",
    "\n",
    "    # create a mask based on the threshold    \n",
    "    thresh = (img < t).astype(np.uint8)\n",
    "    # Apply the binary mask to the original image\n",
    "    img_binary = cv2.bitwise_and(read_img, read_img, mask=thresh)  # Fix this line\n",
    "\n",
    "    # Find contours. Only external contours.\n",
    "    contours, _ = cv2.findContours(img_binary, cv2.RETR_EXTERNAL, cv2.CHAIN_APPROX_SIMPLE)\n",
    "\n",
    "    # From among the contours, find the contour of the largest area.\n",
    "    largest_contour = max(contours, key=cv2.contourArea)\n",
    "\n",
    "    # Draw a 2500x1400 bounding rectangle around this contour then crop it\n",
    "    x, y, w, h = cv2.boundingRect(largest_contour)\n",
    "    cv2.rectangle(read_img, (x, y), (x + target_width, y + target_height), (0, 255, 0), 2)\n",
    "    cropped_image = read_img[y:y + target_height, x:x + target_width]\n",
    "    \n",
    "    # Save cropped image to the specified output path\n",
    "    output_image_path = join(output_path, f\"cropped_{basename(image_path)}\")\n",
    "    cv2.imwrite(output_image_path, cropped_image)"
   ]
  },
  {
   "cell_type": "code",
   "execution_count": null,
   "metadata": {},
   "outputs": [],
   "source": []
  },
  {
   "cell_type": "code",
   "execution_count": 32,
   "metadata": {},
   "outputs": [
    {
     "name": "stdout",
     "output_type": "stream",
     "text": [
      "Crop and save complete.\n"
     ]
    }
   ],
   "source": [
    "# Loop through the first 4 images\n",
    "for image_path in image_files:\n",
    "    # Crop UDI code and save\n",
    "    crop_and_save(image_path, OUTPUT_PATH)\n",
    "\n",
    "print(\"Crop and save complete.\")"
   ]
  }
 ],
 "metadata": {
  "kernelspec": {
   "display_name": "tf2.5",
   "language": "python",
   "name": "python3"
  },
  "language_info": {
   "codemirror_mode": {
    "name": "ipython",
    "version": 3
   },
   "file_extension": ".py",
   "mimetype": "text/x-python",
   "name": "python",
   "nbconvert_exporter": "python",
   "pygments_lexer": "ipython3",
   "version": "3.8.0"
  }
 },
 "nbformat": 4,
 "nbformat_minor": 2
}
