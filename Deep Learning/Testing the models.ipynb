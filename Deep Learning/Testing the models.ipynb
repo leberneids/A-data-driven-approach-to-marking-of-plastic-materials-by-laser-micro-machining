{
 "cells": [
  {
   "cell_type": "code",
   "execution_count": 1,
   "metadata": {},
   "outputs": [],
   "source": [
    "from PIL import Image\n",
    "import os\n",
    "import numpy as np\n",
    "import pandas as pd\n",
    "from tqdm import tqdm\n",
    "\n",
    "from skimage.transform import resize\n",
    "from os.path import join\n",
    "\n",
    "import tensorflow as tf\n",
    "import matplotlib.pyplot as plt\n",
    "import torch\n",
    "\n",
    "from tensorflow.keras.models import Sequential\n",
    "from tensorflow.keras.layers import Conv2D, MaxPooling2D, Flatten, Dense, Activation, Dropout\n",
    "from tensorflow.keras.optimizers import Adam"
   ]
  },
  {
   "cell_type": "code",
   "execution_count": 3,
   "metadata": {},
   "outputs": [
    {
     "name": "stderr",
     "output_type": "stream",
     "text": [
      "Loading Images: 100%|██████████| 15/15 [00:02<00:00,  7.10it/s]\n"
     ]
    },
    {
     "name": "stdout",
     "output_type": "stream",
     "text": [
      "Shape of the first resized image: (512, 512, 3)\n",
      "Label of the first image: unknown\n"
     ]
    },
    {
     "ename": "ValueError",
     "evalue": "in user code:\n\n    File \"c:\\Anaconda\\envs\\tf2.5\\lib\\site-packages\\keras\\engine\\training.py\", line 2041, in predict_function  *\n        return step_function(self, iterator)\n    File \"c:\\Anaconda\\envs\\tf2.5\\lib\\site-packages\\keras\\engine\\training.py\", line 2027, in step_function  **\n        outputs = model.distribute_strategy.run(run_step, args=(data,))\n    File \"c:\\Anaconda\\envs\\tf2.5\\lib\\site-packages\\keras\\engine\\training.py\", line 2015, in run_step  **\n        outputs = model.predict_step(data)\n    File \"c:\\Anaconda\\envs\\tf2.5\\lib\\site-packages\\keras\\engine\\training.py\", line 1983, in predict_step\n        return self(x, training=False)\n    File \"c:\\Anaconda\\envs\\tf2.5\\lib\\site-packages\\keras\\utils\\traceback_utils.py\", line 70, in error_handler\n        raise e.with_traceback(filtered_tb) from None\n    File \"c:\\Anaconda\\envs\\tf2.5\\lib\\site-packages\\keras\\engine\\input_spec.py\", line 295, in assert_input_compatibility\n        raise ValueError(\n\n    ValueError: Input 0 of layer \"sequential\" is incompatible with the layer: expected shape=(None, 512, 512, 4), found shape=(None, 512, 512, 3)\n",
     "output_type": "error",
     "traceback": [
      "\u001b[1;31m---------------------------------------------------------------------------\u001b[0m",
      "\u001b[1;31mValueError\u001b[0m                                Traceback (most recent call last)",
      "Cell \u001b[1;32mIn[3], line 52\u001b[0m\n\u001b[0;32m     49\u001b[0m \u001b[38;5;28mprint\u001b[39m(\u001b[38;5;124m\"\u001b[39m\u001b[38;5;124mLabel of the first image:\u001b[39m\u001b[38;5;124m\"\u001b[39m, labels[\u001b[38;5;241m0\u001b[39m])\n\u001b[0;32m     51\u001b[0m \u001b[38;5;66;03m# Predict using the loaded model\u001b[39;00m\n\u001b[1;32m---> 52\u001b[0m predictions \u001b[38;5;241m=\u001b[39m \u001b[43mmodel\u001b[49m\u001b[38;5;241;43m.\u001b[39;49m\u001b[43mpredict\u001b[49m\u001b[43m(\u001b[49m\u001b[43mimages\u001b[49m\u001b[43m)\u001b[49m\n\u001b[0;32m     54\u001b[0m \u001b[38;5;66;03m# Visualize the images with actual labels and predicted contrasts\u001b[39;00m\n\u001b[0;32m     55\u001b[0m \u001b[38;5;28;01mfor\u001b[39;00m i \u001b[38;5;129;01min\u001b[39;00m \u001b[38;5;28mrange\u001b[39m(\u001b[38;5;28mlen\u001b[39m(images)):\n",
      "File \u001b[1;32mc:\\Anaconda\\envs\\tf2.5\\lib\\site-packages\\keras\\utils\\traceback_utils.py:70\u001b[0m, in \u001b[0;36mfilter_traceback.<locals>.error_handler\u001b[1;34m(*args, **kwargs)\u001b[0m\n\u001b[0;32m     67\u001b[0m     filtered_tb \u001b[38;5;241m=\u001b[39m _process_traceback_frames(e\u001b[38;5;241m.\u001b[39m__traceback__)\n\u001b[0;32m     68\u001b[0m     \u001b[38;5;66;03m# To get the full stack trace, call:\u001b[39;00m\n\u001b[0;32m     69\u001b[0m     \u001b[38;5;66;03m# `tf.debugging.disable_traceback_filtering()`\u001b[39;00m\n\u001b[1;32m---> 70\u001b[0m     \u001b[38;5;28;01mraise\u001b[39;00m e\u001b[38;5;241m.\u001b[39mwith_traceback(filtered_tb) \u001b[38;5;28;01mfrom\u001b[39;00m \u001b[38;5;28;01mNone\u001b[39;00m\n\u001b[0;32m     71\u001b[0m \u001b[38;5;28;01mfinally\u001b[39;00m:\n\u001b[0;32m     72\u001b[0m     \u001b[38;5;28;01mdel\u001b[39;00m filtered_tb\n",
      "File \u001b[1;32m~\\AppData\\Local\\Temp\\__autograph_generated_fileltpw8ylh.py:15\u001b[0m, in \u001b[0;36mouter_factory.<locals>.inner_factory.<locals>.tf__predict_function\u001b[1;34m(iterator)\u001b[0m\n\u001b[0;32m     13\u001b[0m \u001b[38;5;28;01mtry\u001b[39;00m:\n\u001b[0;32m     14\u001b[0m     do_return \u001b[38;5;241m=\u001b[39m \u001b[38;5;28;01mTrue\u001b[39;00m\n\u001b[1;32m---> 15\u001b[0m     retval_ \u001b[38;5;241m=\u001b[39m ag__\u001b[38;5;241m.\u001b[39mconverted_call(ag__\u001b[38;5;241m.\u001b[39mld(step_function), (ag__\u001b[38;5;241m.\u001b[39mld(\u001b[38;5;28mself\u001b[39m), ag__\u001b[38;5;241m.\u001b[39mld(iterator)), \u001b[38;5;28;01mNone\u001b[39;00m, fscope)\n\u001b[0;32m     16\u001b[0m \u001b[38;5;28;01mexcept\u001b[39;00m:\n\u001b[0;32m     17\u001b[0m     do_return \u001b[38;5;241m=\u001b[39m \u001b[38;5;28;01mFalse\u001b[39;00m\n",
      "\u001b[1;31mValueError\u001b[0m: in user code:\n\n    File \"c:\\Anaconda\\envs\\tf2.5\\lib\\site-packages\\keras\\engine\\training.py\", line 2041, in predict_function  *\n        return step_function(self, iterator)\n    File \"c:\\Anaconda\\envs\\tf2.5\\lib\\site-packages\\keras\\engine\\training.py\", line 2027, in step_function  **\n        outputs = model.distribute_strategy.run(run_step, args=(data,))\n    File \"c:\\Anaconda\\envs\\tf2.5\\lib\\site-packages\\keras\\engine\\training.py\", line 2015, in run_step  **\n        outputs = model.predict_step(data)\n    File \"c:\\Anaconda\\envs\\tf2.5\\lib\\site-packages\\keras\\engine\\training.py\", line 1983, in predict_step\n        return self(x, training=False)\n    File \"c:\\Anaconda\\envs\\tf2.5\\lib\\site-packages\\keras\\utils\\traceback_utils.py\", line 70, in error_handler\n        raise e.with_traceback(filtered_tb) from None\n    File \"c:\\Anaconda\\envs\\tf2.5\\lib\\site-packages\\keras\\engine\\input_spec.py\", line 295, in assert_input_compatibility\n        raise ValueError(\n\n    ValueError: Input 0 of layer \"sequential\" is incompatible with the layer: expected shape=(None, 512, 512, 4), found shape=(None, 512, 512, 3)\n"
     ]
    }
   ],
   "source": [
    "from matplotlib import image as mpimg \n",
    "\n",
    "# Your data directory\n",
    "data_dir = r\"E:\\Documentos\\01_DTU\\DTU-TFM\\Fotos\\Real DOE\\UV\\LDPE black\"\n",
    "image_exts = ['.tif']\n",
    "\n",
    "# Load the model\n",
    "model = tf.keras.models.load_model('CNN.model')\n",
    "\n",
    "# Assuming df is your DataFrame containing 'Image' and 'Contrast' columns\n",
    "# (Replace this with your actual DataFrame)\n",
    "df = pd.read_csv(r\"E:\\Documentos\\02_Programming\\A-data-driven-approach-to-marking-of-plastic-materials-by-laser-micro-machining\\Image processing\\Contrast and Histograms\\Real DOE\\Contrast_results_DOE__UV_PP_Black.csv\")\n",
    "label_dict = pd.Series(df['Contrast'].values, index=df['Image']).to_dict()\n",
    "\n",
    "# Get a list of all .tif files in the directory\n",
    "image_files = [os.path.join(data_dir, f) for f in os.listdir(data_dir) if any(f.endswith(ext) for ext in image_exts)]\n",
    "\n",
    "# Choose only the first 15 images for testing\n",
    "image_files_subset = image_files[:15]\n",
    "\n",
    "# Load Images and Labels\n",
    "images = []\n",
    "labels = []\n",
    "\n",
    "# New size for the resized images\n",
    "new_size = (512, 512)\n",
    "\n",
    "for image_file in tqdm(image_files_subset, desc=\"Loading Images\"):\n",
    "\n",
    "    # Load image\n",
    "    img = Image.open(image_file)\n",
    "    img = img.resize(new_size)  # Resize the image\n",
    "    img = np.array(img) / 255.0  # Convert to numpy array and normalize pixel values\n",
    "    img = tf.cast(img, tf.float32) / 255.0\n",
    "    \n",
    "    # Get the corresponding label from the dictionary\n",
    "    label = label_dict.get(os.path.basename(image_file), 'unknown')  # Use 'unknown' if label is not in the dictionary\n",
    "    \n",
    "    # Append to lists\n",
    "    images.append(img)\n",
    "    labels.append(label)\n",
    "\n",
    "# Convert lists to arrays\n",
    "images = np.array(images)\n",
    "labels = np.array(labels)\n",
    "\n",
    "# Check the shape of the first resized image and label\n",
    "print(\"Shape of the first resized image:\", images[0].shape)\n",
    "print(\"Label of the first image:\", labels[0])\n",
    "\n",
    "# Predict using the loaded model\n",
    "predictions = model.predict(images)\n",
    "\n",
    "# Visualize the images with actual labels and predicted contrasts\n",
    "for i in range(len(images)):\n",
    "    plt.figure(figsize=(8, 8))\n",
    "    \n",
    "    # Actual image with actual label\n",
    "    plt.subplot(2, 1, 1)\n",
    "    img_actual = mpimg.imread(image_files_subset[i])\n",
    "    plt.imshow(img_actual)\n",
    "    plt.title(f\"Actual Label: {labels[i]}\")\n",
    "    plt.axis('off')\n",
    "    \n",
    "    # Predicted contrast below the actual image\n",
    "    plt.subplot(2, 1, 2)\n",
    "    plt.plot([-100, 100], [-100, 100], '--', color='gray')  # Diagonal line\n",
    "    plt.scatter(labels[i], predictions[i], color='red')\n",
    "    plt.title(f\"Predicted Contrast: {predictions[i][0]:.2f}\")\n",
    "    plt.xlabel('Actual Contrast')\n",
    "    plt.ylabel('Predicted Contrast')\n",
    "    \n",
    "    plt.show()"
   ]
  },
  {
   "cell_type": "code",
   "execution_count": null,
   "metadata": {},
   "outputs": [],
   "source": []
  }
 ],
 "metadata": {
  "kernelspec": {
   "display_name": "tf2.5",
   "language": "python",
   "name": "python3"
  },
  "language_info": {
   "codemirror_mode": {
    "name": "ipython",
    "version": 3
   },
   "file_extension": ".py",
   "mimetype": "text/x-python",
   "name": "python",
   "nbconvert_exporter": "python",
   "pygments_lexer": "ipython3",
   "version": "3.8.0"
  }
 },
 "nbformat": 4,
 "nbformat_minor": 2
}
