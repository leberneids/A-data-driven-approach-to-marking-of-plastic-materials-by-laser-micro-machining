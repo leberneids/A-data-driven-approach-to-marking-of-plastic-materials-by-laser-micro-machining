{
 "cells": [
  {
   "cell_type": "code",
   "execution_count": 1,
   "metadata": {},
   "outputs": [],
   "source": [
    "import pandas as pd\n",
    "import numpy as np\n",
    "import matplotlib.pyplot as plt\n",
    "import seaborn as sns\n",
    "from scipy.stats import gaussian_kde\n",
    "import plotly.express as px\n"
   ]
  },
  {
   "cell_type": "code",
   "execution_count": 2,
   "metadata": {},
   "outputs": [],
   "source": [
    "df=pd.read_excel('DOE UV results.xlsx')"
   ]
  },
  {
   "cell_type": "code",
   "execution_count": 3,
   "metadata": {},
   "outputs": [
    {
     "data": {
      "text/html": [
       "<div>\n",
       "<style scoped>\n",
       "    .dataframe tbody tr th:only-of-type {\n",
       "        vertical-align: middle;\n",
       "    }\n",
       "\n",
       "    .dataframe tbody tr th {\n",
       "        vertical-align: top;\n",
       "    }\n",
       "\n",
       "    .dataframe thead th {\n",
       "        text-align: right;\n",
       "    }\n",
       "</style>\n",
       "<table border=\"1\" class=\"dataframe\">\n",
       "  <thead>\n",
       "    <tr style=\"text-align: right;\">\n",
       "      <th></th>\n",
       "      <th>Pattern</th>\n",
       "      <th>Line width</th>\n",
       "      <th>Laser power</th>\n",
       "      <th>Speed</th>\n",
       "      <th>Pulse Frequency</th>\n",
       "      <th>LDPE_black</th>\n",
       "      <th>LDPE_white</th>\n",
       "      <th>PP_black</th>\n",
       "      <th>PP_white</th>\n",
       "      <th>TPE_black</th>\n",
       "      <th>TPE_white</th>\n",
       "      <th>Unnamed: 11</th>\n",
       "      <th>Unnamed: 12</th>\n",
       "      <th>Unnamed: 13</th>\n",
       "      <th>Unnamed: 14</th>\n",
       "      <th>Energy_density</th>\n",
       "      <th>Overlap</th>\n",
       "    </tr>\n",
       "  </thead>\n",
       "  <tbody>\n",
       "    <tr>\n",
       "      <th>0</th>\n",
       "      <td>1111</td>\n",
       "      <td>0.04</td>\n",
       "      <td>60</td>\n",
       "      <td>200</td>\n",
       "      <td>10</td>\n",
       "      <td>56.627273</td>\n",
       "      <td>27.336801</td>\n",
       "      <td>44.499813</td>\n",
       "      <td>35.926909</td>\n",
       "      <td>32.644855</td>\n",
       "      <td>41.098969</td>\n",
       "      <td>NaN</td>\n",
       "      <td>NaN</td>\n",
       "      <td>NaN</td>\n",
       "      <td>NaN</td>\n",
       "      <td>10.981691</td>\n",
       "      <td>50.000000</td>\n",
       "    </tr>\n",
       "    <tr>\n",
       "      <th>1</th>\n",
       "      <td>1112</td>\n",
       "      <td>0.04</td>\n",
       "      <td>60</td>\n",
       "      <td>200</td>\n",
       "      <td>30</td>\n",
       "      <td>64.600129</td>\n",
       "      <td>20.344014</td>\n",
       "      <td>58.333990</td>\n",
       "      <td>24.256039</td>\n",
       "      <td>33.982882</td>\n",
       "      <td>25.686821</td>\n",
       "      <td>NaN</td>\n",
       "      <td>NaN</td>\n",
       "      <td>NaN</td>\n",
       "      <td>NaN</td>\n",
       "      <td>3.660564</td>\n",
       "      <td>83.333333</td>\n",
       "    </tr>\n",
       "    <tr>\n",
       "      <th>2</th>\n",
       "      <td>1113</td>\n",
       "      <td>0.04</td>\n",
       "      <td>60</td>\n",
       "      <td>200</td>\n",
       "      <td>50</td>\n",
       "      <td>64.994618</td>\n",
       "      <td>20.626245</td>\n",
       "      <td>62.825093</td>\n",
       "      <td>23.773932</td>\n",
       "      <td>35.027344</td>\n",
       "      <td>25.084578</td>\n",
       "      <td>NaN</td>\n",
       "      <td>NaN</td>\n",
       "      <td>NaN</td>\n",
       "      <td>NaN</td>\n",
       "      <td>2.196338</td>\n",
       "      <td>90.000000</td>\n",
       "    </tr>\n",
       "    <tr>\n",
       "      <th>3</th>\n",
       "      <td>1121</td>\n",
       "      <td>0.04</td>\n",
       "      <td>60</td>\n",
       "      <td>800</td>\n",
       "      <td>10</td>\n",
       "      <td>30.417156</td>\n",
       "      <td>39.979949</td>\n",
       "      <td>41.913434</td>\n",
       "      <td>44.364976</td>\n",
       "      <td>22.701022</td>\n",
       "      <td>43.749489</td>\n",
       "      <td>NaN</td>\n",
       "      <td>NaN</td>\n",
       "      <td>NaN</td>\n",
       "      <td>NaN</td>\n",
       "      <td>10.981691</td>\n",
       "      <td>-100.000000</td>\n",
       "    </tr>\n",
       "    <tr>\n",
       "      <th>4</th>\n",
       "      <td>1122</td>\n",
       "      <td>0.04</td>\n",
       "      <td>60</td>\n",
       "      <td>800</td>\n",
       "      <td>30</td>\n",
       "      <td>19.799084</td>\n",
       "      <td>33.545615</td>\n",
       "      <td>23.858571</td>\n",
       "      <td>44.364170</td>\n",
       "      <td>18.754696</td>\n",
       "      <td>30.658517</td>\n",
       "      <td>NaN</td>\n",
       "      <td>NaN</td>\n",
       "      <td>NaN</td>\n",
       "      <td>NaN</td>\n",
       "      <td>3.660564</td>\n",
       "      <td>33.333333</td>\n",
       "    </tr>\n",
       "  </tbody>\n",
       "</table>\n",
       "</div>"
      ],
      "text/plain": [
       "   Pattern  Line width  Laser power  Speed  Pulse Frequency  LDPE_black  \\\n",
       "0     1111        0.04           60    200               10   56.627273   \n",
       "1     1112        0.04           60    200               30   64.600129   \n",
       "2     1113        0.04           60    200               50   64.994618   \n",
       "3     1121        0.04           60    800               10   30.417156   \n",
       "4     1122        0.04           60    800               30   19.799084   \n",
       "\n",
       "   LDPE_white   PP_black   PP_white  TPE_black  TPE_white  Unnamed: 11  \\\n",
       "0   27.336801  44.499813  35.926909  32.644855  41.098969          NaN   \n",
       "1   20.344014  58.333990  24.256039  33.982882  25.686821          NaN   \n",
       "2   20.626245  62.825093  23.773932  35.027344  25.084578          NaN   \n",
       "3   39.979949  41.913434  44.364976  22.701022  43.749489          NaN   \n",
       "4   33.545615  23.858571  44.364170  18.754696  30.658517          NaN   \n",
       "\n",
       "   Unnamed: 12  Unnamed: 13  Unnamed: 14  Energy_density     Overlap  \n",
       "0          NaN          NaN          NaN       10.981691   50.000000  \n",
       "1          NaN          NaN          NaN        3.660564   83.333333  \n",
       "2          NaN          NaN          NaN        2.196338   90.000000  \n",
       "3          NaN          NaN          NaN       10.981691 -100.000000  \n",
       "4          NaN          NaN          NaN        3.660564   33.333333  "
      ]
     },
     "execution_count": 3,
     "metadata": {},
     "output_type": "execute_result"
    }
   ],
   "source": [
    "df.head()"
   ]
  },
  {
   "cell_type": "code",
   "execution_count": 7,
   "metadata": {},
   "outputs": [
    {
     "data": {
      "image/png": "[encoded data removed]",
      "text/plain": [
       "<Figure size 1200x700 with 1 Axes>"
      ]
     },
     "metadata": {},
     "output_type": "display_data"
    }
   ],
   "source": [
    "# Scatter plot with a density overlay and color by 'LDPE_black'\n",
    "plt.figure(figsize=(12, 7))\n",
    "sns.scatterplot(x='Energy_density', y='Overlap', data=df, hue='LDPE_black', alpha=0.5, palette='viridis')\n",
    "\n",
    "# Add title and labels\n",
    "plt.title('Scatter Plot of Overlap vs Energy Density Colored by LDPE black')\n",
    "plt.xlabel('Energy Density')\n",
    "plt.ylabel('Overlap')\n",
    "plt.legend(title='LDPE black', loc='best')  # You can change the location of the legend if needed\n",
    "\n",
    "# Show the plot\n",
    "plt.show()\n"
   ]
  },
  {
   "cell_type": "code",
   "execution_count": 10,
   "metadata": {},
   "outputs": [
    {
     "data": {
      "application/vnd.plotly.v1+json": {
       "config": {
        "plotlyServerURL": "https://plot.ly"
       },
       "data": [
        {
         "hovertemplate": "Energy_density=%{x}<br>LDPE_black=%{marker.color}<br>Overlap=%{z}<extra></extra>",
         "legendgroup": "",
         "marker": {
          "color": [
           56.6272725687168,
           64.6001286106917,
           64.9946184392763,
           30.4171559193841,
           19.799083515746,
           7.60040185603055,
           21.5513034791412,
           9.04923752555641,
           6.3892995038164,
           59.592125949172,
           49.1672657224959,
           43.3960727186029,
           29.6492888313745,
           52.505312372901,
           6.54740534411382,
           22.8356416676366,
           30.1571683848289,
           10.3978130896769,
           9.94305902428679,
           39.7687349226247,
           50.2480080503382,
           27.6567928258313,
           56.3356777121936,
           28.868732602663,
           20.354949444721,
           45.3827813720037,
           9.47455290978576,
           55.7533837139058,
           57.9147259145091,
           6.57941491584953,
           18.9414278011015,
           10.3914822842458,
           8.27690634337102,
           17.8286347468201,
           7.93971372798419,
           7.23016153371732,
           53.8864284352785,
           53.711637215529,
           31.2949348667237,
           22.9074461345821,
           44.3751733164122,
           5.48976471298522,
           18.5892588724162,
           36.9058075267389,
           6.21483126841468,
           53.8035567565494,
           43.8361579144378,
           49.5080927600998,
           26.5649086675675,
           46.9423559769678,
           23.7361218038428,
           17.6609541927783,
           37.6491244276468,
           14.0527477037185,
           53.5634914536532,
           58.5954604190034,
           6.1834450655805,
           24.9964633807947,
           7.81842533620809,
           6.14565625416041,
           17.2455170804861,
           8.49948998183338,
           6.9827114512147,
           53.3397520608962,
           52.2367235177583,
           37.7102006769868,
           26.6854720569516,
           39.6814302028884,
           8.68112343239295,
           21.7753723726909,
           37.7620106364122,
           8.41891696925845,
           49.598265133993,
           34.998029469237,
           46.946481831176,
           23.3429427554881,
           44.5970335867657,
           22.8602559725551,
           20.9404767491347,
           38.7169552501006,
           13.6081161236424
          ],
          "coloraxis": "coloraxis",
          "symbol": "circle"
         },
         "mode": "markers",
         "name": "",
         "scene": "scene",
         "showlegend": false,
         "type": "scatter3d",
         "x": [
          10.981691073340789,
          3.660563691113596,
          2.196338214668158,
          10.981691073340789,
          3.660563691113596,
          2.196338214668158,
          10.981691073340789,
          3.660563691113596,
          2.196338214668158,
          14.642254764454385,
          4.880751588151462,
          2.928450952890877,
          14.642254764454385,
          4.880751588151462,
          2.928450952890877,
          14.642254764454385,
          4.880751588151462,
          2.928450952890877,
          18.30281845556798,
          6.100939485189326,
          3.6605636911135964,
          18.30281845556798,
          6.100939485189326,
          3.6605636911135964,
          18.30281845556798,
          6.100939485189326,
          3.6605636911135964,
          3.5858583096622976,
          1.1952861032207658,
          0.7171716619324594,
          3.5858583096622976,
          1.1952861032207658,
          0.7171716619324594,
          3.5858583096622976,
          1.1952861032207658,
          0.7171716619324594,
          4.781144412883063,
          1.5937148042943543,
          0.9562288825766126,
          4.781144412883063,
          1.5937148042943543,
          0.9562288825766126,
          4.781144412883063,
          1.5937148042943543,
          0.9562288825766126,
          5.976430516103829,
          1.9921435053679428,
          1.1952861032207658,
          5.976430516103829,
          1.9921435053679428,
          1.1952861032207658,
          5.976430516103829,
          1.9921435053679428,
          1.1952861032207658,
          1.7570705717345259,
          0.5856901905781754,
          0.3514141143469052,
          1.7570705717345259,
          0.5856901905781754,
          0.3514141143469052,
          1.7570705717345259,
          0.5856901905781754,
          0.3514141143469052,
          2.342760762312701,
          0.7809202541042338,
          0.4685521524625403,
          2.342760762312701,
          0.7809202541042338,
          0.4685521524625403,
          2.342760762312701,
          0.7809202541042338,
          0.4685521524625403,
          2.9284509528908766,
          0.9761503176302923,
          0.5856901905781754,
          2.9284509528908766,
          0.9761503176302923,
          0.5856901905781754,
          2.9284509528908766,
          0.9761503176302923,
          0.5856901905781754
         ],
         "y": [
          56.6272725687168,
          64.6001286106917,
          64.9946184392763,
          30.4171559193841,
          19.799083515746,
          7.60040185603055,
          21.5513034791412,
          9.04923752555641,
          6.3892995038164,
          59.592125949172,
          49.1672657224959,
          43.3960727186029,
          29.6492888313745,
          52.505312372901,
          6.54740534411382,
          22.8356416676366,
          30.1571683848289,
          10.3978130896769,
          9.94305902428679,
          39.7687349226247,
          50.2480080503382,
          27.6567928258313,
          56.3356777121936,
          28.868732602663,
          20.354949444721,
          45.3827813720037,
          9.47455290978576,
          55.7533837139058,
          57.9147259145091,
          6.57941491584953,
          18.9414278011015,
          10.3914822842458,
          8.27690634337102,
          17.8286347468201,
          7.93971372798419,
          7.23016153371732,
          53.8864284352785,
          53.711637215529,
          31.2949348667237,
          22.9074461345821,
          44.3751733164122,
          5.48976471298522,
          18.5892588724162,
          36.9058075267389,
          6.21483126841468,
          53.8035567565494,
          43.8361579144378,
          49.5080927600998,
          26.5649086675675,
          46.9423559769678,
          23.7361218038428,
          17.6609541927783,
          37.6491244276468,
          14.0527477037185,
          53.5634914536532,
          58.5954604190034,
          6.1834450655805,
          24.9964633807947,
          7.81842533620809,
          6.14565625416041,
          17.2455170804861,
          8.49948998183338,
          6.9827114512147,
          53.3397520608962,
          52.2367235177583,
          37.7102006769868,
          26.6854720569516,
          39.6814302028884,
          8.68112343239295,
          21.7753723726909,
          37.7620106364122,
          8.41891696925845,
          49.598265133993,
          34.998029469237,
          46.946481831176,
          23.3429427554881,
          44.5970335867657,
          22.8602559725551,
          20.9404767491347,
          38.7169552501006,
          13.6081161236424
         ],
         "z": [
          50,
          83.33333333333333,
          90.00000000000001,
          -100,
          33.33333333333333,
          60,
          -199.99999999999994,
          0,
          40,
          50,
          83.33333333333333,
          90.00000000000001,
          -100,
          33.33333333333333,
          60,
          -199.99999999999994,
          0,
          40,
          50,
          83.33333333333333,
          90.00000000000001,
          -100,
          33.33333333333333,
          60,
          -199.99999999999994,
          0,
          40,
          71.42857142857143,
          90.47619047619048,
          94.28571428571428,
          -14.285714285714276,
          61.9047619047619,
          77.14285714285715,
          -71.4285714285714,
          42.85714285714286,
          65.71428571428571,
          71.42857142857143,
          90.47619047619048,
          94.28571428571428,
          -14.285714285714276,
          61.9047619047619,
          77.14285714285715,
          -71.4285714285714,
          42.85714285714286,
          65.71428571428571,
          71.42857142857143,
          90.47619047619048,
          94.28571428571428,
          -14.285714285714276,
          61.9047619047619,
          77.14285714285715,
          -71.4285714285714,
          42.85714285714286,
          65.71428571428571,
          80,
          93.33333333333333,
          96,
          20.000000000000004,
          73.33333333333333,
          84,
          -19.99999999999999,
          60,
          76.00000000000001,
          80,
          93.33333333333333,
          96,
          20.000000000000004,
          73.33333333333333,
          84,
          -19.99999999999999,
          60,
          76.00000000000001,
          80,
          93.33333333333333,
          96,
          20.000000000000004,
          73.33333333333333,
          84,
          -19.99999999999999,
          60,
          76.00000000000001
         ]
        }
       ],
       "layout": {
        "coloraxis": {
         "colorbar": {
          "title": {
           "text": "LDPE_black"
          }
         },
         "colorscale": [
          [
           0,
           "#0d0887"
          ],
          [
           0.1111111111111111,
           "#46039f"
          ],
          [
           0.2222222222222222,
           "#7201a8"
          ],
          [
           0.3333333333333333,
           "#9c179e"
          ],
          [
           0.4444444444444444,
           "#bd3786"
          ],
          [
           0.5555555555555556,
           "#d8576b"
          ],
          [
           0.6666666666666666,
           "#ed7953"
          ],
          [
           0.7777777777777778,
           "#fb9f3a"
          ],
          [
           0.8888888888888888,
           "#fdca26"
          ],
          [
           1,
           "#f0f921"
          ]
         ]
        },
        "height": 600,
        "legend": {
         "tracegroupgap": 0
        },
        "margin": {
         "t": 60
        },
        "scene": {
         "aspectmode": "cube",
         "domain": {
          "x": [
           0,
           1
          ],
          "y": [
           0,
           1
          ]
         },
         "xaxis": {
          "range": [
           0,
           10
          ],
          "title": {
           "text": "Energy_density"
          }
         },
         "yaxis": {
          "range": [
           0,
           70
          ],
          "title": {
           "text": "LDPE_black"
          }
         },
         "zaxis": {
          "range": [
           0,
           100
          ],
          "title": {
           "text": "Overlap"
          }
         }
        },
        "template": {
         "data": {
          "bar": [
           {
            "error_x": {
             "color": "#2a3f5f"
            },
            "error_y": {
             "color": "#2a3f5f"
            },
            "marker": {
             "line": {
              "color": "#E5ECF6",
              "width": 0.5
             },
             "pattern": {
              "fillmode": "overlay",
              "size": 10,
              "solidity": 0.2
             }
            },
            "type": "bar"
           }
          ],
          "barpolar": [
           {
            "marker": {
             "line": {
              "color": "#E5ECF6",
              "width": 0.5
             },
             "pattern": {
              "fillmode": "overlay",
              "size": 10,
              "solidity": 0.2
             }
            },
            "type": "barpolar"
           }
          ],
          "carpet": [
           {
            "aaxis": {
             "endlinecolor": "#2a3f5f",
             "gridcolor": "white",
             "linecolor": "white",
             "minorgridcolor": "white",
             "startlinecolor": "#2a3f5f"
            },
            "baxis": {
             "endlinecolor": "#2a3f5f",
             "gridcolor": "white",
             "linecolor": "white",
             "minorgridcolor": "white",
             "startlinecolor": "#2a3f5f"
            },
            "type": "carpet"
           }
          ],
          "choropleth": [
           {
            "colorbar": {
             "outlinewidth": 0,
             "ticks": ""
            },
            "type": "choropleth"
           }
          ],
          "contour": [
           {
            "colorbar": {
             "outlinewidth": 0,
             "ticks": ""
            },
            "colorscale": [
             [
              0,
              "#0d0887"
             ],
             [
              0.1111111111111111,
              "#46039f"
             ],
             [
              0.2222222222222222,
              "#7201a8"
             ],
             [
              0.3333333333333333,
              "#9c179e"
             ],
             [
              0.4444444444444444,
              "#bd3786"
             ],
             [
              0.5555555555555556,
              "#d8576b"
             ],
             [
              0.6666666666666666,
              "#ed7953"
             ],
             [
              0.7777777777777778,
              "#fb9f3a"
             ],
             [
              0.8888888888888888,
              "#fdca26"
             ],
             [
              1,
              "#f0f921"
             ]
            ],
            "type": "contour"
           }
          ],
          "contourcarpet": [
           {
            "colorbar": {
             "outlinewidth": 0,
             "ticks": ""
            },
            "type": "contourcarpet"
           }
          ],
          "heatmap": [
           {
            "colorbar": {
             "outlinewidth": 0,
             "ticks": ""
            },
            "colorscale": [
             [
              0,
              "#0d0887"
             ],
             [
              0.1111111111111111,
              "#46039f"
             ],
             [
              0.2222222222222222,
              "#7201a8"
             ],
             [
              0.3333333333333333,
              "#9c179e"
             ],
             [
              0.4444444444444444,
              "#bd3786"
             ],
             [
              0.5555555555555556,
              "#d8576b"
             ],
             [
              0.6666666666666666,
              "#ed7953"
             ],
             [
              0.7777777777777778,
              "#fb9f3a"
             ],
             [
              0.8888888888888888,
              "#fdca26"
             ],
             [
              1,
              "#f0f921"
             ]
            ],
            "type": "heatmap"
           }
          ],
          "heatmapgl": [
           {
            "colorbar": {
             "outlinewidth": 0,
             "ticks": ""
            },
            "colorscale": [
             [
              0,
              "#0d0887"
             ],
             [
              0.1111111111111111,
              "#46039f"
             ],
             [
              0.2222222222222222,
              "#7201a8"
             ],
             [
              0.3333333333333333,
              "#9c179e"
             ],
             [
              0.4444444444444444,
              "#bd3786"
             ],
             [
              0.5555555555555556,
              "#d8576b"
             ],
             [
              0.6666666666666666,
              "#ed7953"
             ],
             [
              0.7777777777777778,
              "#fb9f3a"
             ],
             [
              0.8888888888888888,
              "#fdca26"
             ],
             [
              1,
              "#f0f921"
             ]
            ],
            "type": "heatmapgl"
           }
          ],
          "histogram": [
           {
            "marker": {
             "pattern": {
              "fillmode": "overlay",
              "size": 10,
              "solidity": 0.2
             }
            },
            "type": "histogram"
           }
          ],
          "histogram2d": [
           {
            "colorbar": {
             "outlinewidth": 0,
             "ticks": ""
            },
            "colorscale": [
             [
              0,
              "#0d0887"
             ],
             [
              0.1111111111111111,
              "#46039f"
             ],
             [
              0.2222222222222222,
              "#7201a8"
             ],
             [
              0.3333333333333333,
              "#9c179e"
             ],
             [
              0.4444444444444444,
              "#bd3786"
             ],
             [
              0.5555555555555556,
              "#d8576b"
             ],
             [
              0.6666666666666666,
              "#ed7953"
             ],
             [
              0.7777777777777778,
              "#fb9f3a"
             ],
             [
              0.8888888888888888,
              "#fdca26"
             ],
             [
              1,
              "#f0f921"
             ]
            ],
            "type": "histogram2d"
           }
          ],
          "histogram2dcontour": [
           {
            "colorbar": {
             "outlinewidth": 0,
             "ticks": ""
            },
            "colorscale": [
             [
              0,
              "#0d0887"
             ],
             [
              0.1111111111111111,
              "#46039f"
             ],
             [
              0.2222222222222222,
              "#7201a8"
             ],
             [
              0.3333333333333333,
              "#9c179e"
             ],
             [
              0.4444444444444444,
              "#bd3786"
             ],
             [
              0.5555555555555556,
              "#d8576b"
             ],
             [
              0.6666666666666666,
              "#ed7953"
             ],
             [
              0.7777777777777778,
              "#fb9f3a"
             ],
             [
              0.8888888888888888,
              "#fdca26"
             ],
             [
              1,
              "#f0f921"
             ]
            ],
            "type": "histogram2dcontour"
           }
          ],
          "mesh3d": [
           {
            "colorbar": {
             "outlinewidth": 0,
             "ticks": ""
            },
            "type": "mesh3d"
           }
          ],
          "parcoords": [
           {
            "line": {
             "colorbar": {
              "outlinewidth": 0,
              "ticks": ""
             }
            },
            "type": "parcoords"
           }
          ],
          "pie": [
           {
            "automargin": true,
            "type": "pie"
           }
          ],
          "scatter": [
           {
            "fillpattern": {
             "fillmode": "overlay",
             "size": 10,
             "solidity": 0.2
            },
            "type": "scatter"
           }
          ],
          "scatter3d": [
           {
            "line": {
             "colorbar": {
              "outlinewidth": 0,
              "ticks": ""
             }
            },
            "marker": {
             "colorbar": {
              "outlinewidth": 0,
              "ticks": ""
             }
            },
            "type": "scatter3d"
           }
          ],
          "scattercarpet": [
           {
            "marker": {
             "colorbar": {
              "outlinewidth": 0,
              "ticks": ""
             }
            },
            "type": "scattercarpet"
           }
          ],
          "scattergeo": [
           {
            "marker": {
             "colorbar": {
              "outlinewidth": 0,
              "ticks": ""
             }
            },
            "type": "scattergeo"
           }
          ],
          "scattergl": [
           {
            "marker": {
             "colorbar": {
              "outlinewidth": 0,
              "ticks": ""
             }
            },
            "type": "scattergl"
           }
          ],
          "scattermapbox": [
           {
            "marker": {
             "colorbar": {
              "outlinewidth": 0,
              "ticks": ""
             }
            },
            "type": "scattermapbox"
           }
          ],
          "scatterpolar": [
           {
            "marker": {
             "colorbar": {
              "outlinewidth": 0,
              "ticks": ""
             }
            },
            "type": "scatterpolar"
           }
          ],
          "scatterpolargl": [
           {
            "marker": {
             "colorbar": {
              "outlinewidth": 0,
              "ticks": ""
             }
            },
            "type": "scatterpolargl"
           }
          ],
          "scatterternary": [
           {
            "marker": {
             "colorbar": {
              "outlinewidth": 0,
              "ticks": ""
             }
            },
            "type": "scatterternary"
           }
          ],
          "surface": [
           {
            "colorbar": {
             "outlinewidth": 0,
             "ticks": ""
            },
            "colorscale": [
             [
              0,
              "#0d0887"
             ],
             [
              0.1111111111111111,
              "#46039f"
             ],
             [
              0.2222222222222222,
              "#7201a8"
             ],
             [
              0.3333333333333333,
              "#9c179e"
             ],
             [
              0.4444444444444444,
              "#bd3786"
             ],
             [
              0.5555555555555556,
              "#d8576b"
             ],
             [
              0.6666666666666666,
              "#ed7953"
             ],
             [
              0.7777777777777778,
              "#fb9f3a"
             ],
             [
              0.8888888888888888,
              "#fdca26"
             ],
             [
              1,
              "#f0f921"
             ]
            ],
            "type": "surface"
           }
          ],
          "table": [
           {
            "cells": {
             "fill": {
              "color": "#EBF0F8"
             },
             "line": {
              "color": "white"
             }
            },
            "header": {
             "fill": {
              "color": "#C8D4E3"
             },
             "line": {
              "color": "white"
             }
            },
            "type": "table"
           }
          ]
         },
         "layout": {
          "annotationdefaults": {
           "arrowcolor": "#2a3f5f",
           "arrowhead": 0,
           "arrowwidth": 1
          },
          "autotypenumbers": "strict",
          "coloraxis": {
           "colorbar": {
            "outlinewidth": 0,
            "ticks": ""
           }
          },
          "colorscale": {
           "diverging": [
            [
             0,
             "#8e0152"
            ],
            [
             0.1,
             "#c51b7d"
            ],
            [
             0.2,
             "#de77ae"
            ],
            [
             0.3,
             "#f1b6da"
            ],
            [
             0.4,
             "#fde0ef"
            ],
            [
             0.5,
             "#f7f7f7"
            ],
            [
             0.6,
             "#e6f5d0"
            ],
            [
             0.7,
             "#b8e186"
            ],
            [
             0.8,
             "#7fbc41"
            ],
            [
             0.9,
             "#4d9221"
            ],
            [
             1,
             "#276419"
            ]
           ],
           "sequential": [
            [
             0,
             "#0d0887"
            ],
            [
             0.1111111111111111,
             "#46039f"
            ],
            [
             0.2222222222222222,
             "#7201a8"
            ],
            [
             0.3333333333333333,
             "#9c179e"
            ],
            [
             0.4444444444444444,
             "#bd3786"
            ],
            [
             0.5555555555555556,
             "#d8576b"
            ],
            [
             0.6666666666666666,
             "#ed7953"
            ],
            [
             0.7777777777777778,
             "#fb9f3a"
            ],
            [
             0.8888888888888888,
             "#fdca26"
            ],
            [
             1,
             "#f0f921"
            ]
           ],
           "sequentialminus": [
            [
             0,
             "#0d0887"
            ],
            [
             0.1111111111111111,
             "#46039f"
            ],
            [
             0.2222222222222222,
             "#7201a8"
            ],
            [
             0.3333333333333333,
             "#9c179e"
            ],
            [
             0.4444444444444444,
             "#bd3786"
            ],
            [
             0.5555555555555556,
             "#d8576b"
            ],
            [
             0.6666666666666666,
             "#ed7953"
            ],
            [
             0.7777777777777778,
             "#fb9f3a"
            ],
            [
             0.8888888888888888,
             "#fdca26"
            ],
            [
             1,
             "#f0f921"
            ]
           ]
          },
          "colorway": [
           "#636efa",
           "#EF553B",
           "#00cc96",
           "#ab63fa",
           "#FFA15A",
           "#19d3f3",
           "#FF6692",
           "#B6E880",
           "#FF97FF",
           "#FECB52"
          ],
          "font": {
           "color": "#2a3f5f"
          },
          "geo": {
           "bgcolor": "white",
           "lakecolor": "white",
           "landcolor": "#E5ECF6",
           "showlakes": true,
           "showland": true,
           "subunitcolor": "white"
          },
          "hoverlabel": {
           "align": "left"
          },
          "hovermode": "closest",
          "mapbox": {
           "style": "light"
          },
          "paper_bgcolor": "white",
          "plot_bgcolor": "#E5ECF6",
          "polar": {
           "angularaxis": {
            "gridcolor": "white",
            "linecolor": "white",
            "ticks": ""
           },
           "bgcolor": "#E5ECF6",
           "radialaxis": {
            "gridcolor": "white",
            "linecolor": "white",
            "ticks": ""
           }
          },
          "scene": {
           "xaxis": {
            "backgroundcolor": "#E5ECF6",
            "gridcolor": "white",
            "gridwidth": 2,
            "linecolor": "white",
            "showbackground": true,
            "ticks": "",
            "zerolinecolor": "white"
           },
           "yaxis": {
            "backgroundcolor": "#E5ECF6",
            "gridcolor": "white",
            "gridwidth": 2,
            "linecolor": "white",
            "showbackground": true,
            "ticks": "",
            "zerolinecolor": "white"
           },
           "zaxis": {
            "backgroundcolor": "#E5ECF6",
            "gridcolor": "white",
            "gridwidth": 2,
            "linecolor": "white",
            "showbackground": true,
            "ticks": "",
            "zerolinecolor": "white"
           }
          },
          "shapedefaults": {
           "line": {
            "color": "#2a3f5f"
           }
          },
          "ternary": {
           "aaxis": {
            "gridcolor": "white",
            "linecolor": "white",
            "ticks": ""
           },
           "baxis": {
            "gridcolor": "white",
            "linecolor": "white",
            "ticks": ""
           },
           "bgcolor": "#E5ECF6",
           "caxis": {
            "gridcolor": "white",
            "linecolor": "white",
            "ticks": ""
           }
          },
          "title": {
           "x": 0.05
          },
          "xaxis": {
           "automargin": true,
           "gridcolor": "white",
           "linecolor": "white",
           "ticks": "",
           "title": {
            "standoff": 15
           },
           "zerolinecolor": "white",
           "zerolinewidth": 2
          },
          "yaxis": {
           "automargin": true,
           "gridcolor": "white",
           "linecolor": "white",
           "ticks": "",
           "title": {
            "standoff": 15
           },
           "zerolinecolor": "white",
           "zerolinewidth": 2
          }
         }
        },
        "width": 800
       }
      }
     },
     "metadata": {},
     "output_type": "display_data"
    },
    {
     "data": {
      "application/vnd.plotly.v1+json": {
       "config": {
        "plotlyServerURL": "https://plot.ly"
       },
       "data": [
        {
         "hovertemplate": "Energy_density=%{x}<br>LDPE_black=%{marker.color}<br>Overlap=%{z}<extra></extra>",
         "legendgroup": "",
         "marker": {
          "color": [
           56.6272725687168,
           64.6001286106917,
           64.9946184392763,
           30.4171559193841,
           19.799083515746,
           7.60040185603055,
           21.5513034791412,
           9.04923752555641,
           6.3892995038164,
           59.592125949172,
           49.1672657224959,
           43.3960727186029,
           29.6492888313745,
           52.505312372901,
           6.54740534411382,
           22.8356416676366,
           30.1571683848289,
           10.3978130896769,
           9.94305902428679,
           39.7687349226247,
           50.2480080503382,
           27.6567928258313,
           56.3356777121936,
           28.868732602663,
           20.354949444721,
           45.3827813720037,
           9.47455290978576,
           55.7533837139058,
           57.9147259145091,
           6.57941491584953,
           18.9414278011015,
           10.3914822842458,
           8.27690634337102,
           17.8286347468201,
           7.93971372798419,
           7.23016153371732,
           53.8864284352785,
           53.711637215529,
           31.2949348667237,
           22.9074461345821,
           44.3751733164122,
           5.48976471298522,
           18.5892588724162,
           36.9058075267389,
           6.21483126841468,
           53.8035567565494,
           43.8361579144378,
           49.5080927600998,
           26.5649086675675,
           46.9423559769678,
           23.7361218038428,
           17.6609541927783,
           37.6491244276468,
           14.0527477037185,
           53.5634914536532,
           58.5954604190034,
           6.1834450655805,
           24.9964633807947,
           7.81842533620809,
           6.14565625416041,
           17.2455170804861,
           8.49948998183338,
           6.9827114512147,
           53.3397520608962,
           52.2367235177583,
           37.7102006769868,
           26.6854720569516,
           39.6814302028884,
           8.68112343239295,
           21.7753723726909,
           37.7620106364122,
           8.41891696925845,
           49.598265133993,
           34.998029469237,
           46.946481831176,
           23.3429427554881,
           44.5970335867657,
           22.8602559725551,
           20.9404767491347,
           38.7169552501006,
           13.6081161236424
          ],
          "coloraxis": "coloraxis",
          "symbol": "circle"
         },
         "mode": "markers",
         "name": "",
         "scene": "scene",
         "showlegend": false,
         "type": "scatter3d",
         "x": [
          10.981691073340789,
          3.660563691113596,
          2.196338214668158,
          10.981691073340789,
          3.660563691113596,
          2.196338214668158,
          10.981691073340789,
          3.660563691113596,
          2.196338214668158,
          14.642254764454385,
          4.880751588151462,
          2.928450952890877,
          14.642254764454385,
          4.880751588151462,
          2.928450952890877,
          14.642254764454385,
          4.880751588151462,
          2.928450952890877,
          18.30281845556798,
          6.100939485189326,
          3.6605636911135964,
          18.30281845556798,
          6.100939485189326,
          3.6605636911135964,
          18.30281845556798,
          6.100939485189326,
          3.6605636911135964,
          3.5858583096622976,
          1.1952861032207658,
          0.7171716619324594,
          3.5858583096622976,
          1.1952861032207658,
          0.7171716619324594,
          3.5858583096622976,
          1.1952861032207658,
          0.7171716619324594,
          4.781144412883063,
          1.5937148042943543,
          0.9562288825766126,
          4.781144412883063,
          1.5937148042943543,
          0.9562288825766126,
          4.781144412883063,
          1.5937148042943543,
          0.9562288825766126,
          5.976430516103829,
          1.9921435053679428,
          1.1952861032207658,
          5.976430516103829,
          1.9921435053679428,
          1.1952861032207658,
          5.976430516103829,
          1.9921435053679428,
          1.1952861032207658,
          1.7570705717345259,
          0.5856901905781754,
          0.3514141143469052,
          1.7570705717345259,
          0.5856901905781754,
          0.3514141143469052,
          1.7570705717345259,
          0.5856901905781754,
          0.3514141143469052,
          2.342760762312701,
          0.7809202541042338,
          0.4685521524625403,
          2.342760762312701,
          0.7809202541042338,
          0.4685521524625403,
          2.342760762312701,
          0.7809202541042338,
          0.4685521524625403,
          2.9284509528908766,
          0.9761503176302923,
          0.5856901905781754,
          2.9284509528908766,
          0.9761503176302923,
          0.5856901905781754,
          2.9284509528908766,
          0.9761503176302923,
          0.5856901905781754
         ],
         "y": [
          56.6272725687168,
          64.6001286106917,
          64.9946184392763,
          30.4171559193841,
          19.799083515746,
          7.60040185603055,
          21.5513034791412,
          9.04923752555641,
          6.3892995038164,
          59.592125949172,
          49.1672657224959,
          43.3960727186029,
          29.6492888313745,
          52.505312372901,
          6.54740534411382,
          22.8356416676366,
          30.1571683848289,
          10.3978130896769,
          9.94305902428679,
          39.7687349226247,
          50.2480080503382,
          27.6567928258313,
          56.3356777121936,
          28.868732602663,
          20.354949444721,
          45.3827813720037,
          9.47455290978576,
          55.7533837139058,
          57.9147259145091,
          6.57941491584953,
          18.9414278011015,
          10.3914822842458,
          8.27690634337102,
          17.8286347468201,
          7.93971372798419,
          7.23016153371732,
          53.8864284352785,
          53.711637215529,
          31.2949348667237,
          22.9074461345821,
          44.3751733164122,
          5.48976471298522,
          18.5892588724162,
          36.9058075267389,
          6.21483126841468,
          53.8035567565494,
          43.8361579144378,
          49.5080927600998,
          26.5649086675675,
          46.9423559769678,
          23.7361218038428,
          17.6609541927783,
          37.6491244276468,
          14.0527477037185,
          53.5634914536532,
          58.5954604190034,
          6.1834450655805,
          24.9964633807947,
          7.81842533620809,
          6.14565625416041,
          17.2455170804861,
          8.49948998183338,
          6.9827114512147,
          53.3397520608962,
          52.2367235177583,
          37.7102006769868,
          26.6854720569516,
          39.6814302028884,
          8.68112343239295,
          21.7753723726909,
          37.7620106364122,
          8.41891696925845,
          49.598265133993,
          34.998029469237,
          46.946481831176,
          23.3429427554881,
          44.5970335867657,
          22.8602559725551,
          20.9404767491347,
          38.7169552501006,
          13.6081161236424
         ],
         "z": [
          50,
          83.33333333333333,
          90.00000000000001,
          -100,
          33.33333333333333,
          60,
          -199.99999999999994,
          0,
          40,
          50,
          83.33333333333333,
          90.00000000000001,
          -100,
          33.33333333333333,
          60,
          -199.99999999999994,
          0,
          40,
          50,
          83.33333333333333,
          90.00000000000001,
          -100,
          33.33333333333333,
          60,
          -199.99999999999994,
          0,
          40,
          71.42857142857143,
          90.47619047619048,
          94.28571428571428,
          -14.285714285714276,
          61.9047619047619,
          77.14285714285715,
          -71.4285714285714,
          42.85714285714286,
          65.71428571428571,
          71.42857142857143,
          90.47619047619048,
          94.28571428571428,
          -14.285714285714276,
          61.9047619047619,
          77.14285714285715,
          -71.4285714285714,
          42.85714285714286,
          65.71428571428571,
          71.42857142857143,
          90.47619047619048,
          94.28571428571428,
          -14.285714285714276,
          61.9047619047619,
          77.14285714285715,
          -71.4285714285714,
          42.85714285714286,
          65.71428571428571,
          80,
          93.33333333333333,
          96,
          20.000000000000004,
          73.33333333333333,
          84,
          -19.99999999999999,
          60,
          76.00000000000001,
          80,
          93.33333333333333,
          96,
          20.000000000000004,
          73.33333333333333,
          84,
          -19.99999999999999,
          60,
          76.00000000000001,
          80,
          93.33333333333333,
          96,
          20.000000000000004,
          73.33333333333333,
          84,
          -19.99999999999999,
          60,
          76.00000000000001
         ]
        }
       ],
       "layout": {
        "coloraxis": {
         "colorbar": {
          "title": {
           "text": "LDPE_black"
          }
         },
         "colorscale": [
          [
           0,
           "#0d0887"
          ],
          [
           0.1111111111111111,
           "#46039f"
          ],
          [
           0.2222222222222222,
           "#7201a8"
          ],
          [
           0.3333333333333333,
           "#9c179e"
          ],
          [
           0.4444444444444444,
           "#bd3786"
          ],
          [
           0.5555555555555556,
           "#d8576b"
          ],
          [
           0.6666666666666666,
           "#ed7953"
          ],
          [
           0.7777777777777778,
           "#fb9f3a"
          ],
          [
           0.8888888888888888,
           "#fdca26"
          ],
          [
           1,
           "#f0f921"
          ]
         ]
        },
        "height": 600,
        "legend": {
         "tracegroupgap": 0
        },
        "margin": {
         "t": 60
        },
        "scene": {
         "aspectmode": "cube",
         "domain": {
          "x": [
           0,
           1
          ],
          "y": [
           0,
           1
          ]
         },
         "xaxis": {
          "range": [
           0,
           10
          ],
          "title": {
           "text": "Energy_density"
          }
         },
         "yaxis": {
          "range": [
           0,
           70
          ],
          "title": {
           "text": "LDPE_black"
          }
         },
         "zaxis": {
          "range": [
           0,
           100
          ],
          "title": {
           "text": "Overlap"
          }
         }
        },
        "template": {
         "data": {
          "bar": [
           {
            "error_x": {
             "color": "#2a3f5f"
            },
            "error_y": {
             "color": "#2a3f5f"
            },
            "marker": {
             "line": {
              "color": "#E5ECF6",
              "width": 0.5
             },
             "pattern": {
              "fillmode": "overlay",
              "size": 10,
              "solidity": 0.2
             }
            },
            "type": "bar"
           }
          ],
          "barpolar": [
           {
            "marker": {
             "line": {
              "color": "#E5ECF6",
              "width": 0.5
             },
             "pattern": {
              "fillmode": "overlay",
              "size": 10,
              "solidity": 0.2
             }
            },
            "type": "barpolar"
           }
          ],
          "carpet": [
           {
            "aaxis": {
             "endlinecolor": "#2a3f5f",
             "gridcolor": "white",
             "linecolor": "white",
             "minorgridcolor": "white",
             "startlinecolor": "#2a3f5f"
            },
            "baxis": {
             "endlinecolor": "#2a3f5f",
             "gridcolor": "white",
             "linecolor": "white",
             "minorgridcolor": "white",
             "startlinecolor": "#2a3f5f"
            },
            "type": "carpet"
           }
          ],
          "choropleth": [
           {
            "colorbar": {
             "outlinewidth": 0,
             "ticks": ""
            },
            "type": "choropleth"
           }
          ],
          "contour": [
           {
            "colorbar": {
             "outlinewidth": 0,
             "ticks": ""
            },
            "colorscale": [
             [
              0,
              "#0d0887"
             ],
             [
              0.1111111111111111,
              "#46039f"
             ],
             [
              0.2222222222222222,
              "#7201a8"
             ],
             [
              0.3333333333333333,
              "#9c179e"
             ],
             [
              0.4444444444444444,
              "#bd3786"
             ],
             [
              0.5555555555555556,
              "#d8576b"
             ],
             [
              0.6666666666666666,
              "#ed7953"
             ],
             [
              0.7777777777777778,
              "#fb9f3a"
             ],
             [
              0.8888888888888888,
              "#fdca26"
             ],
             [
              1,
              "#f0f921"
             ]
            ],
            "type": "contour"
           }
          ],
          "contourcarpet": [
           {
            "colorbar": {
             "outlinewidth": 0,
             "ticks": ""
            },
            "type": "contourcarpet"
           }
          ],
          "heatmap": [
           {
            "colorbar": {
             "outlinewidth": 0,
             "ticks": ""
            },
            "colorscale": [
             [
              0,
              "#0d0887"
             ],
             [
              0.1111111111111111,
              "#46039f"
             ],
             [
              0.2222222222222222,
              "#7201a8"
             ],
             [
              0.3333333333333333,
              "#9c179e"
             ],
             [
              0.4444444444444444,
              "#bd3786"
             ],
             [
              0.5555555555555556,
              "#d8576b"
             ],
             [
              0.6666666666666666,
              "#ed7953"
             ],
             [
              0.7777777777777778,
              "#fb9f3a"
             ],
             [
              0.8888888888888888,
              "#fdca26"
             ],
             [
              1,
              "#f0f921"
             ]
            ],
            "type": "heatmap"
           }
          ],
          "heatmapgl": [
           {
            "colorbar": {
             "outlinewidth": 0,
             "ticks": ""
            },
            "colorscale": [
             [
              0,
              "#0d0887"
             ],
             [
              0.1111111111111111,
              "#46039f"
             ],
             [
              0.2222222222222222,
              "#7201a8"
             ],
             [
              0.3333333333333333,
              "#9c179e"
             ],
             [
              0.4444444444444444,
              "#bd3786"
             ],
             [
              0.5555555555555556,
              "#d8576b"
             ],
             [
              0.6666666666666666,
              "#ed7953"
             ],
             [
              0.7777777777777778,
              "#fb9f3a"
             ],
             [
              0.8888888888888888,
              "#fdca26"
             ],
             [
              1,
              "#f0f921"
             ]
            ],
            "type": "heatmapgl"
           }
          ],
          "histogram": [
           {
            "marker": {
             "pattern": {
              "fillmode": "overlay",
              "size": 10,
              "solidity": 0.2
             }
            },
            "type": "histogram"
           }
          ],
          "histogram2d": [
           {
            "colorbar": {
             "outlinewidth": 0,
             "ticks": ""
            },
            "colorscale": [
             [
              0,
              "#0d0887"
             ],
             [
              0.1111111111111111,
              "#46039f"
             ],
             [
              0.2222222222222222,
              "#7201a8"
             ],
             [
              0.3333333333333333,
              "#9c179e"
             ],
             [
              0.4444444444444444,
              "#bd3786"
             ],
             [
              0.5555555555555556,
              "#d8576b"
             ],
             [
              0.6666666666666666,
              "#ed7953"
             ],
             [
              0.7777777777777778,
              "#fb9f3a"
             ],
             [
              0.8888888888888888,
              "#fdca26"
             ],
             [
              1,
              "#f0f921"
             ]
            ],
            "type": "histogram2d"
           }
          ],
          "histogram2dcontour": [
           {
            "colorbar": {
             "outlinewidth": 0,
             "ticks": ""
            },
            "colorscale": [
             [
              0,
              "#0d0887"
             ],
             [
              0.1111111111111111,
              "#46039f"
             ],
             [
              0.2222222222222222,
              "#7201a8"
             ],
             [
              0.3333333333333333,
              "#9c179e"
             ],
             [
              0.4444444444444444,
              "#bd3786"
             ],
             [
              0.5555555555555556,
              "#d8576b"
             ],
             [
              0.6666666666666666,
              "#ed7953"
             ],
             [
              0.7777777777777778,
              "#fb9f3a"
             ],
             [
              0.8888888888888888,
              "#fdca26"
             ],
             [
              1,
              "#f0f921"
             ]
            ],
            "type": "histogram2dcontour"
           }
          ],
          "mesh3d": [
           {
            "colorbar": {
             "outlinewidth": 0,
             "ticks": ""
            },
            "type": "mesh3d"
           }
          ],
          "parcoords": [
           {
            "line": {
             "colorbar": {
              "outlinewidth": 0,
              "ticks": ""
             }
            },
            "type": "parcoords"
           }
          ],
          "pie": [
           {
            "automargin": true,
            "type": "pie"
           }
          ],
          "scatter": [
           {
            "fillpattern": {
             "fillmode": "overlay",
             "size": 10,
             "solidity": 0.2
            },
            "type": "scatter"
           }
          ],
          "scatter3d": [
           {
            "line": {
             "colorbar": {
              "outlinewidth": 0,
              "ticks": ""
             }
            },
            "marker": {
             "colorbar": {
              "outlinewidth": 0,
              "ticks": ""
             }
            },
            "type": "scatter3d"
           }
          ],
          "scattercarpet": [
           {
            "marker": {
             "colorbar": {
              "outlinewidth": 0,
              "ticks": ""
             }
            },
            "type": "scattercarpet"
           }
          ],
          "scattergeo": [
           {
            "marker": {
             "colorbar": {
              "outlinewidth": 0,
              "ticks": ""
             }
            },
            "type": "scattergeo"
           }
          ],
          "scattergl": [
           {
            "marker": {
             "colorbar": {
              "outlinewidth": 0,
              "ticks": ""
             }
            },
            "type": "scattergl"
           }
          ],
          "scattermapbox": [
           {
            "marker": {
             "colorbar": {
              "outlinewidth": 0,
              "ticks": ""
             }
            },
            "type": "scattermapbox"
           }
          ],
          "scatterpolar": [
           {
            "marker": {
             "colorbar": {
              "outlinewidth": 0,
              "ticks": ""
             }
            },
            "type": "scatterpolar"
           }
          ],
          "scatterpolargl": [
           {
            "marker": {
             "colorbar": {
              "outlinewidth": 0,
              "ticks": ""
             }
            },
            "type": "scatterpolargl"
           }
          ],
          "scatterternary": [
           {
            "marker": {
             "colorbar": {
              "outlinewidth": 0,
              "ticks": ""
             }
            },
            "type": "scatterternary"
           }
          ],
          "surface": [
           {
            "colorbar": {
             "outlinewidth": 0,
             "ticks": ""
            },
            "colorscale": [
             [
              0,
              "#0d0887"
             ],
             [
              0.1111111111111111,
              "#46039f"
             ],
             [
              0.2222222222222222,
              "#7201a8"
             ],
             [
              0.3333333333333333,
              "#9c179e"
             ],
             [
              0.4444444444444444,
              "#bd3786"
             ],
             [
              0.5555555555555556,
              "#d8576b"
             ],
             [
              0.6666666666666666,
              "#ed7953"
             ],
             [
              0.7777777777777778,
              "#fb9f3a"
             ],
             [
              0.8888888888888888,
              "#fdca26"
             ],
             [
              1,
              "#f0f921"
             ]
            ],
            "type": "surface"
           }
          ],
          "table": [
           {
            "cells": {
             "fill": {
              "color": "#EBF0F8"
             },
             "line": {
              "color": "white"
             }
            },
            "header": {
             "fill": {
              "color": "#C8D4E3"
             },
             "line": {
              "color": "white"
             }
            },
            "type": "table"
           }
          ]
         },
         "layout": {
          "annotationdefaults": {
           "arrowcolor": "#2a3f5f",
           "arrowhead": 0,
           "arrowwidth": 1
          },
          "autotypenumbers": "strict",
          "coloraxis": {
           "colorbar": {
            "outlinewidth": 0,
            "ticks": ""
           }
          },
          "colorscale": {
           "diverging": [
            [
             0,
             "#8e0152"
            ],
            [
             0.1,
             "#c51b7d"
            ],
            [
             0.2,
             "#de77ae"
            ],
            [
             0.3,
             "#f1b6da"
            ],
            [
             0.4,
             "#fde0ef"
            ],
            [
             0.5,
             "#f7f7f7"
            ],
            [
             0.6,
             "#e6f5d0"
            ],
            [
             0.7,
             "#b8e186"
            ],
            [
             0.8,
             "#7fbc41"
            ],
            [
             0.9,
             "#4d9221"
            ],
            [
             1,
             "#276419"
            ]
           ],
           "sequential": [
            [
             0,
             "#0d0887"
            ],
            [
             0.1111111111111111,
             "#46039f"
            ],
            [
             0.2222222222222222,
             "#7201a8"
            ],
            [
             0.3333333333333333,
             "#9c179e"
            ],
            [
             0.4444444444444444,
             "#bd3786"
            ],
            [
             0.5555555555555556,
             "#d8576b"
            ],
            [
             0.6666666666666666,
             "#ed7953"
            ],
            [
             0.7777777777777778,
             "#fb9f3a"
            ],
            [
             0.8888888888888888,
             "#fdca26"
            ],
            [
             1,
             "#f0f921"
            ]
           ],
           "sequentialminus": [
            [
             0,
             "#0d0887"
            ],
            [
             0.1111111111111111,
             "#46039f"
            ],
            [
             0.2222222222222222,
             "#7201a8"
            ],
            [
             0.3333333333333333,
             "#9c179e"
            ],
            [
             0.4444444444444444,
             "#bd3786"
            ],
            [
             0.5555555555555556,
             "#d8576b"
            ],
            [
             0.6666666666666666,
             "#ed7953"
            ],
            [
             0.7777777777777778,
             "#fb9f3a"
            ],
            [
             0.8888888888888888,
             "#fdca26"
            ],
            [
             1,
             "#f0f921"
            ]
           ]
          },
          "colorway": [
           "#636efa",
           "#EF553B",
           "#00cc96",
           "#ab63fa",
           "#FFA15A",
           "#19d3f3",
           "#FF6692",
           "#B6E880",
           "#FF97FF",
           "#FECB52"
          ],
          "font": {
           "color": "#2a3f5f"
          },
          "geo": {
           "bgcolor": "white",
           "lakecolor": "white",
           "landcolor": "#E5ECF6",
           "showlakes": true,
           "showland": true,
           "subunitcolor": "white"
          },
          "hoverlabel": {
           "align": "left"
          },
          "hovermode": "closest",
          "mapbox": {
           "style": "light"
          },
          "paper_bgcolor": "white",
          "plot_bgcolor": "#E5ECF6",
          "polar": {
           "angularaxis": {
            "gridcolor": "white",
            "linecolor": "white",
            "ticks": ""
           },
           "bgcolor": "#E5ECF6",
           "radialaxis": {
            "gridcolor": "white",
            "linecolor": "white",
            "ticks": ""
           }
          },
          "scene": {
           "xaxis": {
            "backgroundcolor": "#E5ECF6",
            "gridcolor": "white",
            "gridwidth": 2,
            "linecolor": "white",
            "showbackground": true,
            "ticks": "",
            "zerolinecolor": "white"
           },
           "yaxis": {
            "backgroundcolor": "#E5ECF6",
            "gridcolor": "white",
            "gridwidth": 2,
            "linecolor": "white",
            "showbackground": true,
            "ticks": "",
            "zerolinecolor": "white"
           },
           "zaxis": {
            "backgroundcolor": "#E5ECF6",
            "gridcolor": "white",
            "gridwidth": 2,
            "linecolor": "white",
            "showbackground": true,
            "ticks": "",
            "zerolinecolor": "white"
           }
          },
          "shapedefaults": {
           "line": {
            "color": "#2a3f5f"
           }
          },
          "ternary": {
           "aaxis": {
            "gridcolor": "white",
            "linecolor": "white",
            "ticks": ""
           },
           "baxis": {
            "gridcolor": "white",
            "linecolor": "white",
            "ticks": ""
           },
           "bgcolor": "#E5ECF6",
           "caxis": {
            "gridcolor": "white",
            "linecolor": "white",
            "ticks": ""
           }
          },
          "title": {
           "x": 0.05
          },
          "xaxis": {
           "automargin": true,
           "gridcolor": "white",
           "linecolor": "white",
           "ticks": "",
           "title": {
            "standoff": 15
           },
           "zerolinecolor": "white",
           "zerolinewidth": 2
          },
          "yaxis": {
           "automargin": true,
           "gridcolor": "white",
           "linecolor": "white",
           "ticks": "",
           "title": {
            "standoff": 15
           },
           "zerolinecolor": "white",
           "zerolinewidth": 2
          }
         }
        },
        "width": 800
       }
      }
     },
     "metadata": {},
     "output_type": "display_data"
    }
   ],
   "source": [
    "fig = px.scatter_3d(df, x='Energy_density', y='LDPE_black', z='Overlap',\n",
    "              color='LDPE_black')\n",
    "\n",
    "# Adjusting the range of each axis (example values, adjust as needed)\n",
    "fig.update_layout(scene=dict(\n",
    "    xaxis=dict(range=[0,10]), # Adjust the range as needed\n",
    "    yaxis=dict(range=[0,70]), # Adjust the range as needed\n",
    "    zaxis=dict(range=[0,100])  # Adjust the range as needed\n",
    "))\n",
    "\n",
    "# Changing the figure size\n",
    "fig.update_layout(width=800, height=600) # Adjust the size as needed\n",
    "\n",
    "# Adjusting aspect ratios (making all axes have the same unit scale)\n",
    "fig.update_layout(scene=dict(\n",
    "    aspectmode='cube'  # Other options include 'auto', 'data', 'manual'\n",
    "    # If you choose 'manual', you must specify aspectratio=dict(x=1, y=1, z=1)\n",
    "))\n",
    "\n",
    "fig.show()\n",
    "fig.show()\n"
   ]
  },
  {
   "cell_type": "code",
   "execution_count": null,
   "metadata": {},
   "outputs": [
    {
     "data": {
      "application/vnd.plotly.v1+json": {
       "config": {
        "plotlyServerURL": "https://plot.ly"
       },
       "data": [
        {
         "hovertemplate": "Energy_density=%{x}<br>LDPE_white=%{marker.color}<br>Overlap=%{z}<extra></extra>",
         "legendgroup": "",
         "marker": {
          "color": [
           27.3368007196207,
           20.3440141375378,
           20.6262450877319,
           39.9799487250317,
           33.5456150207379,
           8.89921599478105,
           36.9047529535118,
           34.6417712911273,
           9.65435749879971,
           27.953632775233,
           26.2905679679854,
           17.5067298352484,
           41.3940402206091,
           33.9253434462637,
           20.7335004026185,
           37.5751059684985,
           35.2216591546144,
           21.6666948705535,
           9.68850888432589,
           35.2410230382352,
           20.7320503126115,
           37.6721002789333,
           30.9955096377756,
           27.5406993791826,
           33.7706391147677,
           36.2332214617117,
           29.9179208258638,
           27.9583968954174,
           18.1028651999957,
           10.9798905484981,
           37.66449801907,
           29.9284945436658,
           13.0302019189577,
           32.9189110946249,
           30.728282206571,
           8.34440637290912,
           27.3447102999006,
           23.0559416076375,
           14.882105128829,
           38.4870118511342,
           30.0493082299267,
           18.9350701752143,
           33.844501028179,
           33.8928218775924,
           15.7330955366986,
           26.8108797321049,
           28.5468621162521,
           18.761043064398,
           36.8276180279903,
           29.5561319662105,
           24.0049944014534,
           30.5887529262343,
           34.4994473222825,
           26.2022420238516,
           26.4785128304163,
           17.0310182891403,
           9.09619017894551,
           36.3263923462677,
           29.5448613099585,
           9.83737461144888,
           31.3547798199582,
           30.5266459071706,
           9.76174385809899,
           27.2831154251223,
           25.6163147910077,
           14.711995480262,
           37.0702418054984,
           32.5614527058327,
           21.7358751914767,
           32.2400127726114,
           33.9245903987979,
           19.4779365483566,
           29.0693341334753,
           35.0838840127107,
           20.1854245295851,
           37.452281348697,
           31.6819629927124,
           24.7350160620424,
           32.863291954611,
           36.2714715383783,
           27.0985763767684
          ],
          "coloraxis": "coloraxis",
          "symbol": "circle"
         },
         "mode": "markers",
         "name": "",
         "scene": "scene",
         "showlegend": false,
         "type": "scatter3d",
         "x": [
          10.981691073340789,
          3.660563691113596,
          2.196338214668158,
          10.981691073340789,
          3.660563691113596,
          2.196338214668158,
          10.981691073340789,
          3.660563691113596,
          2.196338214668158,
          14.642254764454385,
          4.880751588151462,
          2.928450952890877,
          14.642254764454385,
          4.880751588151462,
          2.928450952890877,
          14.642254764454385,
          4.880751588151462,
          2.928450952890877,
          18.30281845556798,
          6.100939485189326,
          3.6605636911135964,
          18.30281845556798,
          6.100939485189326,
          3.6605636911135964,
          18.30281845556798,
          6.100939485189326,
          3.6605636911135964,
          3.5858583096622976,
          1.1952861032207658,
          0.7171716619324594,
          3.5858583096622976,
          1.1952861032207658,
          0.7171716619324594,
          3.5858583096622976,
          1.1952861032207658,
          0.7171716619324594,
          4.781144412883063,
          1.5937148042943543,
          0.9562288825766126,
          4.781144412883063,
          1.5937148042943543,
          0.9562288825766126,
          4.781144412883063,
          1.5937148042943543,
          0.9562288825766126,
          5.976430516103829,
          1.9921435053679428,
          1.1952861032207658,
          5.976430516103829,
          1.9921435053679428,
          1.1952861032207658,
          5.976430516103829,
          1.9921435053679428,
          1.1952861032207658,
          1.7570705717345259,
          0.5856901905781754,
          0.3514141143469052,
          1.7570705717345259,
          0.5856901905781754,
          0.3514141143469052,
          1.7570705717345259,
          0.5856901905781754,
          0.3514141143469052,
          2.342760762312701,
          0.7809202541042338,
          0.4685521524625403,
          2.342760762312701,
          0.7809202541042338,
          0.4685521524625403,
          2.342760762312701,
          0.7809202541042338,
          0.4685521524625403,
          2.9284509528908766,
          0.9761503176302923,
          0.5856901905781754,
          2.9284509528908766,
          0.9761503176302923,
          0.5856901905781754,
          2.9284509528908766,
          0.9761503176302923,
          0.5856901905781754
         ],
         "y": [
          27.3368007196207,
          20.3440141375378,
          20.6262450877319,
          39.9799487250317,
          33.5456150207379,
          8.89921599478105,
          36.9047529535118,
          34.6417712911273,
          9.65435749879971,
          27.953632775233,
          26.2905679679854,
          17.5067298352484,
          41.3940402206091,
          33.9253434462637,
          20.7335004026185,
          37.5751059684985,
          35.2216591546144,
          21.6666948705535,
          9.68850888432589,
          35.2410230382352,
          20.7320503126115,
          37.6721002789333,
          30.9955096377756,
          27.5406993791826,
          33.7706391147677,
          36.2332214617117,
          29.9179208258638,
          27.9583968954174,
          18.1028651999957,
          10.9798905484981,
          37.66449801907,
          29.9284945436658,
          13.0302019189577,
          32.9189110946249,
          30.728282206571,
          8.34440637290912,
          27.3447102999006,
          23.0559416076375,
          14.882105128829,
          38.4870118511342,
          30.0493082299267,
          18.9350701752143,
          33.844501028179,
          33.8928218775924,
          15.7330955366986,
          26.8108797321049,
          28.5468621162521,
          18.761043064398,
          36.8276180279903,
          29.5561319662105,
          24.0049944014534,
          30.5887529262343,
          34.4994473222825,
          26.2022420238516,
          26.4785128304163,
          17.0310182891403,
          9.09619017894551,
          36.3263923462677,
          29.5448613099585,
          9.83737461144888,
          31.3547798199582,
          30.5266459071706,
          9.76174385809899,
          27.2831154251223,
          25.6163147910077,
          14.711995480262,
          37.0702418054984,
          32.5614527058327,
          21.7358751914767,
          32.2400127726114,
          33.9245903987979,
          19.4779365483566,
          29.0693341334753,
          35.0838840127107,
          20.1854245295851,
          37.452281348697,
          31.6819629927124,
          24.7350160620424,
          32.863291954611,
          36.2714715383783,
          27.0985763767684
         ],
         "z": [
          50,
          83.33333333333333,
          90.00000000000001,
          -100,
          33.33333333333333,
          60,
          -199.99999999999994,
          0,
          40,
          50,
          83.33333333333333,
          90.00000000000001,
          -100,
          33.33333333333333,
          60,
          -199.99999999999994,
          0,
          40,
          50,
          83.33333333333333,
          90.00000000000001,
          -100,
          33.33333333333333,
          60,
          -199.99999999999994,
          0,
          40,
          71.42857142857143,
          90.47619047619048,
          94.28571428571428,
          -14.285714285714276,
          61.9047619047619,
          77.14285714285715,
          -71.4285714285714,
          42.85714285714286,
          65.71428571428571,
          71.42857142857143,
          90.47619047619048,
          94.28571428571428,
          -14.285714285714276,
          61.9047619047619,
          77.14285714285715,
          -71.4285714285714,
          42.85714285714286,
          65.71428571428571,
          71.42857142857143,
          90.47619047619048,
          94.28571428571428,
          -14.285714285714276,
          61.9047619047619,
          77.14285714285715,
          -71.4285714285714,
          42.85714285714286,
          65.71428571428571,
          80,
          93.33333333333333,
          96,
          20.000000000000004,
          73.33333333333333,
          84,
          -19.99999999999999,
          60,
          76.00000000000001,
          80,
          93.33333333333333,
          96,
          20.000000000000004,
          73.33333333333333,
          84,
          -19.99999999999999,
          60,
          76.00000000000001,
          80,
          93.33333333333333,
          96,
          20.000000000000004,
          73.33333333333333,
          84,
          -19.99999999999999,
          60,
          76.00000000000001
         ]
        }
       ],
       "layout": {
        "coloraxis": {
         "colorbar": {
          "title": {
           "text": "LDPE_white"
          }
         },
         "colorscale": [
          [
           0,
           "#0d0887"
          ],
          [
           0.1111111111111111,
           "#46039f"
          ],
          [
           0.2222222222222222,
           "#7201a8"
          ],
          [
           0.3333333333333333,
           "#9c179e"
          ],
          [
           0.4444444444444444,
           "#bd3786"
          ],
          [
           0.5555555555555556,
           "#d8576b"
          ],
          [
           0.6666666666666666,
           "#ed7953"
          ],
          [
           0.7777777777777778,
           "#fb9f3a"
          ],
          [
           0.8888888888888888,
           "#fdca26"
          ],
          [
           1,
           "#f0f921"
          ]
         ]
        },
        "legend": {
         "tracegroupgap": 0
        },
        "margin": {
         "t": 60
        },
        "scene": {
         "domain": {
          "x": [
           0,
           1
          ],
          "y": [
           0,
           1
          ]
         },
         "xaxis": {
          "title": {
           "text": "Energy_density"
          }
         },
         "yaxis": {
          "title": {
           "text": "LDPE_white"
          }
         },
         "zaxis": {
          "title": {
           "text": "Overlap"
          }
         }
        },
        "template": {
         "data": {
          "bar": [
           {
            "error_x": {
             "color": "#2a3f5f"
            },
            "error_y": {
             "color": "#2a3f5f"
            },
            "marker": {
             "line": {
              "color": "#E5ECF6",
              "width": 0.5
             },
             "pattern": {
              "fillmode": "overlay",
              "size": 10,
              "solidity": 0.2
             }
            },
            "type": "bar"
           }
          ],
          "barpolar": [
           {
            "marker": {
             "line": {
              "color": "#E5ECF6",
              "width": 0.5
             },
             "pattern": {
              "fillmode": "overlay",
              "size": 10,
              "solidity": 0.2
             }
            },
            "type": "barpolar"
           }
          ],
          "carpet": [
           {
            "aaxis": {
             "endlinecolor": "#2a3f5f",
             "gridcolor": "white",
             "linecolor": "white",
             "minorgridcolor": "white",
             "startlinecolor": "#2a3f5f"
            },
            "baxis": {
             "endlinecolor": "#2a3f5f",
             "gridcolor": "white",
             "linecolor": "white",
             "minorgridcolor": "white",
             "startlinecolor": "#2a3f5f"
            },
            "type": "carpet"
           }
          ],
          "choropleth": [
           {
            "colorbar": {
             "outlinewidth": 0,
             "ticks": ""
            },
            "type": "choropleth"
           }
          ],
          "contour": [
           {
            "colorbar": {
             "outlinewidth": 0,
             "ticks": ""
            },
            "colorscale": [
             [
              0,
              "#0d0887"
             ],
             [
              0.1111111111111111,
              "#46039f"
             ],
             [
              0.2222222222222222,
              "#7201a8"
             ],
             [
              0.3333333333333333,
              "#9c179e"
             ],
             [
              0.4444444444444444,
              "#bd3786"
             ],
             [
              0.5555555555555556,
              "#d8576b"
             ],
             [
              0.6666666666666666,
              "#ed7953"
             ],
             [
              0.7777777777777778,
              "#fb9f3a"
             ],
             [
              0.8888888888888888,
              "#fdca26"
             ],
             [
              1,
              "#f0f921"
             ]
            ],
            "type": "contour"
           }
          ],
          "contourcarpet": [
           {
            "colorbar": {
             "outlinewidth": 0,
             "ticks": ""
            },
            "type": "contourcarpet"
           }
          ],
          "heatmap": [
           {
            "colorbar": {
             "outlinewidth": 0,
             "ticks": ""
            },
            "colorscale": [
             [
              0,
              "#0d0887"
             ],
             [
              0.1111111111111111,
              "#46039f"
             ],
             [
              0.2222222222222222,
              "#7201a8"
             ],
             [
              0.3333333333333333,
              "#9c179e"
             ],
             [
              0.4444444444444444,
              "#bd3786"
             ],
             [
              0.5555555555555556,
              "#d8576b"
             ],
             [
              0.6666666666666666,
              "#ed7953"
             ],
             [
              0.7777777777777778,
              "#fb9f3a"
             ],
             [
              0.8888888888888888,
              "#fdca26"
             ],
             [
              1,
              "#f0f921"
             ]
            ],
            "type": "heatmap"
           }
          ],
          "heatmapgl": [
           {
            "colorbar": {
             "outlinewidth": 0,
             "ticks": ""
            },
            "colorscale": [
             [
              0,
              "#0d0887"
             ],
             [
              0.1111111111111111,
              "#46039f"
             ],
             [
              0.2222222222222222,
              "#7201a8"
             ],
             [
              0.3333333333333333,
              "#9c179e"
             ],
             [
              0.4444444444444444,
              "#bd3786"
             ],
             [
              0.5555555555555556,
              "#d8576b"
             ],
             [
              0.6666666666666666,
              "#ed7953"
             ],
             [
              0.7777777777777778,
              "#fb9f3a"
             ],
             [
              0.8888888888888888,
              "#fdca26"
             ],
             [
              1,
              "#f0f921"
             ]
            ],
            "type": "heatmapgl"
           }
          ],
          "histogram": [
           {
            "marker": {
             "pattern": {
              "fillmode": "overlay",
              "size": 10,
              "solidity": 0.2
             }
            },
            "type": "histogram"
           }
          ],
          "histogram2d": [
           {
            "colorbar": {
             "outlinewidth": 0,
             "ticks": ""
            },
            "colorscale": [
             [
              0,
              "#0d0887"
             ],
             [
              0.1111111111111111,
              "#46039f"
             ],
             [
              0.2222222222222222,
              "#7201a8"
             ],
             [
              0.3333333333333333,
              "#9c179e"
             ],
             [
              0.4444444444444444,
              "#bd3786"
             ],
             [
              0.5555555555555556,
              "#d8576b"
             ],
             [
              0.6666666666666666,
              "#ed7953"
             ],
             [
              0.7777777777777778,
              "#fb9f3a"
             ],
             [
              0.8888888888888888,
              "#fdca26"
             ],
             [
              1,
              "#f0f921"
             ]
            ],
            "type": "histogram2d"
           }
          ],
          "histogram2dcontour": [
           {
            "colorbar": {
             "outlinewidth": 0,
             "ticks": ""
            },
            "colorscale": [
             [
              0,
              "#0d0887"
             ],
             [
              0.1111111111111111,
              "#46039f"
             ],
             [
              0.2222222222222222,
              "#7201a8"
             ],
             [
              0.3333333333333333,
              "#9c179e"
             ],
             [
              0.4444444444444444,
              "#bd3786"
             ],
             [
              0.5555555555555556,
              "#d8576b"
             ],
             [
              0.6666666666666666,
              "#ed7953"
             ],
             [
              0.7777777777777778,
              "#fb9f3a"
             ],
             [
              0.8888888888888888,
              "#fdca26"
             ],
             [
              1,
              "#f0f921"
             ]
            ],
            "type": "histogram2dcontour"
           }
          ],
          "mesh3d": [
           {
            "colorbar": {
             "outlinewidth": 0,
             "ticks": ""
            },
            "type": "mesh3d"
           }
          ],
          "parcoords": [
           {
            "line": {
             "colorbar": {
              "outlinewidth": 0,
              "ticks": ""
             }
            },
            "type": "parcoords"
           }
          ],
          "pie": [
           {
            "automargin": true,
            "type": "pie"
           }
          ],
          "scatter": [
           {
            "fillpattern": {
             "fillmode": "overlay",
             "size": 10,
             "solidity": 0.2
            },
            "type": "scatter"
           }
          ],
          "scatter3d": [
           {
            "line": {
             "colorbar": {
              "outlinewidth": 0,
              "ticks": ""
             }
            },
            "marker": {
             "colorbar": {
              "outlinewidth": 0,
              "ticks": ""
             }
            },
            "type": "scatter3d"
           }
          ],
          "scattercarpet": [
           {
            "marker": {
             "colorbar": {
              "outlinewidth": 0,
              "ticks": ""
             }
            },
            "type": "scattercarpet"
           }
          ],
          "scattergeo": [
           {
            "marker": {
             "colorbar": {
              "outlinewidth": 0,
              "ticks": ""
             }
            },
            "type": "scattergeo"
           }
          ],
          "scattergl": [
           {
            "marker": {
             "colorbar": {
              "outlinewidth": 0,
              "ticks": ""
             }
            },
            "type": "scattergl"
           }
          ],
          "scattermapbox": [
           {
            "marker": {
             "colorbar": {
              "outlinewidth": 0,
              "ticks": ""
             }
            },
            "type": "scattermapbox"
           }
          ],
          "scatterpolar": [
           {
            "marker": {
             "colorbar": {
              "outlinewidth": 0,
              "ticks": ""
             }
            },
            "type": "scatterpolar"
           }
          ],
          "scatterpolargl": [
           {
            "marker": {
             "colorbar": {
              "outlinewidth": 0,
              "ticks": ""
             }
            },
            "type": "scatterpolargl"
           }
          ],
          "scatterternary": [
           {
            "marker": {
             "colorbar": {
              "outlinewidth": 0,
              "ticks": ""
             }
            },
            "type": "scatterternary"
           }
          ],
          "surface": [
           {
            "colorbar": {
             "outlinewidth": 0,
             "ticks": ""
            },
            "colorscale": [
             [
              0,
              "#0d0887"
             ],
             [
              0.1111111111111111,
              "#46039f"
             ],
             [
              0.2222222222222222,
              "#7201a8"
             ],
             [
              0.3333333333333333,
              "#9c179e"
             ],
             [
              0.4444444444444444,
              "#bd3786"
             ],
             [
              0.5555555555555556,
              "#d8576b"
             ],
             [
              0.6666666666666666,
              "#ed7953"
             ],
             [
              0.7777777777777778,
              "#fb9f3a"
             ],
             [
              0.8888888888888888,
              "#fdca26"
             ],
             [
              1,
              "#f0f921"
             ]
            ],
            "type": "surface"
           }
          ],
          "table": [
           {
            "cells": {
             "fill": {
              "color": "#EBF0F8"
             },
             "line": {
              "color": "white"
             }
            },
            "header": {
             "fill": {
              "color": "#C8D4E3"
             },
             "line": {
              "color": "white"
             }
            },
            "type": "table"
           }
          ]
         },
         "layout": {
          "annotationdefaults": {
           "arrowcolor": "#2a3f5f",
           "arrowhead": 0,
           "arrowwidth": 1
          },
          "autotypenumbers": "strict",
          "coloraxis": {
           "colorbar": {
            "outlinewidth": 0,
            "ticks": ""
           }
          },
          "colorscale": {
           "diverging": [
            [
             0,
             "#8e0152"
            ],
            [
             0.1,
             "#c51b7d"
            ],
            [
             0.2,
             "#de77ae"
            ],
            [
             0.3,
             "#f1b6da"
            ],
            [
             0.4,
             "#fde0ef"
            ],
            [
             0.5,
             "#f7f7f7"
            ],
            [
             0.6,
             "#e6f5d0"
            ],
            [
             0.7,
             "#b8e186"
            ],
            [
             0.8,
             "#7fbc41"
            ],
            [
             0.9,
             "#4d9221"
            ],
            [
             1,
             "#276419"
            ]
           ],
           "sequential": [
            [
             0,
             "#0d0887"
            ],
            [
             0.1111111111111111,
             "#46039f"
            ],
            [
             0.2222222222222222,
             "#7201a8"
            ],
            [
             0.3333333333333333,
             "#9c179e"
            ],
            [
             0.4444444444444444,
             "#bd3786"
            ],
            [
             0.5555555555555556,
             "#d8576b"
            ],
            [
             0.6666666666666666,
             "#ed7953"
            ],
            [
             0.7777777777777778,
             "#fb9f3a"
            ],
            [
             0.8888888888888888,
             "#fdca26"
            ],
            [
             1,
             "#f0f921"
            ]
           ],
           "sequentialminus": [
            [
             0,
             "#0d0887"
            ],
            [
             0.1111111111111111,
             "#46039f"
            ],
            [
             0.2222222222222222,
             "#7201a8"
            ],
            [
             0.3333333333333333,
             "#9c179e"
            ],
            [
             0.4444444444444444,
             "#bd3786"
            ],
            [
             0.5555555555555556,
             "#d8576b"
            ],
            [
             0.6666666666666666,
             "#ed7953"
            ],
            [
             0.7777777777777778,
             "#fb9f3a"
            ],
            [
             0.8888888888888888,
             "#fdca26"
            ],
            [
             1,
             "#f0f921"
            ]
           ]
          },
          "colorway": [
           "#636efa",
           "#EF553B",
           "#00cc96",
           "#ab63fa",
           "#FFA15A",
           "#19d3f3",
           "#FF6692",
           "#B6E880",
           "#FF97FF",
           "#FECB52"
          ],
          "font": {
           "color": "#2a3f5f"
          },
          "geo": {
           "bgcolor": "white",
           "lakecolor": "white",
           "landcolor": "#E5ECF6",
           "showlakes": true,
           "showland": true,
           "subunitcolor": "white"
          },
          "hoverlabel": {
           "align": "left"
          },
          "hovermode": "closest",
          "mapbox": {
           "style": "light"
          },
          "paper_bgcolor": "white",
          "plot_bgcolor": "#E5ECF6",
          "polar": {
           "angularaxis": {
            "gridcolor": "white",
            "linecolor": "white",
            "ticks": ""
           },
           "bgcolor": "#E5ECF6",
           "radialaxis": {
            "gridcolor": "white",
            "linecolor": "white",
            "ticks": ""
           }
          },
          "scene": {
           "xaxis": {
            "backgroundcolor": "#E5ECF6",
            "gridcolor": "white",
            "gridwidth": 2,
            "linecolor": "white",
            "showbackground": true,
            "ticks": "",
            "zerolinecolor": "white"
           },
           "yaxis": {
            "backgroundcolor": "#E5ECF6",
            "gridcolor": "white",
            "gridwidth": 2,
            "linecolor": "white",
            "showbackground": true,
            "ticks": "",
            "zerolinecolor": "white"
           },
           "zaxis": {
            "backgroundcolor": "#E5ECF6",
            "gridcolor": "white",
            "gridwidth": 2,
            "linecolor": "white",
            "showbackground": true,
            "ticks": "",
            "zerolinecolor": "white"
           }
          },
          "shapedefaults": {
           "line": {
            "color": "#2a3f5f"
           }
          },
          "ternary": {
           "aaxis": {
            "gridcolor": "white",
            "linecolor": "white",
            "ticks": ""
           },
           "baxis": {
            "gridcolor": "white",
            "linecolor": "white",
            "ticks": ""
           },
           "bgcolor": "#E5ECF6",
           "caxis": {
            "gridcolor": "white",
            "linecolor": "white",
            "ticks": ""
           }
          },
          "title": {
           "x": 0.05
          },
          "xaxis": {
           "automargin": true,
           "gridcolor": "white",
           "linecolor": "white",
           "ticks": "",
           "title": {
            "standoff": 15
           },
           "zerolinecolor": "white",
           "zerolinewidth": 2
          },
          "yaxis": {
           "automargin": true,
           "gridcolor": "white",
           "linecolor": "white",
           "ticks": "",
           "title": {
            "standoff": 15
           },
           "zerolinecolor": "white",
           "zerolinewidth": 2
          }
         }
        }
       }
      }
     },
     "metadata": {},
     "output_type": "display_data"
    }
   ],
   "source": [
    "fig = px.scatter_3d(df, x='Energy_density', y='LDPE_white', z='Overlap',\n",
    "              color='LDPE_white')\n",
    "fig.show()"
   ]
  },
  {
   "cell_type": "code",
   "execution_count": null,
   "metadata": {},
   "outputs": [
    {
     "data": {
      "application/vnd.plotly.v1+json": {
       "config": {
        "plotlyServerURL": "https://plot.ly"
       },
       "data": [
        {
         "hovertemplate": "Energy_density=%{x}<br>PP_black=%{marker.color}<br>Overlap=%{z}<extra></extra>",
         "legendgroup": "",
         "marker": {
          "color": [
           44.4998133264011,
           58.3339903695215,
           62.8250932176213,
           41.9134340839305,
           23.8585713597,
           7.23775584019686,
           31.2311927828315,
           15.1366456831069,
           5.65526168214198,
           55.7318419364157,
           51.6392745659998,
           57.9730677480197,
           44.3096018121944,
           52.7429355679294,
           10.0610378220059,
           34.482560039506,
           29.7829818106553,
           10.0362430106778,
           5.07982802158774,
           53.8597448613065,
           61.9262286791833,
           32.1740055182211,
           55.377347893955,
           25.7972188109241,
           24.4738481255146,
           50.6827223961059,
           14.8069518660396,
           53.5045444562829,
           56.8254778741605,
           7.22220075746206,
           25.0676827209495,
           17.0365361353068,
           7.72837050439982,
           24.8861144571599,
           14.334388246632,
           6.28647970457844,
           56.6730316771054,
           59.5302119420452,
           45.6576935191921,
           35.8406713047631,
           47.1728554477139,
           10.3614255154727,
           22.5578296941153,
           39.7407230281702,
           9.44948300629405,
           55.1965667429132,
           47.6178452120059,
           52.6426101332082,
           36.3542648130573,
           42.154846888218,
           43.1743941285064,
           27.0057087250652,
           38.6112805310469,
           25.740006771586,
           50.2353654657749,
           57.4589691629049,
           4.80064068574505,
           41.1776064977544,
           23.9315686556311,
           6.47729554008427,
           30.2668657491027,
           21.0131067231183,
           6.39438521925963,
           51.1193832598243,
           52.5084076769874,
           51.8275867602836,
           39.3331801390977,
           49.6086249895027,
           11.0400852898487,
           30.5279421894661,
           47.1035616496313,
           11.0054035517988,
           53.7852625305589,
           45.4392410457007,
           52.8804175427332,
           36.5606496710765,
           48.4515744636293,
           38.8125792464848,
           28.0637822474115,
           43.8221795058054,
           28.8441030979927
          ],
          "coloraxis": "coloraxis",
          "symbol": "circle"
         },
         "mode": "markers",
         "name": "",
         "scene": "scene",
         "showlegend": false,
         "type": "scatter3d",
         "x": [
          10.981691073340789,
          3.660563691113596,
          2.196338214668158,
          10.981691073340789,
          3.660563691113596,
          2.196338214668158,
          10.981691073340789,
          3.660563691113596,
          2.196338214668158,
          14.642254764454385,
          4.880751588151462,
          2.928450952890877,
          14.642254764454385,
          4.880751588151462,
          2.928450952890877,
          14.642254764454385,
          4.880751588151462,
          2.928450952890877,
          18.30281845556798,
          6.100939485189326,
          3.6605636911135964,
          18.30281845556798,
          6.100939485189326,
          3.6605636911135964,
          18.30281845556798,
          6.100939485189326,
          3.6605636911135964,
          3.5858583096622976,
          1.1952861032207658,
          0.7171716619324594,
          3.5858583096622976,
          1.1952861032207658,
          0.7171716619324594,
          3.5858583096622976,
          1.1952861032207658,
          0.7171716619324594,
          4.781144412883063,
          1.5937148042943543,
          0.9562288825766126,
          4.781144412883063,
          1.5937148042943543,
          0.9562288825766126,
          4.781144412883063,
          1.5937148042943543,
          0.9562288825766126,
          5.976430516103829,
          1.9921435053679428,
          1.1952861032207658,
          5.976430516103829,
          1.9921435053679428,
          1.1952861032207658,
          5.976430516103829,
          1.9921435053679428,
          1.1952861032207658,
          1.7570705717345259,
          0.5856901905781754,
          0.3514141143469052,
          1.7570705717345259,
          0.5856901905781754,
          0.3514141143469052,
          1.7570705717345259,
          0.5856901905781754,
          0.3514141143469052,
          2.342760762312701,
          0.7809202541042338,
          0.4685521524625403,
          2.342760762312701,
          0.7809202541042338,
          0.4685521524625403,
          2.342760762312701,
          0.7809202541042338,
          0.4685521524625403,
          2.9284509528908766,
          0.9761503176302923,
          0.5856901905781754,
          2.9284509528908766,
          0.9761503176302923,
          0.5856901905781754,
          2.9284509528908766,
          0.9761503176302923,
          0.5856901905781754
         ],
         "y": [
          44.4998133264011,
          58.3339903695215,
          62.8250932176213,
          41.9134340839305,
          23.8585713597,
          7.23775584019686,
          31.2311927828315,
          15.1366456831069,
          5.65526168214198,
          55.7318419364157,
          51.6392745659998,
          57.9730677480197,
          44.3096018121944,
          52.7429355679294,
          10.0610378220059,
          34.482560039506,
          29.7829818106553,
          10.0362430106778,
          5.07982802158774,
          53.8597448613065,
          61.9262286791833,
          32.1740055182211,
          55.377347893955,
          25.7972188109241,
          24.4738481255146,
          50.6827223961059,
          14.8069518660396,
          53.5045444562829,
          56.8254778741605,
          7.22220075746206,
          25.0676827209495,
          17.0365361353068,
          7.72837050439982,
          24.8861144571599,
          14.334388246632,
          6.28647970457844,
          56.6730316771054,
          59.5302119420452,
          45.6576935191921,
          35.8406713047631,
          47.1728554477139,
          10.3614255154727,
          22.5578296941153,
          39.7407230281702,
          9.44948300629405,
          55.1965667429132,
          47.6178452120059,
          52.6426101332082,
          36.3542648130573,
          42.154846888218,
          43.1743941285064,
          27.0057087250652,
          38.6112805310469,
          25.740006771586,
          50.2353654657749,
          57.4589691629049,
          4.80064068574505,
          41.1776064977544,
          23.9315686556311,
          6.47729554008427,
          30.2668657491027,
          21.0131067231183,
          6.39438521925963,
          51.1193832598243,
          52.5084076769874,
          51.8275867602836,
          39.3331801390977,
          49.6086249895027,
          11.0400852898487,
          30.5279421894661,
          47.1035616496313,
          11.0054035517988,
          53.7852625305589,
          45.4392410457007,
          52.8804175427332,
          36.5606496710765,
          48.4515744636293,
          38.8125792464848,
          28.0637822474115,
          43.8221795058054,
          28.8441030979927
         ],
         "z": [
          50,
          83.33333333333333,
          90.00000000000001,
          -100,
          33.33333333333333,
          60,
          -199.99999999999994,
          0,
          40,
          50,
          83.33333333333333,
          90.00000000000001,
          -100,
          33.33333333333333,
          60,
          -199.99999999999994,
          0,
          40,
          50,
          83.33333333333333,
          90.00000000000001,
          -100,
          33.33333333333333,
          60,
          -199.99999999999994,
          0,
          40,
          71.42857142857143,
          90.47619047619048,
          94.28571428571428,
          -14.285714285714276,
          61.9047619047619,
          77.14285714285715,
          -71.4285714285714,
          42.85714285714286,
          65.71428571428571,
          71.42857142857143,
          90.47619047619048,
          94.28571428571428,
          -14.285714285714276,
          61.9047619047619,
          77.14285714285715,
          -71.4285714285714,
          42.85714285714286,
          65.71428571428571,
          71.42857142857143,
          90.47619047619048,
          94.28571428571428,
          -14.285714285714276,
          61.9047619047619,
          77.14285714285715,
          -71.4285714285714,
          42.85714285714286,
          65.71428571428571,
          80,
          93.33333333333333,
          96,
          20.000000000000004,
          73.33333333333333,
          84,
          -19.99999999999999,
          60,
          76.00000000000001,
          80,
          93.33333333333333,
          96,
          20.000000000000004,
          73.33333333333333,
          84,
          -19.99999999999999,
          60,
          76.00000000000001,
          80,
          93.33333333333333,
          96,
          20.000000000000004,
          73.33333333333333,
          84,
          -19.99999999999999,
          60,
          76.00000000000001
         ]
        }
       ],
       "layout": {
        "coloraxis": {
         "colorbar": {
          "title": {
           "text": "PP_black"
          }
         },
         "colorscale": [
          [
           0,
           "#0d0887"
          ],
          [
           0.1111111111111111,
           "#46039f"
          ],
          [
           0.2222222222222222,
           "#7201a8"
          ],
          [
           0.3333333333333333,
           "#9c179e"
          ],
          [
           0.4444444444444444,
           "#bd3786"
          ],
          [
           0.5555555555555556,
           "#d8576b"
          ],
          [
           0.6666666666666666,
           "#ed7953"
          ],
          [
           0.7777777777777778,
           "#fb9f3a"
          ],
          [
           0.8888888888888888,
           "#fdca26"
          ],
          [
           1,
           "#f0f921"
          ]
         ]
        },
        "legend": {
         "tracegroupgap": 0
        },
        "margin": {
         "t": 60
        },
        "scene": {
         "domain": {
          "x": [
           0,
           1
          ],
          "y": [
           0,
           1
          ]
         },
         "xaxis": {
          "title": {
           "text": "Energy_density"
          }
         },
         "yaxis": {
          "title": {
           "text": "PP_black"
          }
         },
         "zaxis": {
          "title": {
           "text": "Overlap"
          }
         }
        },
        "template": {
         "data": {
          "bar": [
           {
            "error_x": {
             "color": "#2a3f5f"
            },
            "error_y": {
             "color": "#2a3f5f"
            },
            "marker": {
             "line": {
              "color": "#E5ECF6",
              "width": 0.5
             },
             "pattern": {
              "fillmode": "overlay",
              "size": 10,
              "solidity": 0.2
             }
            },
            "type": "bar"
           }
          ],
          "barpolar": [
           {
            "marker": {
             "line": {
              "color": "#E5ECF6",
              "width": 0.5
             },
             "pattern": {
              "fillmode": "overlay",
              "size": 10,
              "solidity": 0.2
             }
            },
            "type": "barpolar"
           }
          ],
          "carpet": [
           {
            "aaxis": {
             "endlinecolor": "#2a3f5f",
             "gridcolor": "white",
             "linecolor": "white",
             "minorgridcolor": "white",
             "startlinecolor": "#2a3f5f"
            },
            "baxis": {
             "endlinecolor": "#2a3f5f",
             "gridcolor": "white",
             "linecolor": "white",
             "minorgridcolor": "white",
             "startlinecolor": "#2a3f5f"
            },
            "type": "carpet"
           }
          ],
          "choropleth": [
           {
            "colorbar": {
             "outlinewidth": 0,
             "ticks": ""
            },
            "type": "choropleth"
           }
          ],
          "contour": [
           {
            "colorbar": {
             "outlinewidth": 0,
             "ticks": ""
            },
            "colorscale": [
             [
              0,
              "#0d0887"
             ],
             [
              0.1111111111111111,
              "#46039f"
             ],
             [
              0.2222222222222222,
              "#7201a8"
             ],
             [
              0.3333333333333333,
              "#9c179e"
             ],
             [
              0.4444444444444444,
              "#bd3786"
             ],
             [
              0.5555555555555556,
              "#d8576b"
             ],
             [
              0.6666666666666666,
              "#ed7953"
             ],
             [
              0.7777777777777778,
              "#fb9f3a"
             ],
             [
              0.8888888888888888,
              "#fdca26"
             ],
             [
              1,
              "#f0f921"
             ]
            ],
            "type": "contour"
           }
          ],
          "contourcarpet": [
           {
            "colorbar": {
             "outlinewidth": 0,
             "ticks": ""
            },
            "type": "contourcarpet"
           }
          ],
          "heatmap": [
           {
            "colorbar": {
             "outlinewidth": 0,
             "ticks": ""
            },
            "colorscale": [
             [
              0,
              "#0d0887"
             ],
             [
              0.1111111111111111,
              "#46039f"
             ],
             [
              0.2222222222222222,
              "#7201a8"
             ],
             [
              0.3333333333333333,
              "#9c179e"
             ],
             [
              0.4444444444444444,
              "#bd3786"
             ],
             [
              0.5555555555555556,
              "#d8576b"
             ],
             [
              0.6666666666666666,
              "#ed7953"
             ],
             [
              0.7777777777777778,
              "#fb9f3a"
             ],
             [
              0.8888888888888888,
              "#fdca26"
             ],
             [
              1,
              "#f0f921"
             ]
            ],
            "type": "heatmap"
           }
          ],
          "heatmapgl": [
           {
            "colorbar": {
             "outlinewidth": 0,
             "ticks": ""
            },
            "colorscale": [
             [
              0,
              "#0d0887"
             ],
             [
              0.1111111111111111,
              "#46039f"
             ],
             [
              0.2222222222222222,
              "#7201a8"
             ],
             [
              0.3333333333333333,
              "#9c179e"
             ],
             [
              0.4444444444444444,
              "#bd3786"
             ],
             [
              0.5555555555555556,
              "#d8576b"
             ],
             [
              0.6666666666666666,
              "#ed7953"
             ],
             [
              0.7777777777777778,
              "#fb9f3a"
             ],
             [
              0.8888888888888888,
              "#fdca26"
             ],
             [
              1,
              "#f0f921"
             ]
            ],
            "type": "heatmapgl"
           }
          ],
          "histogram": [
           {
            "marker": {
             "pattern": {
              "fillmode": "overlay",
              "size": 10,
              "solidity": 0.2
             }
            },
            "type": "histogram"
           }
          ],
          "histogram2d": [
           {
            "colorbar": {
             "outlinewidth": 0,
             "ticks": ""
            },
            "colorscale": [
             [
              0,
              "#0d0887"
             ],
             [
              0.1111111111111111,
              "#46039f"
             ],
             [
              0.2222222222222222,
              "#7201a8"
             ],
             [
              0.3333333333333333,
              "#9c179e"
             ],
             [
              0.4444444444444444,
              "#bd3786"
             ],
             [
              0.5555555555555556,
              "#d8576b"
             ],
             [
              0.6666666666666666,
              "#ed7953"
             ],
             [
              0.7777777777777778,
              "#fb9f3a"
             ],
             [
              0.8888888888888888,
              "#fdca26"
             ],
             [
              1,
              "#f0f921"
             ]
            ],
            "type": "histogram2d"
           }
          ],
          "histogram2dcontour": [
           {
            "colorbar": {
             "outlinewidth": 0,
             "ticks": ""
            },
            "colorscale": [
             [
              0,
              "#0d0887"
             ],
             [
              0.1111111111111111,
              "#46039f"
             ],
             [
              0.2222222222222222,
              "#7201a8"
             ],
             [
              0.3333333333333333,
              "#9c179e"
             ],
             [
              0.4444444444444444,
              "#bd3786"
             ],
             [
              0.5555555555555556,
              "#d8576b"
             ],
             [
              0.6666666666666666,
              "#ed7953"
             ],
             [
              0.7777777777777778,
              "#fb9f3a"
             ],
             [
              0.8888888888888888,
              "#fdca26"
             ],
             [
              1,
              "#f0f921"
             ]
            ],
            "type": "histogram2dcontour"
           }
          ],
          "mesh3d": [
           {
            "colorbar": {
             "outlinewidth": 0,
             "ticks": ""
            },
            "type": "mesh3d"
           }
          ],
          "parcoords": [
           {
            "line": {
             "colorbar": {
              "outlinewidth": 0,
              "ticks": ""
             }
            },
            "type": "parcoords"
           }
          ],
          "pie": [
           {
            "automargin": true,
            "type": "pie"
           }
          ],
          "scatter": [
           {
            "fillpattern": {
             "fillmode": "overlay",
             "size": 10,
             "solidity": 0.2
            },
            "type": "scatter"
           }
          ],
          "scatter3d": [
           {
            "line": {
             "colorbar": {
              "outlinewidth": 0,
              "ticks": ""
             }
            },
            "marker": {
             "colorbar": {
              "outlinewidth": 0,
              "ticks": ""
             }
            },
            "type": "scatter3d"
           }
          ],
          "scattercarpet": [
           {
            "marker": {
             "colorbar": {
              "outlinewidth": 0,
              "ticks": ""
             }
            },
            "type": "scattercarpet"
           }
          ],
          "scattergeo": [
           {
            "marker": {
             "colorbar": {
              "outlinewidth": 0,
              "ticks": ""
             }
            },
            "type": "scattergeo"
           }
          ],
          "scattergl": [
           {
            "marker": {
             "colorbar": {
              "outlinewidth": 0,
              "ticks": ""
             }
            },
            "type": "scattergl"
           }
          ],
          "scattermapbox": [
           {
            "marker": {
             "colorbar": {
              "outlinewidth": 0,
              "ticks": ""
             }
            },
            "type": "scattermapbox"
           }
          ],
          "scatterpolar": [
           {
            "marker": {
             "colorbar": {
              "outlinewidth": 0,
              "ticks": ""
             }
            },
            "type": "scatterpolar"
           }
          ],
          "scatterpolargl": [
           {
            "marker": {
             "colorbar": {
              "outlinewidth": 0,
              "ticks": ""
             }
            },
            "type": "scatterpolargl"
           }
          ],
          "scatterternary": [
           {
            "marker": {
             "colorbar": {
              "outlinewidth": 0,
              "ticks": ""
             }
            },
            "type": "scatterternary"
           }
          ],
          "surface": [
           {
            "colorbar": {
             "outlinewidth": 0,
             "ticks": ""
            },
            "colorscale": [
             [
              0,
              "#0d0887"
             ],
             [
              0.1111111111111111,
              "#46039f"
             ],
             [
              0.2222222222222222,
              "#7201a8"
             ],
             [
              0.3333333333333333,
              "#9c179e"
             ],
             [
              0.4444444444444444,
              "#bd3786"
             ],
             [
              0.5555555555555556,
              "#d8576b"
             ],
             [
              0.6666666666666666,
              "#ed7953"
             ],
             [
              0.7777777777777778,
              "#fb9f3a"
             ],
             [
              0.8888888888888888,
              "#fdca26"
             ],
             [
              1,
              "#f0f921"
             ]
            ],
            "type": "surface"
           }
          ],
          "table": [
           {
            "cells": {
             "fill": {
              "color": "#EBF0F8"
             },
             "line": {
              "color": "white"
             }
            },
            "header": {
             "fill": {
              "color": "#C8D4E3"
             },
             "line": {
              "color": "white"
             }
            },
            "type": "table"
           }
          ]
         },
         "layout": {
          "annotationdefaults": {
           "arrowcolor": "#2a3f5f",
           "arrowhead": 0,
           "arrowwidth": 1
          },
          "autotypenumbers": "strict",
          "coloraxis": {
           "colorbar": {
            "outlinewidth": 0,
            "ticks": ""
           }
          },
          "colorscale": {
           "diverging": [
            [
             0,
             "#8e0152"
            ],
            [
             0.1,
             "#c51b7d"
            ],
            [
             0.2,
             "#de77ae"
            ],
            [
             0.3,
             "#f1b6da"
            ],
            [
             0.4,
             "#fde0ef"
            ],
            [
             0.5,
             "#f7f7f7"
            ],
            [
             0.6,
             "#e6f5d0"
            ],
            [
             0.7,
             "#b8e186"
            ],
            [
             0.8,
             "#7fbc41"
            ],
            [
             0.9,
             "#4d9221"
            ],
            [
             1,
             "#276419"
            ]
           ],
           "sequential": [
            [
             0,
             "#0d0887"
            ],
            [
             0.1111111111111111,
             "#46039f"
            ],
            [
             0.2222222222222222,
             "#7201a8"
            ],
            [
             0.3333333333333333,
             "#9c179e"
            ],
            [
             0.4444444444444444,
             "#bd3786"
            ],
            [
             0.5555555555555556,
             "#d8576b"
            ],
            [
             0.6666666666666666,
             "#ed7953"
            ],
            [
             0.7777777777777778,
             "#fb9f3a"
            ],
            [
             0.8888888888888888,
             "#fdca26"
            ],
            [
             1,
             "#f0f921"
            ]
           ],
           "sequentialminus": [
            [
             0,
             "#0d0887"
            ],
            [
             0.1111111111111111,
             "#46039f"
            ],
            [
             0.2222222222222222,
             "#7201a8"
            ],
            [
             0.3333333333333333,
             "#9c179e"
            ],
            [
             0.4444444444444444,
             "#bd3786"
            ],
            [
             0.5555555555555556,
             "#d8576b"
            ],
            [
             0.6666666666666666,
             "#ed7953"
            ],
            [
             0.7777777777777778,
             "#fb9f3a"
            ],
            [
             0.8888888888888888,
             "#fdca26"
            ],
            [
             1,
             "#f0f921"
            ]
           ]
          },
          "colorway": [
           "#636efa",
           "#EF553B",
           "#00cc96",
           "#ab63fa",
           "#FFA15A",
           "#19d3f3",
           "#FF6692",
           "#B6E880",
           "#FF97FF",
           "#FECB52"
          ],
          "font": {
           "color": "#2a3f5f"
          },
          "geo": {
           "bgcolor": "white",
           "lakecolor": "white",
           "landcolor": "#E5ECF6",
           "showlakes": true,
           "showland": true,
           "subunitcolor": "white"
          },
          "hoverlabel": {
           "align": "left"
          },
          "hovermode": "closest",
          "mapbox": {
           "style": "light"
          },
          "paper_bgcolor": "white",
          "plot_bgcolor": "#E5ECF6",
          "polar": {
           "angularaxis": {
            "gridcolor": "white",
            "linecolor": "white",
            "ticks": ""
           },
           "bgcolor": "#E5ECF6",
           "radialaxis": {
            "gridcolor": "white",
            "linecolor": "white",
            "ticks": ""
           }
          },
          "scene": {
           "xaxis": {
            "backgroundcolor": "#E5ECF6",
            "gridcolor": "white",
            "gridwidth": 2,
            "linecolor": "white",
            "showbackground": true,
            "ticks": "",
            "zerolinecolor": "white"
           },
           "yaxis": {
            "backgroundcolor": "#E5ECF6",
            "gridcolor": "white",
            "gridwidth": 2,
            "linecolor": "white",
            "showbackground": true,
            "ticks": "",
            "zerolinecolor": "white"
           },
           "zaxis": {
            "backgroundcolor": "#E5ECF6",
            "gridcolor": "white",
            "gridwidth": 2,
            "linecolor": "white",
            "showbackground": true,
            "ticks": "",
            "zerolinecolor": "white"
           }
          },
          "shapedefaults": {
           "line": {
            "color": "#2a3f5f"
           }
          },
          "ternary": {
           "aaxis": {
            "gridcolor": "white",
            "linecolor": "white",
            "ticks": ""
           },
           "baxis": {
            "gridcolor": "white",
            "linecolor": "white",
            "ticks": ""
           },
           "bgcolor": "#E5ECF6",
           "caxis": {
            "gridcolor": "white",
            "linecolor": "white",
            "ticks": ""
           }
          },
          "title": {
           "x": 0.05
          },
          "xaxis": {
           "automargin": true,
           "gridcolor": "white",
           "linecolor": "white",
           "ticks": "",
           "title": {
            "standoff": 15
           },
           "zerolinecolor": "white",
           "zerolinewidth": 2
          },
          "yaxis": {
           "automargin": true,
           "gridcolor": "white",
           "linecolor": "white",
           "ticks": "",
           "title": {
            "standoff": 15
           },
           "zerolinecolor": "white",
           "zerolinewidth": 2
          }
         }
        }
       }
      }
     },
     "metadata": {},
     "output_type": "display_data"
    }
   ],
   "source": [
    "fig = px.scatter_3d(df, x='Energy_density', y='PP_black', z='Overlap',\n",
    "              color='PP_black')\n",
    "fig.show()"
   ]
  },
  {
   "cell_type": "code",
   "execution_count": null,
   "metadata": {},
   "outputs": [
    {
     "data": {
      "application/vnd.plotly.v1+json": {
       "config": {
        "plotlyServerURL": "https://plot.ly"
       },
       "data": [
        {
         "hovertemplate": "Energy_density=%{x}<br>PP_white=%{marker.color}<br>Overlap=%{z}<extra></extra>",
         "legendgroup": "",
         "marker": {
          "color": [
           35.9269093499507,
           24.2560392917111,
           23.7739322110776,
           44.3649756385598,
           44.3641696442707,
           8.59876577166691,
           40.8392185590641,
           42.3469264304516,
           8.34723030643727,
           36.8152157544828,
           26.8367365808494,
           17.0383791664844,
           46.3928530564789,
           40.6749105383472,
           24.2912604769361,
           40.5564531134076,
           42.6314727445972,
           28.8074804202818,
           8.47289328826141,
           42.2854178730443,
           18.8529290457903,
           45.6340915268044,
           42.8402203789903,
           34.2011531401422,
           41.9540326561904,
           47.5463322673598,
           38.8901320493907,
           40.6873673947837,
           23.3548797362564,
           10.8440493223152,
           42.5011781261474,
           36.7330239509395,
           15.3931663787514,
           39.7696631577175,
           39.6864088772979,
           10.4308611219257,
           35.8571846898218,
           28.4546608594825,
           15.7069846795897,
           41.7037708701704,
           39.9883979160536,
           27.3338572990433,
           39.2139031738626,
           40.5670491009057,
           22.6717901083112,
           39.707281288713,
           37.2622683647695,
           21.5074334438593,
           42.5994896350443,
           39.3699781738491,
           31.5454140579538,
           36.4000961323296,
           43.5698152802997,
           35.3867516445577,
           36.0562416380864,
           21.9898364951875,
           9.49447177395143,
           43.0359121485629,
           38.4405805907551,
           9.96944412437913,
           38.743033259221,
           39.2529854270114,
           9.17799539172654,
           40.3971625504327,
           28.7857635476949,
           16.500649679141,
           41.9617730404419,
           39.7411883502852,
           28.8999999455394,
           36.7428178247187,
           40.1751234894587,
           24.2847928275408,
           37.5247204309607,
           35.0206579252592,
           18.3254451177557,
           41.7754965259475,
           42.327782281368,
           32.5946198194439,
           36.6772738140489,
           42.9253730829001,
           35.5884313001445
          ],
          "coloraxis": "coloraxis",
          "symbol": "circle"
         },
         "mode": "markers",
         "name": "",
         "scene": "scene",
         "showlegend": false,
         "type": "scatter3d",
         "x": [
          10.981691073340789,
          3.660563691113596,
          2.196338214668158,
          10.981691073340789,
          3.660563691113596,
          2.196338214668158,
          10.981691073340789,
          3.660563691113596,
          2.196338214668158,
          14.642254764454385,
          4.880751588151462,
          2.928450952890877,
          14.642254764454385,
          4.880751588151462,
          2.928450952890877,
          14.642254764454385,
          4.880751588151462,
          2.928450952890877,
          18.30281845556798,
          6.100939485189326,
          3.6605636911135964,
          18.30281845556798,
          6.100939485189326,
          3.6605636911135964,
          18.30281845556798,
          6.100939485189326,
          3.6605636911135964,
          3.5858583096622976,
          1.1952861032207658,
          0.7171716619324594,
          3.5858583096622976,
          1.1952861032207658,
          0.7171716619324594,
          3.5858583096622976,
          1.1952861032207658,
          0.7171716619324594,
          4.781144412883063,
          1.5937148042943543,
          0.9562288825766126,
          4.781144412883063,
          1.5937148042943543,
          0.9562288825766126,
          4.781144412883063,
          1.5937148042943543,
          0.9562288825766126,
          5.976430516103829,
          1.9921435053679428,
          1.1952861032207658,
          5.976430516103829,
          1.9921435053679428,
          1.1952861032207658,
          5.976430516103829,
          1.9921435053679428,
          1.1952861032207658,
          1.7570705717345259,
          0.5856901905781754,
          0.3514141143469052,
          1.7570705717345259,
          0.5856901905781754,
          0.3514141143469052,
          1.7570705717345259,
          0.5856901905781754,
          0.3514141143469052,
          2.342760762312701,
          0.7809202541042338,
          0.4685521524625403,
          2.342760762312701,
          0.7809202541042338,
          0.4685521524625403,
          2.342760762312701,
          0.7809202541042338,
          0.4685521524625403,
          2.9284509528908766,
          0.9761503176302923,
          0.5856901905781754,
          2.9284509528908766,
          0.9761503176302923,
          0.5856901905781754,
          2.9284509528908766,
          0.9761503176302923,
          0.5856901905781754
         ],
         "y": [
          35.9269093499507,
          24.2560392917111,
          23.7739322110776,
          44.3649756385598,
          44.3641696442707,
          8.59876577166691,
          40.8392185590641,
          42.3469264304516,
          8.34723030643727,
          36.8152157544828,
          26.8367365808494,
          17.0383791664844,
          46.3928530564789,
          40.6749105383472,
          24.2912604769361,
          40.5564531134076,
          42.6314727445972,
          28.8074804202818,
          8.47289328826141,
          42.2854178730443,
          18.8529290457903,
          45.6340915268044,
          42.8402203789903,
          34.2011531401422,
          41.9540326561904,
          47.5463322673598,
          38.8901320493907,
          40.6873673947837,
          23.3548797362564,
          10.8440493223152,
          42.5011781261474,
          36.7330239509395,
          15.3931663787514,
          39.7696631577175,
          39.6864088772979,
          10.4308611219257,
          35.8571846898218,
          28.4546608594825,
          15.7069846795897,
          41.7037708701704,
          39.9883979160536,
          27.3338572990433,
          39.2139031738626,
          40.5670491009057,
          22.6717901083112,
          39.707281288713,
          37.2622683647695,
          21.5074334438593,
          42.5994896350443,
          39.3699781738491,
          31.5454140579538,
          36.4000961323296,
          43.5698152802997,
          35.3867516445577,
          36.0562416380864,
          21.9898364951875,
          9.49447177395143,
          43.0359121485629,
          38.4405805907551,
          9.96944412437913,
          38.743033259221,
          39.2529854270114,
          9.17799539172654,
          40.3971625504327,
          28.7857635476949,
          16.500649679141,
          41.9617730404419,
          39.7411883502852,
          28.8999999455394,
          36.7428178247187,
          40.1751234894587,
          24.2847928275408,
          37.5247204309607,
          35.0206579252592,
          18.3254451177557,
          41.7754965259475,
          42.327782281368,
          32.5946198194439,
          36.6772738140489,
          42.9253730829001,
          35.5884313001445
         ],
         "z": [
          50,
          83.33333333333333,
          90.00000000000001,
          -100,
          33.33333333333333,
          60,
          -199.99999999999994,
          0,
          40,
          50,
          83.33333333333333,
          90.00000000000001,
          -100,
          33.33333333333333,
          60,
          -199.99999999999994,
          0,
          40,
          50,
          83.33333333333333,
          90.00000000000001,
          -100,
          33.33333333333333,
          60,
          -199.99999999999994,
          0,
          40,
          71.42857142857143,
          90.47619047619048,
          94.28571428571428,
          -14.285714285714276,
          61.9047619047619,
          77.14285714285715,
          -71.4285714285714,
          42.85714285714286,
          65.71428571428571,
          71.42857142857143,
          90.47619047619048,
          94.28571428571428,
          -14.285714285714276,
          61.9047619047619,
          77.14285714285715,
          -71.4285714285714,
          42.85714285714286,
          65.71428571428571,
          71.42857142857143,
          90.47619047619048,
          94.28571428571428,
          -14.285714285714276,
          61.9047619047619,
          77.14285714285715,
          -71.4285714285714,
          42.85714285714286,
          65.71428571428571,
          80,
          93.33333333333333,
          96,
          20.000000000000004,
          73.33333333333333,
          84,
          -19.99999999999999,
          60,
          76.00000000000001,
          80,
          93.33333333333333,
          96,
          20.000000000000004,
          73.33333333333333,
          84,
          -19.99999999999999,
          60,
          76.00000000000001,
          80,
          93.33333333333333,
          96,
          20.000000000000004,
          73.33333333333333,
          84,
          -19.99999999999999,
          60,
          76.00000000000001
         ]
        }
       ],
       "layout": {
        "coloraxis": {
         "colorbar": {
          "title": {
           "text": "PP_white"
          }
         },
         "colorscale": [
          [
           0,
           "#0d0887"
          ],
          [
           0.1111111111111111,
           "#46039f"
          ],
          [
           0.2222222222222222,
           "#7201a8"
          ],
          [
           0.3333333333333333,
           "#9c179e"
          ],
          [
           0.4444444444444444,
           "#bd3786"
          ],
          [
           0.5555555555555556,
           "#d8576b"
          ],
          [
           0.6666666666666666,
           "#ed7953"
          ],
          [
           0.7777777777777778,
           "#fb9f3a"
          ],
          [
           0.8888888888888888,
           "#fdca26"
          ],
          [
           1,
           "#f0f921"
          ]
         ]
        },
        "legend": {
         "tracegroupgap": 0
        },
        "margin": {
         "t": 60
        },
        "scene": {
         "domain": {
          "x": [
           0,
           1
          ],
          "y": [
           0,
           1
          ]
         },
         "xaxis": {
          "title": {
           "text": "Energy_density"
          }
         },
         "yaxis": {
          "title": {
           "text": "PP_white"
          }
         },
         "zaxis": {
          "title": {
           "text": "Overlap"
          }
         }
        },
        "template": {
         "data": {
          "bar": [
           {
            "error_x": {
             "color": "#2a3f5f"
            },
            "error_y": {
             "color": "#2a3f5f"
            },
            "marker": {
             "line": {
              "color": "#E5ECF6",
              "width": 0.5
             },
             "pattern": {
              "fillmode": "overlay",
              "size": 10,
              "solidity": 0.2
             }
            },
            "type": "bar"
           }
          ],
          "barpolar": [
           {
            "marker": {
             "line": {
              "color": "#E5ECF6",
              "width": 0.5
             },
             "pattern": {
              "fillmode": "overlay",
              "size": 10,
              "solidity": 0.2
             }
            },
            "type": "barpolar"
           }
          ],
          "carpet": [
           {
            "aaxis": {
             "endlinecolor": "#2a3f5f",
             "gridcolor": "white",
             "linecolor": "white",
             "minorgridcolor": "white",
             "startlinecolor": "#2a3f5f"
            },
            "baxis": {
             "endlinecolor": "#2a3f5f",
             "gridcolor": "white",
             "linecolor": "white",
             "minorgridcolor": "white",
             "startlinecolor": "#2a3f5f"
            },
            "type": "carpet"
           }
          ],
          "choropleth": [
           {
            "colorbar": {
             "outlinewidth": 0,
             "ticks": ""
            },
            "type": "choropleth"
           }
          ],
          "contour": [
           {
            "colorbar": {
             "outlinewidth": 0,
             "ticks": ""
            },
            "colorscale": [
             [
              0,
              "#0d0887"
             ],
             [
              0.1111111111111111,
              "#46039f"
             ],
             [
              0.2222222222222222,
              "#7201a8"
             ],
             [
              0.3333333333333333,
              "#9c179e"
             ],
             [
              0.4444444444444444,
              "#bd3786"
             ],
             [
              0.5555555555555556,
              "#d8576b"
             ],
             [
              0.6666666666666666,
              "#ed7953"
             ],
             [
              0.7777777777777778,
              "#fb9f3a"
             ],
             [
              0.8888888888888888,
              "#fdca26"
             ],
             [
              1,
              "#f0f921"
             ]
            ],
            "type": "contour"
           }
          ],
          "contourcarpet": [
           {
            "colorbar": {
             "outlinewidth": 0,
             "ticks": ""
            },
            "type": "contourcarpet"
           }
          ],
          "heatmap": [
           {
            "colorbar": {
             "outlinewidth": 0,
             "ticks": ""
            },
            "colorscale": [
             [
              0,
              "#0d0887"
             ],
             [
              0.1111111111111111,
              "#46039f"
             ],
             [
              0.2222222222222222,
              "#7201a8"
             ],
             [
              0.3333333333333333,
              "#9c179e"
             ],
             [
              0.4444444444444444,
              "#bd3786"
             ],
             [
              0.5555555555555556,
              "#d8576b"
             ],
             [
              0.6666666666666666,
              "#ed7953"
             ],
             [
              0.7777777777777778,
              "#fb9f3a"
             ],
             [
              0.8888888888888888,
              "#fdca26"
             ],
             [
              1,
              "#f0f921"
             ]
            ],
            "type": "heatmap"
           }
          ],
          "heatmapgl": [
           {
            "colorbar": {
             "outlinewidth": 0,
             "ticks": ""
            },
            "colorscale": [
             [
              0,
              "#0d0887"
             ],
             [
              0.1111111111111111,
              "#46039f"
             ],
             [
              0.2222222222222222,
              "#7201a8"
             ],
             [
              0.3333333333333333,
              "#9c179e"
             ],
             [
              0.4444444444444444,
              "#bd3786"
             ],
             [
              0.5555555555555556,
              "#d8576b"
             ],
             [
              0.6666666666666666,
              "#ed7953"
             ],
             [
              0.7777777777777778,
              "#fb9f3a"
             ],
             [
              0.8888888888888888,
              "#fdca26"
             ],
             [
              1,
              "#f0f921"
             ]
            ],
            "type": "heatmapgl"
           }
          ],
          "histogram": [
           {
            "marker": {
             "pattern": {
              "fillmode": "overlay",
              "size": 10,
              "solidity": 0.2
             }
            },
            "type": "histogram"
           }
          ],
          "histogram2d": [
           {
            "colorbar": {
             "outlinewidth": 0,
             "ticks": ""
            },
            "colorscale": [
             [
              0,
              "#0d0887"
             ],
             [
              0.1111111111111111,
              "#46039f"
             ],
             [
              0.2222222222222222,
              "#7201a8"
             ],
             [
              0.3333333333333333,
              "#9c179e"
             ],
             [
              0.4444444444444444,
              "#bd3786"
             ],
             [
              0.5555555555555556,
              "#d8576b"
             ],
             [
              0.6666666666666666,
              "#ed7953"
             ],
             [
              0.7777777777777778,
              "#fb9f3a"
             ],
             [
              0.8888888888888888,
              "#fdca26"
             ],
             [
              1,
              "#f0f921"
             ]
            ],
            "type": "histogram2d"
           }
          ],
          "histogram2dcontour": [
           {
            "colorbar": {
             "outlinewidth": 0,
             "ticks": ""
            },
            "colorscale": [
             [
              0,
              "#0d0887"
             ],
             [
              0.1111111111111111,
              "#46039f"
             ],
             [
              0.2222222222222222,
              "#7201a8"
             ],
             [
              0.3333333333333333,
              "#9c179e"
             ],
             [
              0.4444444444444444,
              "#bd3786"
             ],
             [
              0.5555555555555556,
              "#d8576b"
             ],
             [
              0.6666666666666666,
              "#ed7953"
             ],
             [
              0.7777777777777778,
              "#fb9f3a"
             ],
             [
              0.8888888888888888,
              "#fdca26"
             ],
             [
              1,
              "#f0f921"
             ]
            ],
            "type": "histogram2dcontour"
           }
          ],
          "mesh3d": [
           {
            "colorbar": {
             "outlinewidth": 0,
             "ticks": ""
            },
            "type": "mesh3d"
           }
          ],
          "parcoords": [
           {
            "line": {
             "colorbar": {
              "outlinewidth": 0,
              "ticks": ""
             }
            },
            "type": "parcoords"
           }
          ],
          "pie": [
           {
            "automargin": true,
            "type": "pie"
           }
          ],
          "scatter": [
           {
            "fillpattern": {
             "fillmode": "overlay",
             "size": 10,
             "solidity": 0.2
            },
            "type": "scatter"
           }
          ],
          "scatter3d": [
           {
            "line": {
             "colorbar": {
              "outlinewidth": 0,
              "ticks": ""
             }
            },
            "marker": {
             "colorbar": {
              "outlinewidth": 0,
              "ticks": ""
             }
            },
            "type": "scatter3d"
           }
          ],
          "scattercarpet": [
           {
            "marker": {
             "colorbar": {
              "outlinewidth": 0,
              "ticks": ""
             }
            },
            "type": "scattercarpet"
           }
          ],
          "scattergeo": [
           {
            "marker": {
             "colorbar": {
              "outlinewidth": 0,
              "ticks": ""
             }
            },
            "type": "scattergeo"
           }
          ],
          "scattergl": [
           {
            "marker": {
             "colorbar": {
              "outlinewidth": 0,
              "ticks": ""
             }
            },
            "type": "scattergl"
           }
          ],
          "scattermapbox": [
           {
            "marker": {
             "colorbar": {
              "outlinewidth": 0,
              "ticks": ""
             }
            },
            "type": "scattermapbox"
           }
          ],
          "scatterpolar": [
           {
            "marker": {
             "colorbar": {
              "outlinewidth": 0,
              "ticks": ""
             }
            },
            "type": "scatterpolar"
           }
          ],
          "scatterpolargl": [
           {
            "marker": {
             "colorbar": {
              "outlinewidth": 0,
              "ticks": ""
             }
            },
            "type": "scatterpolargl"
           }
          ],
          "scatterternary": [
           {
            "marker": {
             "colorbar": {
              "outlinewidth": 0,
              "ticks": ""
             }
            },
            "type": "scatterternary"
           }
          ],
          "surface": [
           {
            "colorbar": {
             "outlinewidth": 0,
             "ticks": ""
            },
            "colorscale": [
             [
              0,
              "#0d0887"
             ],
             [
              0.1111111111111111,
              "#46039f"
             ],
             [
              0.2222222222222222,
              "#7201a8"
             ],
             [
              0.3333333333333333,
              "#9c179e"
             ],
             [
              0.4444444444444444,
              "#bd3786"
             ],
             [
              0.5555555555555556,
              "#d8576b"
             ],
             [
              0.6666666666666666,
              "#ed7953"
             ],
             [
              0.7777777777777778,
              "#fb9f3a"
             ],
             [
              0.8888888888888888,
              "#fdca26"
             ],
             [
              1,
              "#f0f921"
             ]
            ],
            "type": "surface"
           }
          ],
          "table": [
           {
            "cells": {
             "fill": {
              "color": "#EBF0F8"
             },
             "line": {
              "color": "white"
             }
            },
            "header": {
             "fill": {
              "color": "#C8D4E3"
             },
             "line": {
              "color": "white"
             }
            },
            "type": "table"
           }
          ]
         },
         "layout": {
          "annotationdefaults": {
           "arrowcolor": "#2a3f5f",
           "arrowhead": 0,
           "arrowwidth": 1
          },
          "autotypenumbers": "strict",
          "coloraxis": {
           "colorbar": {
            "outlinewidth": 0,
            "ticks": ""
           }
          },
          "colorscale": {
           "diverging": [
            [
             0,
             "#8e0152"
            ],
            [
             0.1,
             "#c51b7d"
            ],
            [
             0.2,
             "#de77ae"
            ],
            [
             0.3,
             "#f1b6da"
            ],
            [
             0.4,
             "#fde0ef"
            ],
            [
             0.5,
             "#f7f7f7"
            ],
            [
             0.6,
             "#e6f5d0"
            ],
            [
             0.7,
             "#b8e186"
            ],
            [
             0.8,
             "#7fbc41"
            ],
            [
             0.9,
             "#4d9221"
            ],
            [
             1,
             "#276419"
            ]
           ],
           "sequential": [
            [
             0,
             "#0d0887"
            ],
            [
             0.1111111111111111,
             "#46039f"
            ],
            [
             0.2222222222222222,
             "#7201a8"
            ],
            [
             0.3333333333333333,
             "#9c179e"
            ],
            [
             0.4444444444444444,
             "#bd3786"
            ],
            [
             0.5555555555555556,
             "#d8576b"
            ],
            [
             0.6666666666666666,
             "#ed7953"
            ],
            [
             0.7777777777777778,
             "#fb9f3a"
            ],
            [
             0.8888888888888888,
             "#fdca26"
            ],
            [
             1,
             "#f0f921"
            ]
           ],
           "sequentialminus": [
            [
             0,
             "#0d0887"
            ],
            [
             0.1111111111111111,
             "#46039f"
            ],
            [
             0.2222222222222222,
             "#7201a8"
            ],
            [
             0.3333333333333333,
             "#9c179e"
            ],
            [
             0.4444444444444444,
             "#bd3786"
            ],
            [
             0.5555555555555556,
             "#d8576b"
            ],
            [
             0.6666666666666666,
             "#ed7953"
            ],
            [
             0.7777777777777778,
             "#fb9f3a"
            ],
            [
             0.8888888888888888,
             "#fdca26"
            ],
            [
             1,
             "#f0f921"
            ]
           ]
          },
          "colorway": [
           "#636efa",
           "#EF553B",
           "#00cc96",
           "#ab63fa",
           "#FFA15A",
           "#19d3f3",
           "#FF6692",
           "#B6E880",
           "#FF97FF",
           "#FECB52"
          ],
          "font": {
           "color": "#2a3f5f"
          },
          "geo": {
           "bgcolor": "white",
           "lakecolor": "white",
           "landcolor": "#E5ECF6",
           "showlakes": true,
           "showland": true,
           "subunitcolor": "white"
          },
          "hoverlabel": {
           "align": "left"
          },
          "hovermode": "closest",
          "mapbox": {
           "style": "light"
          },
          "paper_bgcolor": "white",
          "plot_bgcolor": "#E5ECF6",
          "polar": {
           "angularaxis": {
            "gridcolor": "white",
            "linecolor": "white",
            "ticks": ""
           },
           "bgcolor": "#E5ECF6",
           "radialaxis": {
            "gridcolor": "white",
            "linecolor": "white",
            "ticks": ""
           }
          },
          "scene": {
           "xaxis": {
            "backgroundcolor": "#E5ECF6",
            "gridcolor": "white",
            "gridwidth": 2,
            "linecolor": "white",
            "showbackground": true,
            "ticks": "",
            "zerolinecolor": "white"
           },
           "yaxis": {
            "backgroundcolor": "#E5ECF6",
            "gridcolor": "white",
            "gridwidth": 2,
            "linecolor": "white",
            "showbackground": true,
            "ticks": "",
            "zerolinecolor": "white"
           },
           "zaxis": {
            "backgroundcolor": "#E5ECF6",
            "gridcolor": "white",
            "gridwidth": 2,
            "linecolor": "white",
            "showbackground": true,
            "ticks": "",
            "zerolinecolor": "white"
           }
          },
          "shapedefaults": {
           "line": {
            "color": "#2a3f5f"
           }
          },
          "ternary": {
           "aaxis": {
            "gridcolor": "white",
            "linecolor": "white",
            "ticks": ""
           },
           "baxis": {
            "gridcolor": "white",
            "linecolor": "white",
            "ticks": ""
           },
           "bgcolor": "#E5ECF6",
           "caxis": {
            "gridcolor": "white",
            "linecolor": "white",
            "ticks": ""
           }
          },
          "title": {
           "x": 0.05
          },
          "xaxis": {
           "automargin": true,
           "gridcolor": "white",
           "linecolor": "white",
           "ticks": "",
           "title": {
            "standoff": 15
           },
           "zerolinecolor": "white",
           "zerolinewidth": 2
          },
          "yaxis": {
           "automargin": true,
           "gridcolor": "white",
           "linecolor": "white",
           "ticks": "",
           "title": {
            "standoff": 15
           },
           "zerolinecolor": "white",
           "zerolinewidth": 2
          }
         }
        }
       }
      }
     },
     "metadata": {},
     "output_type": "display_data"
    }
   ],
   "source": [
    "fig = px.scatter_3d(df, x='Energy_density', y='PP_white', z='Overlap',\n",
    "              color='PP_white')\n",
    "fig.show()"
   ]
  },
  {
   "cell_type": "code",
   "execution_count": null,
   "metadata": {},
   "outputs": [
    {
     "data": {
      "application/vnd.plotly.v1+json": {
       "config": {
        "plotlyServerURL": "https://plot.ly"
       },
       "data": [
        {
         "hovertemplate": "Energy_density=%{x}<br>TPE_black=%{marker.color}<br>Overlap=%{z}<extra></extra>",
         "legendgroup": "",
         "marker": {
          "color": [
           32.6448552368956,
           33.9828821544655,
           35.0273438550075,
           22.7010224506471,
           18.7546960898649,
           9.04043648975302,
           18.8967127326188,
           13.2041987733,
           9.4943097432692,
           23.2881543997413,
           17.9777115643617,
           27.2028271967645,
           20.2903420350483,
           30.7292779074363,
           9.50647713378542,
           14.5143420338198,
           35.9706208131377,
           9.16752799710928,
           7.54721319925671,
           17.5469534342159,
           22.2650996848464,
           22.8384115588965,
           28.3030790757422,
           30.4015534405342,
           15.3275974258552,
           25.6347354669374,
           17.072594088149,
           23.4134232595252,
           22.5746237061576,
           7.44995182843927,
           19.3608429439861,
           18.9428273863522,
           6.62137789973637,
           15.2442003007294,
           8.71927079715727,
           7.40467155600574,
           27.7099534893847,
           23.1644427179708,
           28.2330072797426,
           24.5584169870327,
           28.323863012975,
           11.6390205523481,
           15.4495431258106,
           27.0475492579204,
           9.3459207109075,
           23.0424209200995,
           15.8808597733051,
           15.4533539943443,
           24.9007122445572,
           26.3156405500444,
           27.8963820418728,
           16.7479162458283,
           28.144347303222,
           16.8122427580441,
           22.0963890075816,
           30.5927806264919,
           11.3259794711022,
           21.380273216444,
           15.2166160914361,
           10.0701867155351,
           16.5228711828765,
           12.5097578589274,
           8.74718558818637,
           21.3746300864678,
           23.4893525002257,
           27.0540632136054,
           19.8322984647094,
           28.3124800326921,
           11.5250461293089,
           17.3237334784217,
           29.1007316001798,
           10.0920235696266,
           21.6930891573569,
           18.003674348299,
           17.7752045609113,
           17.7679143134177,
           18.7009525643585,
           20.4648801920209,
           13.2258371757913,
           19.7887404467695,
           17.7758488790829
          ],
          "coloraxis": "coloraxis",
          "symbol": "circle"
         },
         "mode": "markers",
         "name": "",
         "scene": "scene",
         "showlegend": false,
         "type": "scatter3d",
         "x": [
          10.981691073340789,
          3.660563691113596,
          2.196338214668158,
          10.981691073340789,
          3.660563691113596,
          2.196338214668158,
          10.981691073340789,
          3.660563691113596,
          2.196338214668158,
          14.642254764454385,
          4.880751588151462,
          2.928450952890877,
          14.642254764454385,
          4.880751588151462,
          2.928450952890877,
          14.642254764454385,
          4.880751588151462,
          2.928450952890877,
          18.30281845556798,
          6.100939485189326,
          3.6605636911135964,
          18.30281845556798,
          6.100939485189326,
          3.6605636911135964,
          18.30281845556798,
          6.100939485189326,
          3.6605636911135964,
          3.5858583096622976,
          1.1952861032207658,
          0.7171716619324594,
          3.5858583096622976,
          1.1952861032207658,
          0.7171716619324594,
          3.5858583096622976,
          1.1952861032207658,
          0.7171716619324594,
          4.781144412883063,
          1.5937148042943543,
          0.9562288825766126,
          4.781144412883063,
          1.5937148042943543,
          0.9562288825766126,
          4.781144412883063,
          1.5937148042943543,
          0.9562288825766126,
          5.976430516103829,
          1.9921435053679428,
          1.1952861032207658,
          5.976430516103829,
          1.9921435053679428,
          1.1952861032207658,
          5.976430516103829,
          1.9921435053679428,
          1.1952861032207658,
          1.7570705717345259,
          0.5856901905781754,
          0.3514141143469052,
          1.7570705717345259,
          0.5856901905781754,
          0.3514141143469052,
          1.7570705717345259,
          0.5856901905781754,
          0.3514141143469052,
          2.342760762312701,
          0.7809202541042338,
          0.4685521524625403,
          2.342760762312701,
          0.7809202541042338,
          0.4685521524625403,
          2.342760762312701,
          0.7809202541042338,
          0.4685521524625403,
          2.9284509528908766,
          0.9761503176302923,
          0.5856901905781754,
          2.9284509528908766,
          0.9761503176302923,
          0.5856901905781754,
          2.9284509528908766,
          0.9761503176302923,
          0.5856901905781754
         ],
         "y": [
          32.6448552368956,
          33.9828821544655,
          35.0273438550075,
          22.7010224506471,
          18.7546960898649,
          9.04043648975302,
          18.8967127326188,
          13.2041987733,
          9.4943097432692,
          23.2881543997413,
          17.9777115643617,
          27.2028271967645,
          20.2903420350483,
          30.7292779074363,
          9.50647713378542,
          14.5143420338198,
          35.9706208131377,
          9.16752799710928,
          7.54721319925671,
          17.5469534342159,
          22.2650996848464,
          22.8384115588965,
          28.3030790757422,
          30.4015534405342,
          15.3275974258552,
          25.6347354669374,
          17.072594088149,
          23.4134232595252,
          22.5746237061576,
          7.44995182843927,
          19.3608429439861,
          18.9428273863522,
          6.62137789973637,
          15.2442003007294,
          8.71927079715727,
          7.40467155600574,
          27.7099534893847,
          23.1644427179708,
          28.2330072797426,
          24.5584169870327,
          28.323863012975,
          11.6390205523481,
          15.4495431258106,
          27.0475492579204,
          9.3459207109075,
          23.0424209200995,
          15.8808597733051,
          15.4533539943443,
          24.9007122445572,
          26.3156405500444,
          27.8963820418728,
          16.7479162458283,
          28.144347303222,
          16.8122427580441,
          22.0963890075816,
          30.5927806264919,
          11.3259794711022,
          21.380273216444,
          15.2166160914361,
          10.0701867155351,
          16.5228711828765,
          12.5097578589274,
          8.74718558818637,
          21.3746300864678,
          23.4893525002257,
          27.0540632136054,
          19.8322984647094,
          28.3124800326921,
          11.5250461293089,
          17.3237334784217,
          29.1007316001798,
          10.0920235696266,
          21.6930891573569,
          18.003674348299,
          17.7752045609113,
          17.7679143134177,
          18.7009525643585,
          20.4648801920209,
          13.2258371757913,
          19.7887404467695,
          17.7758488790829
         ],
         "z": [
          50,
          83.33333333333333,
          90.00000000000001,
          -100,
          33.33333333333333,
          60,
          -199.99999999999994,
          0,
          40,
          50,
          83.33333333333333,
          90.00000000000001,
          -100,
          33.33333333333333,
          60,
          -199.99999999999994,
          0,
          40,
          50,
          83.33333333333333,
          90.00000000000001,
          -100,
          33.33333333333333,
          60,
          -199.99999999999994,
          0,
          40,
          71.42857142857143,
          90.47619047619048,
          94.28571428571428,
          -14.285714285714276,
          61.9047619047619,
          77.14285714285715,
          -71.4285714285714,
          42.85714285714286,
          65.71428571428571,
          71.42857142857143,
          90.47619047619048,
          94.28571428571428,
          -14.285714285714276,
          61.9047619047619,
          77.14285714285715,
          -71.4285714285714,
          42.85714285714286,
          65.71428571428571,
          71.42857142857143,
          90.47619047619048,
          94.28571428571428,
          -14.285714285714276,
          61.9047619047619,
          77.14285714285715,
          -71.4285714285714,
          42.85714285714286,
          65.71428571428571,
          80,
          93.33333333333333,
          96,
          20.000000000000004,
          73.33333333333333,
          84,
          -19.99999999999999,
          60,
          76.00000000000001,
          80,
          93.33333333333333,
          96,
          20.000000000000004,
          73.33333333333333,
          84,
          -19.99999999999999,
          60,
          76.00000000000001,
          80,
          93.33333333333333,
          96,
          20.000000000000004,
          73.33333333333333,
          84,
          -19.99999999999999,
          60,
          76.00000000000001
         ]
        }
       ],
       "layout": {
        "coloraxis": {
         "colorbar": {
          "title": {
           "text": "TPE_black"
          }
         },
         "colorscale": [
          [
           0,
           "#0d0887"
          ],
          [
           0.1111111111111111,
           "#46039f"
          ],
          [
           0.2222222222222222,
           "#7201a8"
          ],
          [
           0.3333333333333333,
           "#9c179e"
          ],
          [
           0.4444444444444444,
           "#bd3786"
          ],
          [
           0.5555555555555556,
           "#d8576b"
          ],
          [
           0.6666666666666666,
           "#ed7953"
          ],
          [
           0.7777777777777778,
           "#fb9f3a"
          ],
          [
           0.8888888888888888,
           "#fdca26"
          ],
          [
           1,
           "#f0f921"
          ]
         ]
        },
        "legend": {
         "tracegroupgap": 0
        },
        "margin": {
         "t": 60
        },
        "scene": {
         "domain": {
          "x": [
           0,
           1
          ],
          "y": [
           0,
           1
          ]
         },
         "xaxis": {
          "title": {
           "text": "Energy_density"
          }
         },
         "yaxis": {
          "title": {
           "text": "TPE_black"
          }
         },
         "zaxis": {
          "title": {
           "text": "Overlap"
          }
         }
        },
        "template": {
         "data": {
          "bar": [
           {
            "error_x": {
             "color": "#2a3f5f"
            },
            "error_y": {
             "color": "#2a3f5f"
            },
            "marker": {
             "line": {
              "color": "#E5ECF6",
              "width": 0.5
             },
             "pattern": {
              "fillmode": "overlay",
              "size": 10,
              "solidity": 0.2
             }
            },
            "type": "bar"
           }
          ],
          "barpolar": [
           {
            "marker": {
             "line": {
              "color": "#E5ECF6",
              "width": 0.5
             },
             "pattern": {
              "fillmode": "overlay",
              "size": 10,
              "solidity": 0.2
             }
            },
            "type": "barpolar"
           }
          ],
          "carpet": [
           {
            "aaxis": {
             "endlinecolor": "#2a3f5f",
             "gridcolor": "white",
             "linecolor": "white",
             "minorgridcolor": "white",
             "startlinecolor": "#2a3f5f"
            },
            "baxis": {
             "endlinecolor": "#2a3f5f",
             "gridcolor": "white",
             "linecolor": "white",
             "minorgridcolor": "white",
             "startlinecolor": "#2a3f5f"
            },
            "type": "carpet"
           }
          ],
          "choropleth": [
           {
            "colorbar": {
             "outlinewidth": 0,
             "ticks": ""
            },
            "type": "choropleth"
           }
          ],
          "contour": [
           {
            "colorbar": {
             "outlinewidth": 0,
             "ticks": ""
            },
            "colorscale": [
             [
              0,
              "#0d0887"
             ],
             [
              0.1111111111111111,
              "#46039f"
             ],
             [
              0.2222222222222222,
              "#7201a8"
             ],
             [
              0.3333333333333333,
              "#9c179e"
             ],
             [
              0.4444444444444444,
              "#bd3786"
             ],
             [
              0.5555555555555556,
              "#d8576b"
             ],
             [
              0.6666666666666666,
              "#ed7953"
             ],
             [
              0.7777777777777778,
              "#fb9f3a"
             ],
             [
              0.8888888888888888,
              "#fdca26"
             ],
             [
              1,
              "#f0f921"
             ]
            ],
            "type": "contour"
           }
          ],
          "contourcarpet": [
           {
            "colorbar": {
             "outlinewidth": 0,
             "ticks": ""
            },
            "type": "contourcarpet"
           }
          ],
          "heatmap": [
           {
            "colorbar": {
             "outlinewidth": 0,
             "ticks": ""
            },
            "colorscale": [
             [
              0,
              "#0d0887"
             ],
             [
              0.1111111111111111,
              "#46039f"
             ],
             [
              0.2222222222222222,
              "#7201a8"
             ],
             [
              0.3333333333333333,
              "#9c179e"
             ],
             [
              0.4444444444444444,
              "#bd3786"
             ],
             [
              0.5555555555555556,
              "#d8576b"
             ],
             [
              0.6666666666666666,
              "#ed7953"
             ],
             [
              0.7777777777777778,
              "#fb9f3a"
             ],
             [
              0.8888888888888888,
              "#fdca26"
             ],
             [
              1,
              "#f0f921"
             ]
            ],
            "type": "heatmap"
           }
          ],
          "heatmapgl": [
           {
            "colorbar": {
             "outlinewidth": 0,
             "ticks": ""
            },
            "colorscale": [
             [
              0,
              "#0d0887"
             ],
             [
              0.1111111111111111,
              "#46039f"
             ],
             [
              0.2222222222222222,
              "#7201a8"
             ],
             [
              0.3333333333333333,
              "#9c179e"
             ],
             [
              0.4444444444444444,
              "#bd3786"
             ],
             [
              0.5555555555555556,
              "#d8576b"
             ],
             [
              0.6666666666666666,
              "#ed7953"
             ],
             [
              0.7777777777777778,
              "#fb9f3a"
             ],
             [
              0.8888888888888888,
              "#fdca26"
             ],
             [
              1,
              "#f0f921"
             ]
            ],
            "type": "heatmapgl"
           }
          ],
          "histogram": [
           {
            "marker": {
             "pattern": {
              "fillmode": "overlay",
              "size": 10,
              "solidity": 0.2
             }
            },
            "type": "histogram"
           }
          ],
          "histogram2d": [
           {
            "colorbar": {
             "outlinewidth": 0,
             "ticks": ""
            },
            "colorscale": [
             [
              0,
              "#0d0887"
             ],
             [
              0.1111111111111111,
              "#46039f"
             ],
             [
              0.2222222222222222,
              "#7201a8"
             ],
             [
              0.3333333333333333,
              "#9c179e"
             ],
             [
              0.4444444444444444,
              "#bd3786"
             ],
             [
              0.5555555555555556,
              "#d8576b"
             ],
             [
              0.6666666666666666,
              "#ed7953"
             ],
             [
              0.7777777777777778,
              "#fb9f3a"
             ],
             [
              0.8888888888888888,
              "#fdca26"
             ],
             [
              1,
              "#f0f921"
             ]
            ],
            "type": "histogram2d"
           }
          ],
          "histogram2dcontour": [
           {
            "colorbar": {
             "outlinewidth": 0,
             "ticks": ""
            },
            "colorscale": [
             [
              0,
              "#0d0887"
             ],
             [
              0.1111111111111111,
              "#46039f"
             ],
             [
              0.2222222222222222,
              "#7201a8"
             ],
             [
              0.3333333333333333,
              "#9c179e"
             ],
             [
              0.4444444444444444,
              "#bd3786"
             ],
             [
              0.5555555555555556,
              "#d8576b"
             ],
             [
              0.6666666666666666,
              "#ed7953"
             ],
             [
              0.7777777777777778,
              "#fb9f3a"
             ],
             [
              0.8888888888888888,
              "#fdca26"
             ],
             [
              1,
              "#f0f921"
             ]
            ],
            "type": "histogram2dcontour"
           }
          ],
          "mesh3d": [
           {
            "colorbar": {
             "outlinewidth": 0,
             "ticks": ""
            },
            "type": "mesh3d"
           }
          ],
          "parcoords": [
           {
            "line": {
             "colorbar": {
              "outlinewidth": 0,
              "ticks": ""
             }
            },
            "type": "parcoords"
           }
          ],
          "pie": [
           {
            "automargin": true,
            "type": "pie"
           }
          ],
          "scatter": [
           {
            "fillpattern": {
             "fillmode": "overlay",
             "size": 10,
             "solidity": 0.2
            },
            "type": "scatter"
           }
          ],
          "scatter3d": [
           {
            "line": {
             "colorbar": {
              "outlinewidth": 0,
              "ticks": ""
             }
            },
            "marker": {
             "colorbar": {
              "outlinewidth": 0,
              "ticks": ""
             }
            },
            "type": "scatter3d"
           }
          ],
          "scattercarpet": [
           {
            "marker": {
             "colorbar": {
              "outlinewidth": 0,
              "ticks": ""
             }
            },
            "type": "scattercarpet"
           }
          ],
          "scattergeo": [
           {
            "marker": {
             "colorbar": {
              "outlinewidth": 0,
              "ticks": ""
             }
            },
            "type": "scattergeo"
           }
          ],
          "scattergl": [
           {
            "marker": {
             "colorbar": {
              "outlinewidth": 0,
              "ticks": ""
             }
            },
            "type": "scattergl"
           }
          ],
          "scattermapbox": [
           {
            "marker": {
             "colorbar": {
              "outlinewidth": 0,
              "ticks": ""
             }
            },
            "type": "scattermapbox"
           }
          ],
          "scatterpolar": [
           {
            "marker": {
             "colorbar": {
              "outlinewidth": 0,
              "ticks": ""
             }
            },
            "type": "scatterpolar"
           }
          ],
          "scatterpolargl": [
           {
            "marker": {
             "colorbar": {
              "outlinewidth": 0,
              "ticks": ""
             }
            },
            "type": "scatterpolargl"
           }
          ],
          "scatterternary": [
           {
            "marker": {
             "colorbar": {
              "outlinewidth": 0,
              "ticks": ""
             }
            },
            "type": "scatterternary"
           }
          ],
          "surface": [
           {
            "colorbar": {
             "outlinewidth": 0,
             "ticks": ""
            },
            "colorscale": [
             [
              0,
              "#0d0887"
             ],
             [
              0.1111111111111111,
              "#46039f"
             ],
             [
              0.2222222222222222,
              "#7201a8"
             ],
             [
              0.3333333333333333,
              "#9c179e"
             ],
             [
              0.4444444444444444,
              "#bd3786"
             ],
             [
              0.5555555555555556,
              "#d8576b"
             ],
             [
              0.6666666666666666,
              "#ed7953"
             ],
             [
              0.7777777777777778,
              "#fb9f3a"
             ],
             [
              0.8888888888888888,
              "#fdca26"
             ],
             [
              1,
              "#f0f921"
             ]
            ],
            "type": "surface"
           }
          ],
          "table": [
           {
            "cells": {
             "fill": {
              "color": "#EBF0F8"
             },
             "line": {
              "color": "white"
             }
            },
            "header": {
             "fill": {
              "color": "#C8D4E3"
             },
             "line": {
              "color": "white"
             }
            },
            "type": "table"
           }
          ]
         },
         "layout": {
          "annotationdefaults": {
           "arrowcolor": "#2a3f5f",
           "arrowhead": 0,
           "arrowwidth": 1
          },
          "autotypenumbers": "strict",
          "coloraxis": {
           "colorbar": {
            "outlinewidth": 0,
            "ticks": ""
           }
          },
          "colorscale": {
           "diverging": [
            [
             0,
             "#8e0152"
            ],
            [
             0.1,
             "#c51b7d"
            ],
            [
             0.2,
             "#de77ae"
            ],
            [
             0.3,
             "#f1b6da"
            ],
            [
             0.4,
             "#fde0ef"
            ],
            [
             0.5,
             "#f7f7f7"
            ],
            [
             0.6,
             "#e6f5d0"
            ],
            [
             0.7,
             "#b8e186"
            ],
            [
             0.8,
             "#7fbc41"
            ],
            [
             0.9,
             "#4d9221"
            ],
            [
             1,
             "#276419"
            ]
           ],
           "sequential": [
            [
             0,
             "#0d0887"
            ],
            [
             0.1111111111111111,
             "#46039f"
            ],
            [
             0.2222222222222222,
             "#7201a8"
            ],
            [
             0.3333333333333333,
             "#9c179e"
            ],
            [
             0.4444444444444444,
             "#bd3786"
            ],
            [
             0.5555555555555556,
             "#d8576b"
            ],
            [
             0.6666666666666666,
             "#ed7953"
            ],
            [
             0.7777777777777778,
             "#fb9f3a"
            ],
            [
             0.8888888888888888,
             "#fdca26"
            ],
            [
             1,
             "#f0f921"
            ]
           ],
           "sequentialminus": [
            [
             0,
             "#0d0887"
            ],
            [
             0.1111111111111111,
             "#46039f"
            ],
            [
             0.2222222222222222,
             "#7201a8"
            ],
            [
             0.3333333333333333,
             "#9c179e"
            ],
            [
             0.4444444444444444,
             "#bd3786"
            ],
            [
             0.5555555555555556,
             "#d8576b"
            ],
            [
             0.6666666666666666,
             "#ed7953"
            ],
            [
             0.7777777777777778,
             "#fb9f3a"
            ],
            [
             0.8888888888888888,
             "#fdca26"
            ],
            [
             1,
             "#f0f921"
            ]
           ]
          },
          "colorway": [
           "#636efa",
           "#EF553B",
           "#00cc96",
           "#ab63fa",
           "#FFA15A",
           "#19d3f3",
           "#FF6692",
           "#B6E880",
           "#FF97FF",
           "#FECB52"
          ],
          "font": {
           "color": "#2a3f5f"
          },
          "geo": {
           "bgcolor": "white",
           "lakecolor": "white",
           "landcolor": "#E5ECF6",
           "showlakes": true,
           "showland": true,
           "subunitcolor": "white"
          },
          "hoverlabel": {
           "align": "left"
          },
          "hovermode": "closest",
          "mapbox": {
           "style": "light"
          },
          "paper_bgcolor": "white",
          "plot_bgcolor": "#E5ECF6",
          "polar": {
           "angularaxis": {
            "gridcolor": "white",
            "linecolor": "white",
            "ticks": ""
           },
           "bgcolor": "#E5ECF6",
           "radialaxis": {
            "gridcolor": "white",
            "linecolor": "white",
            "ticks": ""
           }
          },
          "scene": {
           "xaxis": {
            "backgroundcolor": "#E5ECF6",
            "gridcolor": "white",
            "gridwidth": 2,
            "linecolor": "white",
            "showbackground": true,
            "ticks": "",
            "zerolinecolor": "white"
           },
           "yaxis": {
            "backgroundcolor": "#E5ECF6",
            "gridcolor": "white",
            "gridwidth": 2,
            "linecolor": "white",
            "showbackground": true,
            "ticks": "",
            "zerolinecolor": "white"
           },
           "zaxis": {
            "backgroundcolor": "#E5ECF6",
            "gridcolor": "white",
            "gridwidth": 2,
            "linecolor": "white",
            "showbackground": true,
            "ticks": "",
            "zerolinecolor": "white"
           }
          },
          "shapedefaults": {
           "line": {
            "color": "#2a3f5f"
           }
          },
          "ternary": {
           "aaxis": {
            "gridcolor": "white",
            "linecolor": "white",
            "ticks": ""
           },
           "baxis": {
            "gridcolor": "white",
            "linecolor": "white",
            "ticks": ""
           },
           "bgcolor": "#E5ECF6",
           "caxis": {
            "gridcolor": "white",
            "linecolor": "white",
            "ticks": ""
           }
          },
          "title": {
           "x": 0.05
          },
          "xaxis": {
           "automargin": true,
           "gridcolor": "white",
           "linecolor": "white",
           "ticks": "",
           "title": {
            "standoff": 15
           },
           "zerolinecolor": "white",
           "zerolinewidth": 2
          },
          "yaxis": {
           "automargin": true,
           "gridcolor": "white",
           "linecolor": "white",
           "ticks": "",
           "title": {
            "standoff": 15
           },
           "zerolinecolor": "white",
           "zerolinewidth": 2
          }
         }
        }
       }
      }
     },
     "metadata": {},
     "output_type": "display_data"
    }
   ],
   "source": [
    "fig = px.scatter_3d(df, x='Energy_density', y='TPE_black', z='Overlap',\n",
    "              color='TPE_black')\n",
    "fig.show()"
   ]
  },
  {
   "cell_type": "code",
   "execution_count": null,
   "metadata": {},
   "outputs": [
    {
     "data": {
      "application/vnd.plotly.v1+json": {
       "config": {
        "plotlyServerURL": "https://plot.ly"
       },
       "data": [
        {
         "hovertemplate": "Energy_density=%{x}<br>TPE_white=%{marker.color}<br>Overlap=%{z}<extra></extra>",
         "legendgroup": "",
         "marker": {
          "color": [
           41.0989692948683,
           25.6868214546267,
           25.0845782748732,
           43.7494888206385,
           30.6585172747456,
           8.77516754962788,
           37.8934656738723,
           32.4158769106029,
           10.3877790866879,
           39.9101698080331,
           28.3641426403495,
           18.5482539652894,
           42.9783406775444,
           40.2195244189789,
           16.2509200461757,
           38.9824980425988,
           36.3253382308236,
           18.9549811997422,
           8.64763268852366,
           39.1785907656005,
           21.7668376315465,
           43.346182668333,
           44.3186949988731,
           28.2937026119716,
           38.9226369534067,
           47.0331108400878,
           30.7090465671311,
           37.4219615118769,
           22.9280250658471,
           10.3768316385171,
           40.2678618109551,
           29.1327557140158,
           11.4513183172108,
           35.833703582001,
           29.5786001525224,
           8.4107847449292,
           38.3574607627,
           27.9253702415741,
           17.1152989477829,
           40.3409350806387,
           37.5089162051274,
           18.8582804454601,
           35.5840872547504,
           37.931988344873,
           15.4853465920032,
           37.47710314436,
           34.594792371681,
           20.3289279968203,
           40.411149953771,
           40.2330473238447,
           23.6137912926155,
           33.8060073015625,
           42.3407379726943,
           26.1638394393326,
           37.9254645939452,
           23.1907046288492,
           10.0150110573214,
           40.1796776305951,
           28.8840675825361,
           8.76109529774838,
           33.4190504645507,
           28.8315858324894,
           9.18511326960144,
           37.8184644535225,
           29.1753926765803,
           17.2972504903266,
           42.6244165040215,
           38.5713446456647,
           19.7432207565498,
           34.8806753220686,
           38.8923375267516,
           17.9923364632502,
           37.7902800649737,
           37.0637066488726,
           19.5155204300026,
           40.1441320239882,
           39.4917186019035,
           25.3726523008264,
           34.8999204468245,
           43.5040282305548,
           26.8594707775766
          ],
          "coloraxis": "coloraxis",
          "symbol": "circle"
         },
         "mode": "markers",
         "name": "",
         "scene": "scene",
         "showlegend": false,
         "type": "scatter3d",
         "x": [
          10.981691073340789,
          3.660563691113596,
          2.196338214668158,
          10.981691073340789,
          3.660563691113596,
          2.196338214668158,
          10.981691073340789,
          3.660563691113596,
          2.196338214668158,
          14.642254764454385,
          4.880751588151462,
          2.928450952890877,
          14.642254764454385,
          4.880751588151462,
          2.928450952890877,
          14.642254764454385,
          4.880751588151462,
          2.928450952890877,
          18.30281845556798,
          6.100939485189326,
          3.6605636911135964,
          18.30281845556798,
          6.100939485189326,
          3.6605636911135964,
          18.30281845556798,
          6.100939485189326,
          3.6605636911135964,
          3.5858583096622976,
          1.1952861032207658,
          0.7171716619324594,
          3.5858583096622976,
          1.1952861032207658,
          0.7171716619324594,
          3.5858583096622976,
          1.1952861032207658,
          0.7171716619324594,
          4.781144412883063,
          1.5937148042943543,
          0.9562288825766126,
          4.781144412883063,
          1.5937148042943543,
          0.9562288825766126,
          4.781144412883063,
          1.5937148042943543,
          0.9562288825766126,
          5.976430516103829,
          1.9921435053679428,
          1.1952861032207658,
          5.976430516103829,
          1.9921435053679428,
          1.1952861032207658,
          5.976430516103829,
          1.9921435053679428,
          1.1952861032207658,
          1.7570705717345259,
          0.5856901905781754,
          0.3514141143469052,
          1.7570705717345259,
          0.5856901905781754,
          0.3514141143469052,
          1.7570705717345259,
          0.5856901905781754,
          0.3514141143469052,
          2.342760762312701,
          0.7809202541042338,
          0.4685521524625403,
          2.342760762312701,
          0.7809202541042338,
          0.4685521524625403,
          2.342760762312701,
          0.7809202541042338,
          0.4685521524625403,
          2.9284509528908766,
          0.9761503176302923,
          0.5856901905781754,
          2.9284509528908766,
          0.9761503176302923,
          0.5856901905781754,
          2.9284509528908766,
          0.9761503176302923,
          0.5856901905781754
         ],
         "y": [
          41.0989692948683,
          25.6868214546267,
          25.0845782748732,
          43.7494888206385,
          30.6585172747456,
          8.77516754962788,
          37.8934656738723,
          32.4158769106029,
          10.3877790866879,
          39.9101698080331,
          28.3641426403495,
          18.5482539652894,
          42.9783406775444,
          40.2195244189789,
          16.2509200461757,
          38.9824980425988,
          36.3253382308236,
          18.9549811997422,
          8.64763268852366,
          39.1785907656005,
          21.7668376315465,
          43.346182668333,
          44.3186949988731,
          28.2937026119716,
          38.9226369534067,
          47.0331108400878,
          30.7090465671311,
          37.4219615118769,
          22.9280250658471,
          10.3768316385171,
          40.2678618109551,
          29.1327557140158,
          11.4513183172108,
          35.833703582001,
          29.5786001525224,
          8.4107847449292,
          38.3574607627,
          27.9253702415741,
          17.1152989477829,
          40.3409350806387,
          37.5089162051274,
          18.8582804454601,
          35.5840872547504,
          37.931988344873,
          15.4853465920032,
          37.47710314436,
          34.594792371681,
          20.3289279968203,
          40.411149953771,
          40.2330473238447,
          23.6137912926155,
          33.8060073015625,
          42.3407379726943,
          26.1638394393326,
          37.9254645939452,
          23.1907046288492,
          10.0150110573214,
          40.1796776305951,
          28.8840675825361,
          8.76109529774838,
          33.4190504645507,
          28.8315858324894,
          9.18511326960144,
          37.8184644535225,
          29.1753926765803,
          17.2972504903266,
          42.6244165040215,
          38.5713446456647,
          19.7432207565498,
          34.8806753220686,
          38.8923375267516,
          17.9923364632502,
          37.7902800649737,
          37.0637066488726,
          19.5155204300026,
          40.1441320239882,
          39.4917186019035,
          25.3726523008264,
          34.8999204468245,
          43.5040282305548,
          26.8594707775766
         ],
         "z": [
          50,
          83.33333333333333,
          90.00000000000001,
          -100,
          33.33333333333333,
          60,
          -199.99999999999994,
          0,
          40,
          50,
          83.33333333333333,
          90.00000000000001,
          -100,
          33.33333333333333,
          60,
          -199.99999999999994,
          0,
          40,
          50,
          83.33333333333333,
          90.00000000000001,
          -100,
          33.33333333333333,
          60,
          -199.99999999999994,
          0,
          40,
          71.42857142857143,
          90.47619047619048,
          94.28571428571428,
          -14.285714285714276,
          61.9047619047619,
          77.14285714285715,
          -71.4285714285714,
          42.85714285714286,
          65.71428571428571,
          71.42857142857143,
          90.47619047619048,
          94.28571428571428,
          -14.285714285714276,
          61.9047619047619,
          77.14285714285715,
          -71.4285714285714,
          42.85714285714286,
          65.71428571428571,
          71.42857142857143,
          90.47619047619048,
          94.28571428571428,
          -14.285714285714276,
          61.9047619047619,
          77.14285714285715,
          -71.4285714285714,
          42.85714285714286,
          65.71428571428571,
          80,
          93.33333333333333,
          96,
          20.000000000000004,
          73.33333333333333,
          84,
          -19.99999999999999,
          60,
          76.00000000000001,
          80,
          93.33333333333333,
          96,
          20.000000000000004,
          73.33333333333333,
          84,
          -19.99999999999999,
          60,
          76.00000000000001,
          80,
          93.33333333333333,
          96,
          20.000000000000004,
          73.33333333333333,
          84,
          -19.99999999999999,
          60,
          76.00000000000001
         ]
        }
       ],
       "layout": {
        "coloraxis": {
         "colorbar": {
          "title": {
           "text": "TPE_white"
          }
         },
         "colorscale": [
          [
           0,
           "#0d0887"
          ],
          [
           0.1111111111111111,
           "#46039f"
          ],
          [
           0.2222222222222222,
           "#7201a8"
          ],
          [
           0.3333333333333333,
           "#9c179e"
          ],
          [
           0.4444444444444444,
           "#bd3786"
          ],
          [
           0.5555555555555556,
           "#d8576b"
          ],
          [
           0.6666666666666666,
           "#ed7953"
          ],
          [
           0.7777777777777778,
           "#fb9f3a"
          ],
          [
           0.8888888888888888,
           "#fdca26"
          ],
          [
           1,
           "#f0f921"
          ]
         ]
        },
        "legend": {
         "tracegroupgap": 0
        },
        "margin": {
         "t": 60
        },
        "scene": {
         "domain": {
          "x": [
           0,
           1
          ],
          "y": [
           0,
           1
          ]
         },
         "xaxis": {
          "title": {
           "text": "Energy_density"
          }
         },
         "yaxis": {
          "title": {
           "text": "TPE_white"
          }
         },
         "zaxis": {
          "title": {
           "text": "Overlap"
          }
         }
        },
        "template": {
         "data": {
          "bar": [
           {
            "error_x": {
             "color": "#2a3f5f"
            },
            "error_y": {
             "color": "#2a3f5f"
            },
            "marker": {
             "line": {
              "color": "#E5ECF6",
              "width": 0.5
             },
             "pattern": {
              "fillmode": "overlay",
              "size": 10,
              "solidity": 0.2
             }
            },
            "type": "bar"
           }
          ],
          "barpolar": [
           {
            "marker": {
             "line": {
              "color": "#E5ECF6",
              "width": 0.5
             },
             "pattern": {
              "fillmode": "overlay",
              "size": 10,
              "solidity": 0.2
             }
            },
            "type": "barpolar"
           }
          ],
          "carpet": [
           {
            "aaxis": {
             "endlinecolor": "#2a3f5f",
             "gridcolor": "white",
             "linecolor": "white",
             "minorgridcolor": "white",
             "startlinecolor": "#2a3f5f"
            },
            "baxis": {
             "endlinecolor": "#2a3f5f",
             "gridcolor": "white",
             "linecolor": "white",
             "minorgridcolor": "white",
             "startlinecolor": "#2a3f5f"
            },
            "type": "carpet"
           }
          ],
          "choropleth": [
           {
            "colorbar": {
             "outlinewidth": 0,
             "ticks": ""
            },
            "type": "choropleth"
           }
          ],
          "contour": [
           {
            "colorbar": {
             "outlinewidth": 0,
             "ticks": ""
            },
            "colorscale": [
             [
              0,
              "#0d0887"
             ],
             [
              0.1111111111111111,
              "#46039f"
             ],
             [
              0.2222222222222222,
              "#7201a8"
             ],
             [
              0.3333333333333333,
              "#9c179e"
             ],
             [
              0.4444444444444444,
              "#bd3786"
             ],
             [
              0.5555555555555556,
              "#d8576b"
             ],
             [
              0.6666666666666666,
              "#ed7953"
             ],
             [
              0.7777777777777778,
              "#fb9f3a"
             ],
             [
              0.8888888888888888,
              "#fdca26"
             ],
             [
              1,
              "#f0f921"
             ]
            ],
            "type": "contour"
           }
          ],
          "contourcarpet": [
           {
            "colorbar": {
             "outlinewidth": 0,
             "ticks": ""
            },
            "type": "contourcarpet"
           }
          ],
          "heatmap": [
           {
            "colorbar": {
             "outlinewidth": 0,
             "ticks": ""
            },
            "colorscale": [
             [
              0,
              "#0d0887"
             ],
             [
              0.1111111111111111,
              "#46039f"
             ],
             [
              0.2222222222222222,
              "#7201a8"
             ],
             [
              0.3333333333333333,
              "#9c179e"
             ],
             [
              0.4444444444444444,
              "#bd3786"
             ],
             [
              0.5555555555555556,
              "#d8576b"
             ],
             [
              0.6666666666666666,
              "#ed7953"
             ],
             [
              0.7777777777777778,
              "#fb9f3a"
             ],
             [
              0.8888888888888888,
              "#fdca26"
             ],
             [
              1,
              "#f0f921"
             ]
            ],
            "type": "heatmap"
           }
          ],
          "heatmapgl": [
           {
            "colorbar": {
             "outlinewidth": 0,
             "ticks": ""
            },
            "colorscale": [
             [
              0,
              "#0d0887"
             ],
             [
              0.1111111111111111,
              "#46039f"
             ],
             [
              0.2222222222222222,
              "#7201a8"
             ],
             [
              0.3333333333333333,
              "#9c179e"
             ],
             [
              0.4444444444444444,
              "#bd3786"
             ],
             [
              0.5555555555555556,
              "#d8576b"
             ],
             [
              0.6666666666666666,
              "#ed7953"
             ],
             [
              0.7777777777777778,
              "#fb9f3a"
             ],
             [
              0.8888888888888888,
              "#fdca26"
             ],
             [
              1,
              "#f0f921"
             ]
            ],
            "type": "heatmapgl"
           }
          ],
          "histogram": [
           {
            "marker": {
             "pattern": {
              "fillmode": "overlay",
              "size": 10,
              "solidity": 0.2
             }
            },
            "type": "histogram"
           }
          ],
          "histogram2d": [
           {
            "colorbar": {
             "outlinewidth": 0,
             "ticks": ""
            },
            "colorscale": [
             [
              0,
              "#0d0887"
             ],
             [
              0.1111111111111111,
              "#46039f"
             ],
             [
              0.2222222222222222,
              "#7201a8"
             ],
             [
              0.3333333333333333,
              "#9c179e"
             ],
             [
              0.4444444444444444,
              "#bd3786"
             ],
             [
              0.5555555555555556,
              "#d8576b"
             ],
             [
              0.6666666666666666,
              "#ed7953"
             ],
             [
              0.7777777777777778,
              "#fb9f3a"
             ],
             [
              0.8888888888888888,
              "#fdca26"
             ],
             [
              1,
              "#f0f921"
             ]
            ],
            "type": "histogram2d"
           }
          ],
          "histogram2dcontour": [
           {
            "colorbar": {
             "outlinewidth": 0,
             "ticks": ""
            },
            "colorscale": [
             [
              0,
              "#0d0887"
             ],
             [
              0.1111111111111111,
              "#46039f"
             ],
             [
              0.2222222222222222,
              "#7201a8"
             ],
             [
              0.3333333333333333,
              "#9c179e"
             ],
             [
              0.4444444444444444,
              "#bd3786"
             ],
             [
              0.5555555555555556,
              "#d8576b"
             ],
             [
              0.6666666666666666,
              "#ed7953"
             ],
             [
              0.7777777777777778,
              "#fb9f3a"
             ],
             [
              0.8888888888888888,
              "#fdca26"
             ],
             [
              1,
              "#f0f921"
             ]
            ],
            "type": "histogram2dcontour"
           }
          ],
          "mesh3d": [
           {
            "colorbar": {
             "outlinewidth": 0,
             "ticks": ""
            },
            "type": "mesh3d"
           }
          ],
          "parcoords": [
           {
            "line": {
             "colorbar": {
              "outlinewidth": 0,
              "ticks": ""
             }
            },
            "type": "parcoords"
           }
          ],
          "pie": [
           {
            "automargin": true,
            "type": "pie"
           }
          ],
          "scatter": [
           {
            "fillpattern": {
             "fillmode": "overlay",
             "size": 10,
             "solidity": 0.2
            },
            "type": "scatter"
           }
          ],
          "scatter3d": [
           {
            "line": {
             "colorbar": {
              "outlinewidth": 0,
              "ticks": ""
             }
            },
            "marker": {
             "colorbar": {
              "outlinewidth": 0,
              "ticks": ""
             }
            },
            "type": "scatter3d"
           }
          ],
          "scattercarpet": [
           {
            "marker": {
             "colorbar": {
              "outlinewidth": 0,
              "ticks": ""
             }
            },
            "type": "scattercarpet"
           }
          ],
          "scattergeo": [
           {
            "marker": {
             "colorbar": {
              "outlinewidth": 0,
              "ticks": ""
             }
            },
            "type": "scattergeo"
           }
          ],
          "scattergl": [
           {
            "marker": {
             "colorbar": {
              "outlinewidth": 0,
              "ticks": ""
             }
            },
            "type": "scattergl"
           }
          ],
          "scattermapbox": [
           {
            "marker": {
             "colorbar": {
              "outlinewidth": 0,
              "ticks": ""
             }
            },
            "type": "scattermapbox"
           }
          ],
          "scatterpolar": [
           {
            "marker": {
             "colorbar": {
              "outlinewidth": 0,
              "ticks": ""
             }
            },
            "type": "scatterpolar"
           }
          ],
          "scatterpolargl": [
           {
            "marker": {
             "colorbar": {
              "outlinewidth": 0,
              "ticks": ""
             }
            },
            "type": "scatterpolargl"
           }
          ],
          "scatterternary": [
           {
            "marker": {
             "colorbar": {
              "outlinewidth": 0,
              "ticks": ""
             }
            },
            "type": "scatterternary"
           }
          ],
          "surface": [
           {
            "colorbar": {
             "outlinewidth": 0,
             "ticks": ""
            },
            "colorscale": [
             [
              0,
              "#0d0887"
             ],
             [
              0.1111111111111111,
              "#46039f"
             ],
             [
              0.2222222222222222,
              "#7201a8"
             ],
             [
              0.3333333333333333,
              "#9c179e"
             ],
             [
              0.4444444444444444,
              "#bd3786"
             ],
             [
              0.5555555555555556,
              "#d8576b"
             ],
             [
              0.6666666666666666,
              "#ed7953"
             ],
             [
              0.7777777777777778,
              "#fb9f3a"
             ],
             [
              0.8888888888888888,
              "#fdca26"
             ],
             [
              1,
              "#f0f921"
             ]
            ],
            "type": "surface"
           }
          ],
          "table": [
           {
            "cells": {
             "fill": {
              "color": "#EBF0F8"
             },
             "line": {
              "color": "white"
             }
            },
            "header": {
             "fill": {
              "color": "#C8D4E3"
             },
             "line": {
              "color": "white"
             }
            },
            "type": "table"
           }
          ]
         },
         "layout": {
          "annotationdefaults": {
           "arrowcolor": "#2a3f5f",
           "arrowhead": 0,
           "arrowwidth": 1
          },
          "autotypenumbers": "strict",
          "coloraxis": {
           "colorbar": {
            "outlinewidth": 0,
            "ticks": ""
           }
          },
          "colorscale": {
           "diverging": [
            [
             0,
             "#8e0152"
            ],
            [
             0.1,
             "#c51b7d"
            ],
            [
             0.2,
             "#de77ae"
            ],
            [
             0.3,
             "#f1b6da"
            ],
            [
             0.4,
             "#fde0ef"
            ],
            [
             0.5,
             "#f7f7f7"
            ],
            [
             0.6,
             "#e6f5d0"
            ],
            [
             0.7,
             "#b8e186"
            ],
            [
             0.8,
             "#7fbc41"
            ],
            [
             0.9,
             "#4d9221"
            ],
            [
             1,
             "#276419"
            ]
           ],
           "sequential": [
            [
             0,
             "#0d0887"
            ],
            [
             0.1111111111111111,
             "#46039f"
            ],
            [
             0.2222222222222222,
             "#7201a8"
            ],
            [
             0.3333333333333333,
             "#9c179e"
            ],
            [
             0.4444444444444444,
             "#bd3786"
            ],
            [
             0.5555555555555556,
             "#d8576b"
            ],
            [
             0.6666666666666666,
             "#ed7953"
            ],
            [
             0.7777777777777778,
             "#fb9f3a"
            ],
            [
             0.8888888888888888,
             "#fdca26"
            ],
            [
             1,
             "#f0f921"
            ]
           ],
           "sequentialminus": [
            [
             0,
             "#0d0887"
            ],
            [
             0.1111111111111111,
             "#46039f"
            ],
            [
             0.2222222222222222,
             "#7201a8"
            ],
            [
             0.3333333333333333,
             "#9c179e"
            ],
            [
             0.4444444444444444,
             "#bd3786"
            ],
            [
             0.5555555555555556,
             "#d8576b"
            ],
            [
             0.6666666666666666,
             "#ed7953"
            ],
            [
             0.7777777777777778,
             "#fb9f3a"
            ],
            [
             0.8888888888888888,
             "#fdca26"
            ],
            [
             1,
             "#f0f921"
            ]
           ]
          },
          "colorway": [
           "#636efa",
           "#EF553B",
           "#00cc96",
           "#ab63fa",
           "#FFA15A",
           "#19d3f3",
           "#FF6692",
           "#B6E880",
           "#FF97FF",
           "#FECB52"
          ],
          "font": {
           "color": "#2a3f5f"
          },
          "geo": {
           "bgcolor": "white",
           "lakecolor": "white",
           "landcolor": "#E5ECF6",
           "showlakes": true,
           "showland": true,
           "subunitcolor": "white"
          },
          "hoverlabel": {
           "align": "left"
          },
          "hovermode": "closest",
          "mapbox": {
           "style": "light"
          },
          "paper_bgcolor": "white",
          "plot_bgcolor": "#E5ECF6",
          "polar": {
           "angularaxis": {
            "gridcolor": "white",
            "linecolor": "white",
            "ticks": ""
           },
           "bgcolor": "#E5ECF6",
           "radialaxis": {
            "gridcolor": "white",
            "linecolor": "white",
            "ticks": ""
           }
          },
          "scene": {
           "xaxis": {
            "backgroundcolor": "#E5ECF6",
            "gridcolor": "white",
            "gridwidth": 2,
            "linecolor": "white",
            "showbackground": true,
            "ticks": "",
            "zerolinecolor": "white"
           },
           "yaxis": {
            "backgroundcolor": "#E5ECF6",
            "gridcolor": "white",
            "gridwidth": 2,
            "linecolor": "white",
            "showbackground": true,
            "ticks": "",
            "zerolinecolor": "white"
           },
           "zaxis": {
            "backgroundcolor": "#E5ECF6",
            "gridcolor": "white",
            "gridwidth": 2,
            "linecolor": "white",
            "showbackground": true,
            "ticks": "",
            "zerolinecolor": "white"
           }
          },
          "shapedefaults": {
           "line": {
            "color": "#2a3f5f"
           }
          },
          "ternary": {
           "aaxis": {
            "gridcolor": "white",
            "linecolor": "white",
            "ticks": ""
           },
           "baxis": {
            "gridcolor": "white",
            "linecolor": "white",
            "ticks": ""
           },
           "bgcolor": "#E5ECF6",
           "caxis": {
            "gridcolor": "white",
            "linecolor": "white",
            "ticks": ""
           }
          },
          "title": {
           "x": 0.05
          },
          "xaxis": {
           "automargin": true,
           "gridcolor": "white",
           "linecolor": "white",
           "ticks": "",
           "title": {
            "standoff": 15
           },
           "zerolinecolor": "white",
           "zerolinewidth": 2
          },
          "yaxis": {
           "automargin": true,
           "gridcolor": "white",
           "linecolor": "white",
           "ticks": "",
           "title": {
            "standoff": 15
           },
           "zerolinecolor": "white",
           "zerolinewidth": 2
          }
         }
        }
       }
      }
     },
     "metadata": {},
     "output_type": "display_data"
    }
   ],
   "source": [
    "fig = px.scatter_3d(df, x='Energy_density', y='TPE_white', z='Overlap',\n",
    "              color='TPE_white')\n",
    "fig.show()"
   ]
  }
 ],
 "metadata": {
  "kernelspec": {
   "display_name": "tf2.5",
   "language": "python",
   "name": "python3"
  },
  "language_info": {
   "codemirror_mode": {
    "name": "ipython",
    "version": 3
   },
   "file_extension": ".py",
   "mimetype": "text/x-python",
   "name": "python",
   "nbconvert_exporter": "python",
   "pygments_lexer": "ipython3",
   "version": "3.8.0"
  }
 },
 "nbformat": 4,
 "nbformat_minor": 2
}
